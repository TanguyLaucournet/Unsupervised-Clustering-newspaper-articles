{
  "nbformat": 4,
  "nbformat_minor": 0,
  "metadata": {
    "colab": {
      "name": "FinalPythonProject.ipynb",
      "provenance": [],
      "collapsed_sections": []
    },
    "kernelspec": {
      "display_name": "Python 3",
      "name": "python3"
    },
    "language_info": {
      "name": "python"
    }
  },
  "cells": [
    {
      "cell_type": "markdown",
      "metadata": {
        "id": "CVe7xyM3WdZw"
      },
      "source": [
        "### Projet Python Clustering de journaux"
      ]
    },
    {
      "cell_type": "markdown",
      "metadata": {
        "id": "1Jjd_tpQXeBc"
      },
      "source": [
        "Henry Faure-Geors et Tanguy Laucournet"
      ]
    },
    {
      "cell_type": "markdown",
      "metadata": {
        "id": "z-KC7jh-Whmy"
      },
      "source": [
        "## Introduction\n",
        "\n",
        "Voici notre rapport de projet sur le clusturing de journaux. Dans ce rapport, nous aborderons les fonctions de notre programme ainsi que les conclusions que nous avons pu tirer de l’interprétation des résultats\n"
      ]
    },
    {
      "cell_type": "markdown",
      "metadata": {
        "id": "E7uDE0FAWoBQ"
      },
      "source": [
        "## Le projet\n",
        "\n",
        "L’objectif durant ce projet était de faire du scraping des journaux afin de récupérer des articles pour ensuite utiliser un algorithme non supervisé afin de faire de la prédiction de catégorie d’article (via clustering). Pour ce faire, nous avons principalement utilisé BeautifulSoup et request afin de récupérer le corps du site que nous avons choisi : Les échos, ainsi que les urls d’articles catégorisé par le site (par exemple économie, Politique, Monde, …). Nous employons ensuite une méthode pour récupérer le texte de ces articles et nous les stockons.\n",
        "\n",
        "Afin de réaliser le clustering, nous allons tout d’abord préparer nos données en utilisant la fonction TfidfVectorizer de la librairie sklearn.feature_extraction.text tout en lui fournissant une liste de sw que nous aurons étendu manuellement afin d’éliminer des mots que nous jugeons inutile pour le clustering et que nous avons observé au fil de nos test. Après avoir créé notre matrice répertoriant la fréquence des mots dans nos texte, nous entrainons un model kmeans que nous utiliserons pour déterminer à quel Cluster appartient un article donné en paramètre. \n"
      ]
    },
    {
      "cell_type": "code",
      "metadata": {
        "colab": {
          "base_uri": "https://localhost:8080/"
        },
        "id": "CtPS9A9b1aSh",
        "outputId": "71858fba-b41b-498c-8e06-c634e8bb7e56"
      },
      "source": [
        "from requests import get\n",
        "import bs4 as bs\n",
        "import nltk\n",
        "from bs4 import BeautifulSoup\n",
        "import pandas as pd\n",
        "import string\n",
        "import numpy as np\n",
        "import matplotlib.pyplot as plt\n",
        "from nltk.corpus import stopwords\n",
        "from sklearn.feature_extraction.text import TfidfVectorizer\n",
        "from sklearn.cluster import KMeans\n",
        "nltk.download(\"stopwords\")\n",
        "nltk.download('punkt')"
      ],
      "execution_count": 55,
      "outputs": [
        {
          "output_type": "stream",
          "text": [
            "[nltk_data] Downloading package stopwords to /root/nltk_data...\n",
            "[nltk_data]   Package stopwords is already up-to-date!\n",
            "[nltk_data] Downloading package punkt to /root/nltk_data...\n",
            "[nltk_data]   Package punkt is already up-to-date!\n"
          ],
          "name": "stdout"
        },
        {
          "output_type": "execute_result",
          "data": {
            "text/plain": [
              "True"
            ]
          },
          "metadata": {
            "tags": []
          },
          "execution_count": 55
        }
      ]
    },
    {
      "cell_type": "markdown",
      "metadata": {
        "id": "ic-fn8Z6UTGW"
      },
      "source": [
        "Fonction permettant de récupérer les urls de tous les articles présent sur une page web"
      ]
    },
    {
      "cell_type": "code",
      "metadata": {
        "id": "JcXxgJYxYkIu"
      },
      "source": [
        "def Fetch_Url(url, array):\n",
        "    tempo_arr = []\n",
        "    response = Check_Web_Connection(url)\n",
        "    soup = Get_Web_Soup(response)\n",
        "    body = soup.find(id='app')\n",
        "    articles = body.find_all('div',class_=\"sc-AxjAm sc-1ttlxdz-0 bTKqUl\")\n",
        "    for elem in articles:\n",
        "        url = elem.find_all('a',href=True)\n",
        "        for i in url:\n",
        "            tempo_arr.append(i['href'])\n",
        "    for i in range(50): # defini le nbr d'article prix\n",
        "        \n",
        "        if i%2 == 0:\n",
        "            array.append(tempo_arr[i])\n"
      ],
      "execution_count": 56,
      "outputs": []
    },
    {
      "cell_type": "code",
      "metadata": {
        "colab": {
          "base_uri": "https://localhost:8080/"
        },
        "id": "MGS3rHSY5-76",
        "outputId": "45a9d169-a8c9-49c8-a2b1-ecb4b5b2a3e6"
      },
      "source": [
        "url_array = []\n",
        "pol = 'https://www.lesechos.fr/politique-societe'\n",
        "eco=\"https://www.lesechos.fr/economie-france\"\n",
        "monde=\"https://www.lesechos.fr/monde\"\n",
        "tech=\"https://www.lesechos.fr/tech-medias\"\n",
        "entreprise=\"https://www.lesechos.fr/industrie-services\"\n",
        "bourse=\"https://www.lesechos.fr/bourse\"\n",
        "finance=\"https://www.lesechos.fr/finance-marches\"\n",
        "region=\"https://www.lesechos.fr/pme-regions\"\n",
        "patrimoine=\"https://www.lesechos.fr/patrimoine\"\n",
        "url_array.append(Fetch_Url(pol,url_array))\n",
        "url_array.append(Fetch_Url(eco,url_array))\n",
        "url_array.append(Fetch_Url(monde,url_array))\n",
        "url_array.append(Fetch_Url(tech,url_array))\n",
        "url_array.append(Fetch_Url(entreprise,url_array))\n",
        "url_array.append(Fetch_Url(bourse,url_array))\n",
        "url_array.append(Fetch_Url(finance,url_array))\n",
        "url_array.append(Fetch_Url(region,url_array))\n",
        "url_array.append(Fetch_Url(patrimoine,url_array))\n",
        "\n",
        "print(url_array)"
      ],
      "execution_count": 58,
      "outputs": [
        {
          "output_type": "stream",
          "text": [
            "['/politique-societe/gouvernement/loi-climat-lassemblee-renforce-la-vigilance-sur-la-publicite-1304253', '/politique-societe/societe/marlene-schiappa-appelle-a-la-responsabilite-et-denonce-lindignite-de-lopposition-1304173', '/politique-societe/societe/fermeture-des-ecoles-les-embuches-a-surmonter-pour-lenseignement-a-distance-1304141', '/politique-societe/regions/covid-les-communes-sous-pression-avec-la-fermeture-des-ecoles-1304048', '/politique-societe/societe/confinement-les-assistantes-maternelles-finalement-autorisees-a-garder-les-enfants-1304019', '/politique-societe/societe/lidee-dun-revenu-de-base-pour-les-18-24-ans-fait-son-chemin-1304010', '/politique-societe/gouvernement/projet-de-loi-climat-les-deputes-recadrent-les-engagements-volontaires-des-entreprises-1303960', '/politique-societe/societe/concours-dacces-aux-grandes-ecoles-pas-de-test-pcr-pour-les-epreuves-ecrites-1303942', '/politique-societe/societe/covid-les-questions-que-pose-le-reconfinement-1303940', '/pme-regions/occitanie/toulouse-jean-luc-moudenc-desavoue-sur-son-plan-local-durbanisme-1303918', '/politique-societe/emmanuel-macron-president/covid-macron-ecoute-t-il-trop-les-oppositions-1303845', '/politique-societe/politique/probable-maintien-des-elections-regionales-en-juin-1303710', '/politique-societe/politique/covid-jean-castex-sous-le-feu-des-critiques-des-oppositions-1303703', '/politique-societe/societe/concours-les-grandes-ecoles-songent-a-imposer-un-test-pcr-aux-candidats-1303720', '/politique-societe/societe/ecoles-du-monde-face-au-covid-1303674', '/politique-societe/politique/aurelien-pradie-la-comedie-permanente-ne-peut-plus-cacher-limpuissance-politique-de-macron-1303672', '/politique-societe/societe/covid-le-bac-et-les-concours-devraient-etre-maintenus-1303624', '/politique-societe/gouvernement/covid-pilonne-par-les-oppositions-jean-castex-precise-les-restrictions-1303569', '/economie-france/social/covid-olivier-veran-sattend-a-10000-patients-en-reanimation-fin-avril-1303488', '/politique-societe/politique/covid-lopposition-accuse-macron-de-ne-pas-assumer-ses-incoherences-1303459', '/politique-societe/emmanuel-macron-president/freiner-vacciner-le-nouveau-pari-de-macron-1303415', '/economie-france/social/teletravail-chomage-partiel-ce-que-change-la-fermeture-des-ecoles-1303388', '/economie-france/budget-fiscalite/covid-bercy-revoit-a-la-hausse-a-11-milliards-par-mois-le-cout-des-aides-aux-entreprises-1303384', '/politique-societe/emmanuel-macron-president/ecoles-deplacements-vacances-commerces-les-nouvelles-regles-annoncees-par-emmanuel-macron-1303382', '/economie-france/social/covid-les-plus-de-60-ans-pourront-se-faire-vacciner-des-le-16-avril-1303367', None, '/economie-france/conjoncture/covid-le-gouvernement-abaisse-sa-prevision-de-croissance-pour-2021-a-5-1304166', '/economie-france/social/covid-plus-dun-soignant-sur-deux-a-recu-une-premiere-dose-de-vaccin-1304111', '/economie-france/social/covid-les-vrais-chiffres-des-reanimations-1304063', '/economie-france/social/covid-la-fonction-publique-mise-aussi-sur-le-teletravail-et-la-souplesse-pour-la-garde-denfant-1304004', '/economie-france/social/covid-le-tableau-de-bord-de-la-vaccination-en-france-par-age-et-par-departement-1303994', '/politique-societe/gouvernement/projet-de-loi-climat-les-deputes-recadrent-les-engagements-volontaires-des-entreprises-1303960', '/economie-france/budget-fiscalite/record-de-recettes-fiscales-liees-au-tabac-en-2020-du-fait-du-confinement-1303816', '/economie-france/social/covid-le-calendrier-de-la-vaccination-des-enseignants-demeure-flou-1303783', '/economie-france/social/chomage-partiel-lexecutif-fait-un-geste-pour-les-parents-de-jeunes-enfants-1303732', '/economie-france/social/covid-et-teletravail-les-conditions-pour-soccuper-de-son-enfant-assouplies-1303597', '/economie-france/social/covid-olivier-veran-sattend-a-10000-patients-en-reanimation-fin-avril-1303488', '/economie-france/social/teletravail-chomage-partiel-ce-que-change-la-fermeture-des-ecoles-1303388', '/economie-france/budget-fiscalite/covid-bercy-revoit-a-la-hausse-a-11-milliards-par-mois-le-cout-des-aides-aux-entreprises-1303384', '/economie-france/social/covid-les-plus-de-60-ans-pourront-se-faire-vacciner-des-le-16-avril-1303367', '/economie-france/budget-fiscalite/covid-de-nouvelles-restrictions-qui-mettent-les-entreprises-sous-tension-1303354', '/economie-france/social/lepidemie-de-covid-devore-a-nouveau-la-france-1303310', '/politique-societe/politique/loi-climat-passe-darmes-politique-sur-le-futur-eco-score-1303275', '/economie-france/social/lexecutif-veut-inciter-entreprises-et-collectivites-a-acheter-responsable-1303291', '/economie-france/social/top-depart-pour-le-plan-de-modernisation-de-la-formation-professionnelle-1303104', '/politique-societe/gouvernement/loi-climat-le-gouvernement-va-donner-un-coup-daccelerateur-sur-les-renovations-1303097', '/economie-france/conjoncture/covid-linteressement-et-la-participation-victimes-de-la-crise-1303088', '/economie-france/social/patronat-et-syndicats-refusent-de-perdre-la-maitrise-de-lassurance-chomage-1303046', '/economie-france/social/protection-sociale-le-parlement-tente-delargir-le-champ-de-ses-prerogatives-1303034', '/economie-france/budget-fiscalite/bercy-cherche-le-moyen-d-aller-plus-loin-sur-lactionnariat-salarie-1303017', '/economie-france/social/gaz-cookies-publicitaires-treve-hivernale-ce-qui-change-au-1er-avril-1302941', None, '/monde/asie-pacifique/covid-lasie-du-sud-est-desespere-de-revoir-ses-touristes-chinois-1304230', '/monde/afrique-moyen-orient/leconomie-turque-menacee-par-linflation-et-la-volatilite-1304209', '/monde/enjeux-internationaux/en-direct-lundi-5-avril-covid-le-point-sur-la-situation-en-france-et-dans-le-monde-1304206', '/monde/afrique-moyen-orient/vague-darrestations-en-jordanie-sur-fond-de-lutte-de-pouvoir-au-sein-de-la-famille-royale-1304181', '/monde/europe/erdogan-regarde-en-priorite-vers-washington-qui-ne-lui-fera-plus-aucun-cadeau-1304156', '/monde/enjeux-internationaux/en-direct-dimanche-4-avril-covid-le-point-sur-la-situation-en-france-et-dans-le-monde-1304136', '/monde/enjeux-internationaux/en-direct-samedi-3-avril-covid-le-point-sur-la-situation-en-france-et-dans-le-monde-1304061', '/monde/europe/la-gestion-des-migrants-premier-pas-vers-la-detente-entre-bruxelles-et-ankara-1304060', '/monde/enjeux-internationaux/washington-pret-a-discuter-avec-teheran-dun-retour-dans-laccord-sur-le-nucleaire-1304000', '/monde/etats-unis/le-chomage-recule-fortement-aux-etats-unis-confirmant-la-reprise-1303982', '/monde/europe/pays-bas-mark-rutte-evite-la-deconfiture-de-justesse-1303924', '/monde/europe/covid-leurope-de-louest-fait-un-geste-pour-lest-en-attendant-les-livraisons-de-vaccins-1303901', '/monde/asie-pacifique/birmanie-le-conseil-de-securite-de-lonu-condamne-fermement-les-tueries-1303847', '/monde/etats-unis/etats-unis-lambitieux-plan-de-relance-de-joe-biden-en-six-questions-1303809', '/monde/enjeux-internationaux/en-direct-vendredi-2-avril-covid-le-point-sur-la-situation-en-france-et-dans-le-monde-1303800', '/monde/ameriques/pari-reussi-pour-les-100-jours-de-biden-1303784', '/monde/asie-pacifique/covid-linde-se-bat-contre-une-seconde-vague-et-elargit-sa-campagne-de-vaccination-1303681', '/monde/etats-unis/etats-unis-le-retour-assume-du-big-government-1303679', '/monde/europe/berlin-empetre-dans-sa-taxation-du-co2-1303676', '/monde/etats-unis/etats-unis-le-proces-du-policier-qui-a-tue-george-floyd-ravive-les-tensions-raciales-1303648', '/monde/enjeux-internationaux/aux-etats-unis-pandemie-et-relance-saturent-les-ports-de-la-cote-ouest-1303527', '/monde/europe/russie-alexei-navalny-entame-une-greve-de-la-faim-1303486', '/monde/asie-pacifique/au-japon-les-grandes-entreprises-retrouvent-leur-moral-davant-le-covid-1303418', '/monde/enjeux-internationaux/en-direct-jeudi-1er-avril-covid-le-point-sur-la-situation-en-france-et-dans-le-monde-1303395', '/monde/europe/vaccin-astrazeneca-lema-ne-voit-pas-a-ce-stade-de-risques-lies-a-lage-1303336', None, '/tech-medias/hightech/education-en-ligne-la-chine-fait-la-course-en-tete-1304254', '/tech-medias/hightech/lg-eteint-ses-smartphones-pour-doper-ses-investissements-dans-lautomobile-du-futur-1304211', '/tech-medias/medias/letat-replafonne-la-publicite-sur-radio-france-1304169', '/tech-medias/hightech/facebook-les-donnees-personnelles-de-500-millions-dutilisateurs-auraient-ete-rendues-publiques-1304125', '/tech-medias/hightech/la-tech-americaine-rouvre-progressivement-ses-bureaux-1304028', '/tech-medias/hightech/larcep-en-passe-dobtenir-de-nouveaux-pouvoirs-en-matiere-denvironnement-1303980', '/politique-societe/gouvernement/projet-de-loi-climat-les-deputes-recadrent-les-engagements-volontaires-des-entreprises-1303960', '/tech-medias/hightech/les-depenses-en-applis-mobiles-continuent-de-battre-des-records-1303707', '/tech-medias/medias/face-au-risque-dembouteillage-le-cnc-facilite-encore-la-sortie-de-films-sur-le-petit-ecran-1303665', '/tech-medias/hightech/atos-chute-en-bourse-en-raison-dun-audit-sur-les-comptes-de-filiales-aux-etats-unis-1303610', '/tech-medias/hightech/semi-conducteurs-tsmc-va-investir-100-milliards-de-dollars-en-seulement-trois-ans-1303585', '/tech-medias/hightech/realite-augmentee-microsoft-signe-un-mega-contrat-de-22-milliards-avec-larmee-americaine-1303581', '/tech-medias/hightech/lepidemie-consacre-le-cloud-et-les-grands-data-centers-1303429', '/tech-medias/hightech/hitachi-soffre-un-developpeur-americain-de-logiciels-pour-96-milliards-de-dollars-1303262', '/tech-medias/hightech/les-data-centers-poussent-comme-des-champignons-partout-en-france-1303257', '/tech-medias/hightech/huawei-se-replie-sur-le-marche-chinois-pour-resister-1303247', '/tech-medias/hightech/motorola-profite-de-la-5g-pour-se-relancer-en-france-1303198', '/tech-medias/hightech/google-maps-indiquera-bientot-les-trajets-les-plus-ecologiques-1303194', '/tech-medias/hightech/cloud-comment-microsoft-rogne-sur-le-leader-amazon-1303152', '/tech-medias/hightech/geotwin-veut-aider-les-villes-a-devenir-plus-intelligentes-1303148', '/tech-medias/hightech/capgemini-promet-daugmenter-encore-ses-marges-dans-les-cinq-ans-a-venir-1303117', '/tech-medias/hightech/cookies-publicitaires-la-cnil-met-lindustrie-au-regime-sec-1302977', '/tech-medias/hightech/lindustrie-de-la-publicite-se-prepare-a-se-passer-de-cookies-1302901', '/tech-medias/medias/tele-le-csa-pour-une-revision-des-seuils-anti-concentration-1302893', '/tech-medias/medias/la-lecture-recule-chez-les-francais-1302886', None, '/industrie-services/tourisme-transport/air-canada-fait-une-croix-sur-le-rachat-de-transat-1304258', '/industrie-services/tourisme-transport/la-recapitalisation-dair-france-paree-a-decoller-1304243', '/industrie-services/automobile/waymo-tourne-une-page-avec-le-depart-de-son-patron-1304228', '/industrie-services/automobile/pourquoi-les-constructeurs-auto-font-la-chasse-aux-options-1304223', '/industrie-services/air-defense/spatial-tout-nest-pas-encore-perdu-pour-les-start-up-europeennes-1304143', '/industrie-services/energie-environnement/nucleaire-les-etats-unis-comptent-sur-les-petits-reacteurs-1304133', '/industrie-services/air-defense/covid-une-facture-a-3-milliards-de-dollars-pour-la-nasa-1304100', '/industrie-services/energie-environnement/climat-quand-les-etes-dureront-six-mois-1304085', '/industrie-services/tourisme-transport/les-loueurs-de-voitures-prives-de-boussole-avant-lete-1304080', '/industrie-services/air-defense/avion-de-combat-du-futur-dassault-et-airbus-enfin-sur-la-meme-longueur-donde-1304034', '/industrie-services/tourisme-transport/les-coronapistes-dopent-la-pratique-du-velo-1304024', '/industrie-services/energie-environnement/a-belfort-deux-syndicats-sappretent-a-attaquer-general-electric-en-justice-1304020', '/industrie-services/pharmacie-sante/pharmacie-quand-la-belgique-montre-le-chemin-1303995', '/industrie-services/energie-environnement/lamf-critique-la-pilule-empoisonnee-brandie-par-suez-contre-veolia-1303977', '/industrie-services/conso-distribution/alimentation-cure-damaigrissement-sur-les-acides-gras-trans-1303957', '/industrie-services/pharmacie-sante/covid-la-france-envisage-de-se-passer-du-vaccin-dastrazeneca-au-deuxieme-semestre-1303948', '/industrie-services/mode-luxe/zadig-voltaire-pret-a-repasser-a-loffensive-1303892', '/industrie-services/mode-luxe/environnement-les-pme-de-la-mode-craignent-linflation-du-nombre-de-labels-1303857', '/industrie-services/conso-distribution/comment-invivo-veut-devenir-un-geant-mondial-du-vin-1303823', '/industrie-services/services-conseils/patricia-lexcellent-femme-de-reseaux-1303820', '/industrie-services/tourisme-transport/lincident-du-canal-de-suez-est-un-grain-de-sable-dans-le-commerce-mondial-qui-va-continuer-a-se-developper-affirme-le-patron-de-cma-cgm-1303797', '/industrie-services/immobilier-btp/vinci-mise-5-milliards-deuros-sur-les-energies-renouvelables-1303713', '/industrie-services/services-conseils/le-nouveau-confinement-creuse-encore-les-inegalites-entre-les-entreprises-1303697', '/industrie-services/energie-environnement/suez-remet-la-pression-sur-veolia-en-avancant-sur-une-cession-en-australie-1303677', '/industrie-services/services-conseils/sodexo-se-tient-pret-a-gerer-des-centres-de-vaccination-1303675', None, 'https://investir.lesechos.fr/marches/actualites/usa-la-croissance-de-l-emploi-depasse-les-attentes-en-mars-1956177.php', 'https://investir.lesechos.fr/marches/actualites/usa-forte-croissance-du-marche-de-l-emploi-en-mars-1956173.php', 'https://investir.lesechos.fr/actions/actualites/la-reponse-de-suez-a-l-offre-de-veolia-ne-respecte-par-les-regles-sur-les-opa-amf-1956167.php', 'https://investir.lesechos.fr/actions/actualites/la-reponse-de-suez-a-l-offre-de-veolia-ne-respecte-par-les-regles-sur-les-opa-amf-1956162.php', 'https://investir.lesechos.fr/marches/actualites/pays-bas-mark-rutte-n-obtient-pas-le-vote-de-confiance-du-parlement-1956122.php', 'https://investir.lesechos.fr/marches/a-ne-pas-manquer-demain/la-bourse-de-paris-s-offre-un-week-end-prolonge-de-4-jours-1956014.php', 'https://investir.lesechos.fr/actions/actualites/wall-street-termine-en-hausse-le-s-p-500-passe-les-4-000-points-1956110.php', 'https://investir.lesechos.fr/marches/actualites/le-cac-40-debute-le-deuxieme-trimestre-au-dessus-des-6-100-points-1956073.php', 'https://investir.lesechos.fr/placements/vie-pratique/actualites/plan-epargne-logement-la-banque-postale-au-tribunal-1956064.php', 'https://investir.lesechos.fr/marches/actualites/le-cac-40-accelere-et-gravite-autour-des-6-100-points-1956042.php', 'https://investir.lesechos.fr/marches/actualites/la-bourse-de-paris-soutenue-par-de-bons-chiffres-en-europe-atos-plonge-1956024.php', 'https://investir.lesechos.fr/actions/actualites/atos-plonge-de-plus-de-20-les-auditeurs-ont-trouve-des-anomalies-dans-les-comptes-2020-de-deux-entites-americaines-1956009.php', 'https://investir.lesechos.fr/marches/actualites/la-bourse-de-paris-soutenue-par-de-bons-chiffres-en-europe-atos-plonge-1955996.php', 'https://investir.lesechos.fr/actions/actualites/atos-chute-en-bourse-apres-les-reserves-emises-par-ses-commissaires-aux-comptes-1955980.php', 'https://investir.lesechos.fr/actions/actualites/atos-les-commissaires-aux-comptes-ont-emis-une-reserve-sur-deux-entites-aux-usa-1955947.php', 'https://investir.lesechos.fr/marches/actualites/la-bourse-de-paris-sans-reaction-aux-annonces-de-joe-biden-et-emmanuel-macron-1955957.php', 'https://investir.lesechos.fr/marches/morning-meeting/apres-biden-et-macron-retour-aux-chiffres-a-la-bourse-de-paris-1955948.php', 'https://investir.lesechos.fr/marches/actualites/biden-propose-un-investissement-de-2-000-mds-dans-l-economie-us-1955936.php', 'https://investir.lesechos.fr/actions/actualites/sodexo-vise-un-retour-a-la-croissance-au-s2-apres-avoir-atteint-ses-objectifs-au-s1-1955930.php', 'https://investir.lesechos.fr/marches/a-ne-pas-manquer-demain/une-derniere-seance-placee-sous-le-signe-des-indices-pmi-et-de-la-reunion-de-l-opep-1955814.php', 'https://investir.lesechos.fr/placements/retraite/dossiers/retraite-optimiser-son-depart-en-temps-de-crise/optimiser-son-depart-en-temps-de-crise-1955176.php', 'https://investir.lesechos.fr/marches/actualites/le-cac-40-finit-la-seance-en-legere-baisse-mais-il-gagne-9-3-sur-le-trimestre-1955876.php', 'https://investir.lesechos.fr/marches/actualites/le-cac-40-attend-avec-prudence-ses-rendez-vous-avec-joe-biden-et-emmanuel-macron-1955864.php', 'https://investir.lesechos.fr/marches/actualites/le-secteur-prive-americain-a-cree-517-000-emplois-en-mars-contre-176-000-en-fevrier-et-550-000-attendus-par-le-consensus-rapport-adp-1955845.php', 'https://investir.lesechos.fr/marches/actualites/le-cac-40-comme-paralyse-avant-les-interventions-de-joe-biden-et-d-emmanuel-macron-1955851.php', None, '/finance-marches/gestion-actifs/la-banque-postale-am-repart-a-loffensive-aupres-des-investisseurs-institutionnels-1304233', '/finance-marches/marches-financiers/le-trader-le-troupeau-fantome-et-larnaque-a-200-millions-de-dollars-1304198', '/finance-marches/banque-assurances/wall-street-organise-prudemment-le-retour-au-bureau-1304195', '/finance-marches/banque-assurances/les-dirigeants-de-credit-suisse-dans-le-viseur-des-actionnaires-1304184', '/finance-marches/banque-assurances/les-banques-britanniques-tentees-de-normaliser-le-teletravail-1304092', '/finance-marches/marches-financiers/inebranlables-les-places-boursieres-mondiales-continuent-de-grimper-1304050', '/finance-marches/banque-assurances/prets-participatifs-les-dernieres-pieces-du-puzzle-se-mettent-en-place-1304041', '/finance-marches/marches-financiers/les-auditeurs-emettent-rarement-des-reserves-sur-les-comptes-des-societes-cotees-1303934', '/finance-marches/marches-financiers/que-sont-les-sukuk-des-bons-du-tresor-britannique-conformes-aux-regles-islamiques-1303909', '/finance-marches/marches-financiers/cryptomonnaies-coinbase-fera-son-entree-en-bourse-le-14-avril-1303903', '/finance-marches/marches-financiers/laffaire-archegos-remet-le-levier-financier-au-coeur-des-preoccupations-des-regulateurs-1303852', '/finance-marches/gestion-actifs/axa-venture-partners-veut-monter-en-puissance-1303843', '/finance-marches/marches-financiers/la-dette-souveraine-chinoise-fait-une-entree-remarquee-dans-les-grands-indices-1303840', '/finance-marches/marches-financiers/en-doublant-de-valeur-cette-annee-le-bitcoin-et-les-cryptos-prolongent-letat-de-grace-de-2020-1303813', '/finance-marches/banque-assurances/archegos-la-facture-salourdit-pour-les-banques-1303790', '/finance-marches/marches-financiers/a-wall-street-le-s-p500-bat-un-record-historique-1303750', '/finance-marches/marches-financiers/petrole-lopep-et-la-russie-commencent-a-rouvrir-les-vannes-1303712', '/finance-marches/gestion-actifs/amundi-favori-pour-racheter-la-gestion-dactifs-de-societe-generale-1303687', '/finance-marches/banque-assurances/la-crise-a-divise-par-trois-les-resultats-de-la-caisse-des-depots-1303664', '/finance-marches/banque-assurances/meme-affaibli-par-laffaire-archegos-nomura-ne-va-pas-renoncer-a-son-reve-americain-1303661', '/finance-marches/banque-assurances/immobilier-le-credit-sapprete-a-traverser-un-nouveau-confinement-1303603', '/finance-marches/marches-financiers/les-fusions-et-acquisitions-dans-les-cryptomonnaies-ont-double-en-2020-1303595', '/finance-marches/marches-financiers/paymium-obtient-le-feu-vert-de-lamf-pour-commercialiser-des-crypto-actifs-en-france-1303567', '/finance-marches/marches-financiers/solutions-30-les-auditeurs-jugent-infondees-les-accusations-de-blanchiment-1303560', '/finance-marches/marches-financiers/ladministrateur-referent-un-contre-pouvoir-face-au-pdg-1303422', None, '/pme-regions/innovateurs/agripower-leve-10-millions-pour-etendre-son-spectre-dans-la-methanisation-1304214', '/pme-regions/innovateurs/biodemain-soutient-les-agriculteurs-en-phase-de-conversion-au-bio-1304172', '/pme-regions/hauts-de-france/dans-le-nord-les-golfs-prives-handicapes-par-labsence-des-etrangers-1304152', '/pme-regions/provence-alpes-cote-dazur/eurenco-va-investir-200-millions-dans-une-nouvelle-usine-dexplosifs-a-sorgues-1304146', '/pme-regions/ile-de-france/moins-touche-que-les-autres-sports-le-golf-recrute-des-joueurs-a-tout-va-1304089', '/pme-regions/ile-de-france/saint-denis-la-capacite-daccueil-du-village-olympique-revue-a-la-baisse-1304045', '/pme-regions/ile-de-france/essonne-chilly-mazarin-reclame-avec-insistance-un-centre-de-vaccination-1304044', '/pme-regions/ile-de-france/essonne-des-cabines-de-telemedecine-pour-lutter-contre-le-desert-medical-1304018', '/pme-regions/ile-de-france/essonne-letat-lance-une-nouvelle-operation-de-sauvetage-de-grigny-2-1303996', '/pme-regions/ile-de-france/les-hauts-de-seine-presentent-un-excedent-de-560-millions-deuros-en-2020-malgre-la-crise-1303990', '/pme-regions/ile-de-france/le-recent-engouement-pour-le-golf-profite-a-golf-plus-1303986', '/pme-regions/occitanie/toulouse-jean-luc-moudenc-desavoue-sur-son-plan-local-durbanisme-1303918', '/pme-regions/innovateurs/chantilly-devient-le-laboratoire-a-ciel-ouvert-des-forets-francaises-1303900', '/pme-regions/innovateurs/bw-prend-le-controle-dideol-pour-creer-un-leader-de-leolien-offshore-1303879', '/pme-regions/ile-de-france/yvelines-fortes-oppositions-locales-a-un-projet-de-co-methanisation-1303878', '/pme-regions/ile-de-france/le-t9-nouveau-tramway-entre-en-service-entre-paris-et-orly-1303872', '/pme-regions/occitanie/ales-dans-le-top-30-des-villes-moyennes-les-plus-dynamiques-durant-la-crise-1303724', '/pme-regions/occitanie/le-comite-interministeriel-a-la-ville-delocalise-a-ales-et-nimes-1303981', '/pme-regions/ile-de-france/val-de-marne-la-gare-de-nogent-bastille-bientot-reconnue-patrimoine-dinteret-regional-1303714', '/pme-regions/occitanie/sante-bastide-le-confort-medical-poursuit-sa-croissance-et-developpe-son-reseau-de-franchises-1303670', '/pme-regions/ile-de-france/yvelines-un-ambitieux-contrat-de-developpement-pour-mantes-la-ville-1303668', '/pme-regions/grand-est/kronenbourg-lance-une-plateforme-numerique-pour-aider-la-filiere-cafe-restaurant-1303650', '/pme-regions/occitanie/aura-aero-prepare-un-avion-de-transport-regional-electrique-1303645', '/pme-regions/hauts-de-france/interencheres-voit-les-ventes-de-sa-plateforme-senvoler-1303642', '/pme-regions/hauts-de-france/mercier-pousse-aux-encheres-en-ligne-ses-automobiles-collectors-1303641', None, '/patrimoine/placement/placements-ce-que-cachent-les-super-rendements-du-non-cote-1303858', '/patrimoine/placement/placements-lavenir-aux-audacieux-1303822', '/patrimoine/immobilier/vente-dun-bien-loue-attention-au-droit-de-preemption-du-locataire-1303669', '/patrimoine/assurance/assurance-vie-les-nouveaux-criteres-de-choix-des-fonds-en-euros-1303653', '/patrimoine/placement/placements-cinq-reperes-pour-eviter-les-ecueils-des-fonds-structures-1303636', '/patrimoine/assurance/assurance-vie-il-faut-soigner-les-clauses-beneficiaires-1303619', '/patrimoine/assurance/assurance-vie-le-match-des-unites-de-compte-immobilieres-1303561', '/patrimoine/placement/immobilier-locatif-le-bon-filon-des-caves-parisiennes-1303556', '/patrimoine/investissements-plaisir/la-collection-aux-gouts-pointus-du-publicitaire-francis-gross-chez-christies-a-paris-1303552', '/patrimoine/placement/or-papier-ou-physique-faut-il-investir-aujourdhui-1303414', '/patrimoine/immobilier/immobilier-paris-baisse-le-reste-de-lile-de-france-grimpe-1303387', '/patrimoine/impots/impot-sur-la-fortune-immobiliere-du-nouveau-sur-les-exonerations-1303303', '/patrimoine/immobilier/credit-immobilier-comment-renegocier-votre-assurance-emprunteur-1303233', '/patrimoine/placement/dynamiser-son-epargne-avec-la-tontine-1303140', '/patrimoine/immobilier/le-bien-de-la-semaine-un-quatre-pieces-en-duplex-avec-vue-mer-pres-de-cannes-1303103', '/patrimoine/placement/quels-sont-les-meilleurs-fonds-pour-dynamiser-votre-contrat-dassurance-vie-1302967', '/patrimoine/placement/les-atouts-et-pieges-de-lepargne-de-precaution-1302814', '/patrimoine/immobilier/7-questions-essentielles-sur-le-credit-immobilier-1302804', '/patrimoine/immobilier/immobilier-parisien-les-arrondissements-ou-on-peut-faire-des-affaires-1302631', '/patrimoine/impots/declaration-dimpot-2021-7-charges-ou-depenses-deductibles-de-votre-revenu-imposable-1302352', '/patrimoine/impots/declarations-dimpots-2021-les-6-erreurs-a-eviter-1301823', '/patrimoine/placement/placements-investir-pour-legalite-professionnelle-et-le-bien-etre-au-travail-1301793', '/patrimoine/placement/investir-sur-les-fonds-solidaires-et-de-partage-1301469', '/patrimoine/impots/bailleurs-soutenez-vos-locataires-et-beneficiez-dune-economie-fiscale-1301455', '/patrimoine/placement/placements-durables-sy-retrouver-dans-la-foire-aux-labels-1301449', None]\n"
          ],
          "name": "stdout"
        }
      ]
    },
    {
      "cell_type": "code",
      "metadata": {
        "colab": {
          "base_uri": "https://localhost:8080/"
        },
        "id": "kHN2a1uAdEk1",
        "outputId": "09969a2f-59d7-4a85-9c55-c75dda722a28"
      },
      "source": [
        "len(url_array)"
      ],
      "execution_count": 59,
      "outputs": [
        {
          "output_type": "execute_result",
          "data": {
            "text/plain": [
              "234"
            ]
          },
          "metadata": {
            "tags": []
          },
          "execution_count": 59
        }
      ]
    },
    {
      "cell_type": "code",
      "metadata": {
        "id": "R3vO9Q2maAw8"
      },
      "source": [
        "content = []\n",
        "new_url = []\n",
        "label = []\n",
        "titles = []\n",
        "for i in url_array: \n",
        "  url = 'https://www.lesechos.fr'\n",
        "  if i !=None and '.php'not in i: # drop some article with missing informations\n",
        "    url+= str(i) #in order to get the differents pages url\n",
        "    response = get(url)\n",
        "    html_soup = BeautifulSoup(response.text,'html.parser')\n",
        "    body = html_soup.find(id='app')\n",
        "    main_art = body.find_all('p',class_=\"sc-AxirZ bUHJAM\") # get article content\n",
        "    title = body.find('header',class_='cyue7g-0 bWrNQA') # get article title\n",
        "    titles.append(title.get_text())\n",
        "    fullarticle = ''\n",
        "    for itm in main_art:\n",
        "      fullarticle += itm.get_text().replace('\\xa0',' ').replace('\\u202f',' ') # clean article content\n",
        "    content.append(''.join([i for i in fullarticle if not i.isdigit()]))\n",
        "    new_url.append(url+str(i))\n",
        "    label.append(str(i).split('/')[1])"
      ],
      "execution_count": 75,
      "outputs": []
    },
    {
      "cell_type": "markdown",
      "metadata": {
        "id": "ZuyGboFfUm38"
      },
      "source": [
        "Création d'une dataframe pandas avec les donées récupérées"
      ]
    },
    {
      "cell_type": "code",
      "metadata": {
        "id": "Pvdlo8drfOtF"
      },
      "source": [
        "data  = pd.DataFrame({\n",
        "        'titles': titles,\n",
        "        'contents': content,\n",
        "        'urls': new_url,\n",
        "        'labels': label\n",
        "})"
      ],
      "execution_count": 61,
      "outputs": []
    },
    {
      "cell_type": "code",
      "metadata": {
        "colab": {
          "base_uri": "https://localhost:8080/"
        },
        "id": "W-tFwzJ240CT",
        "outputId": "e196d3c3-5faa-47d3-de00-eef7e51939e5"
      },
      "source": [
        "print(\"Nombre d'artciles conservés: \"+str(len(content)))"
      ],
      "execution_count": 62,
      "outputs": [
        {
          "output_type": "stream",
          "text": [
            "Nombre d'artciles conservés: 200\n"
          ],
          "name": "stdout"
        }
      ]
    },
    {
      "cell_type": "markdown",
      "metadata": {
        "id": "iPrx7JwCU6NH"
      },
      "source": [
        "Netoyage des données"
      ]
    },
    {
      "cell_type": "code",
      "metadata": {
        "colab": {
          "base_uri": "https://localhost:8080/"
        },
        "id": "lUaitgBboAnw",
        "outputId": "7b098ab0-3f2c-4416-b4ee-22adb98810fa"
      },
      "source": [
        "nltk.download(\"stopwords\")\n",
        "nltk.download('punkt')\n",
        "sw = stopwords.words('french') \n",
        "sw.extend(['a',\"d'\",\"n'\",\"l'\",'plus','moins','être','comme','avoir','ici','faire','faut','non','dit','ans','2020','2021','cette','mois','depuis','tous','contre','sous','cet']) # useless words to drop from contents"
      ],
      "execution_count": 63,
      "outputs": [
        {
          "output_type": "stream",
          "text": [
            "[nltk_data] Downloading package stopwords to /root/nltk_data...\n",
            "[nltk_data]   Package stopwords is already up-to-date!\n",
            "[nltk_data] Downloading package punkt to /root/nltk_data...\n",
            "[nltk_data]   Package punkt is already up-to-date!\n"
          ],
          "name": "stdout"
        }
      ]
    },
    {
      "cell_type": "markdown",
      "metadata": {
        "id": "mxhRkbihXnDK"
      },
      "source": [
        "Clusterisation"
      ]
    },
    {
      "cell_type": "code",
      "metadata": {
        "id": "MbziUwf3lPOh"
      },
      "source": [
        "\n",
        "vectorizer = TfidfVectorizer(stop_words=sw)\n",
        "text = data['contents'].values.astype(\"U\")\n",
        "X = vectorizer.fit_transform(text)\n",
        "true_k = 5 # clusters number\n",
        "model = KMeans(n_clusters=true_k, init='k-means++', max_iter=100, n_init=1)\n",
        "model.fit(X)\n",
        "order_centroids = model.cluster_centers_.argsort()[:, ::-1]\n",
        "terms = vectorizer.get_feature_names()"
      ],
      "execution_count": 64,
      "outputs": []
    },
    {
      "cell_type": "code",
      "metadata": {
        "colab": {
          "base_uri": "https://localhost:8080/"
        },
        "id": "WEt0a6EalT_w",
        "outputId": "5402b023-1134-4d19-8a19-da7831141dc8"
      },
      "source": [
        "result =[]\n",
        "\n",
        "for i in range(true_k):\n",
        "  print(\"Cluster %d:\" + str(i))\n",
        "  word_number = 10 # number of word for each clusters\n",
        "  temp = []\n",
        "  for ind in order_centroids[i, :word_number]:\n",
        "    temp.append(terms[ind])\n",
        "    \n",
        "    print(terms[ind])\n",
        "  result.append(temp)\n",
        "\n",
        "data['cluster']= model.labels_"
      ],
      "execution_count": 65,
      "outputs": [
        {
          "output_type": "stream",
          "text": [
            "Cluster %d:0\n",
            "seine\n",
            "euros\n",
            "millions\n",
            "marne\n",
            "ligne\n",
            "prix\n",
            "saint\n",
            "val\n",
            "département\n",
            "denis\n",
            "Cluster %d:1\n",
            "loi\n",
            "projet\n",
            "publicité\n",
            "sociale\n",
            "engagements\n",
            "telle\n",
            "annuel\n",
            "capital\n",
            "csa\n",
            "amendement\n",
            "Cluster %d:2\n",
            "milliards\n",
            "dollars\n",
            "euros\n",
            "année\n",
            "an\n",
            "banque\n",
            "épargne\n",
            "comptes\n",
            "trimestre\n",
            "groupe\n",
            "Cluster %d:3\n",
            "centre\n",
            "story\n",
            "abonner\n",
            "annulation\n",
            "ville\n",
            "toulouse\n",
            "deux\n",
            "centres\n",
            "métropole\n",
            "plui\n",
            "Cluster %d:4\n",
            "covid\n",
            "france\n",
            "millions\n",
            "vaccination\n",
            "ministre\n",
            "vaccin\n",
            "écoles\n",
            "gouvernement\n",
            "nouvelles\n",
            "mesures\n"
          ],
          "name": "stdout"
        }
      ]
    },
    {
      "cell_type": "code",
      "metadata": {
        "colab": {
          "base_uri": "https://localhost:8080/",
          "height": 204
        },
        "id": "G-RwfyGPhqGp",
        "outputId": "a9d13e83-eeca-4d32-9369-199fa16dd74d"
      },
      "source": [
        "pd.set_option('display.max_rows', None)\n",
        "data.head()"
      ],
      "execution_count": 66,
      "outputs": [
        {
          "output_type": "execute_result",
          "data": {
            "text/html": [
              "<div>\n",
              "<style scoped>\n",
              "    .dataframe tbody tr th:only-of-type {\n",
              "        vertical-align: middle;\n",
              "    }\n",
              "\n",
              "    .dataframe tbody tr th {\n",
              "        vertical-align: top;\n",
              "    }\n",
              "\n",
              "    .dataframe thead th {\n",
              "        text-align: right;\n",
              "    }\n",
              "</style>\n",
              "<table border=\"1\" class=\"dataframe\">\n",
              "  <thead>\n",
              "    <tr style=\"text-align: right;\">\n",
              "      <th></th>\n",
              "      <th>titles</th>\n",
              "      <th>contents</th>\n",
              "      <th>urls</th>\n",
              "      <th>labels</th>\n",
              "      <th>cluster</th>\n",
              "    </tr>\n",
              "  </thead>\n",
              "  <tbody>\n",
              "    <tr>\n",
              "      <th>0</th>\n",
              "      <td>Loi climat : l'Assemblée renforce la vigilance...</td>\n",
              "      <td>Les allégations écologiques des publicitaires,...</td>\n",
              "      <td>https://www.lesechos.fr/politique-societe/gouv...</td>\n",
              "      <td>politique-societe</td>\n",
              "      <td>1</td>\n",
              "    </tr>\n",
              "    <tr>\n",
              "      <th>1</th>\n",
              "      <td>Marlène Schiappa appelle « à la responsabilité...</td>\n",
              "      <td>Alors qu'un troisième confinement vient d'entr...</td>\n",
              "      <td>https://www.lesechos.fr/politique-societe/soci...</td>\n",
              "      <td>politique-societe</td>\n",
              "      <td>4</td>\n",
              "    </tr>\n",
              "    <tr>\n",
              "      <th>2</th>\n",
              "      <td>Fermeture des écoles : les embûches à surmonte...</td>\n",
              "      <td>A partir de ce mardi s'ouvre une période d'ens...</td>\n",
              "      <td>https://www.lesechos.fr/politique-societe/soci...</td>\n",
              "      <td>politique-societe</td>\n",
              "      <td>4</td>\n",
              "    </tr>\n",
              "    <tr>\n",
              "      <th>3</th>\n",
              "      <td>Covid : les communes sous pression avec la fer...</td>\n",
              "      <td>Branle-le-bas de combat dans les communes en v...</td>\n",
              "      <td>https://www.lesechos.fr/politique-societe/regi...</td>\n",
              "      <td>politique-societe</td>\n",
              "      <td>4</td>\n",
              "    </tr>\n",
              "    <tr>\n",
              "      <th>4</th>\n",
              "      <td>Confinement : les assistantes maternelles fina...</td>\n",
              "      <td>Le gouvernement a changé d'avis sur les assist...</td>\n",
              "      <td>https://www.lesechos.fr/politique-societe/soci...</td>\n",
              "      <td>politique-societe</td>\n",
              "      <td>4</td>\n",
              "    </tr>\n",
              "  </tbody>\n",
              "</table>\n",
              "</div>"
            ],
            "text/plain": [
              "                                              titles  ... cluster\n",
              "0  Loi climat : l'Assemblée renforce la vigilance...  ...       1\n",
              "1  Marlène Schiappa appelle « à la responsabilité...  ...       4\n",
              "2  Fermeture des écoles : les embûches à surmonte...  ...       4\n",
              "3  Covid : les communes sous pression avec la fer...  ...       4\n",
              "4  Confinement : les assistantes maternelles fina...  ...       4\n",
              "\n",
              "[5 rows x 5 columns]"
            ]
          },
          "metadata": {
            "tags": []
          },
          "execution_count": 66
        }
      ]
    },
    {
      "cell_type": "code",
      "metadata": {
        "id": "P15ayBQhhrNO"
      },
      "source": [
        "def createComparisonArray(labels): # function that takes an iterable and returns an array with true value for each value wich are the same base on the index\n",
        "  label_array = []\n",
        "  for i in  labels:\n",
        "    temp =[]\n",
        "    for j in labels:\n",
        "      if i == j:\n",
        "        temp.append(True)\n",
        "      else:\n",
        "        temp.append(False)\n",
        "    label_array.append(temp)\n",
        "  return label_array"
      ],
      "execution_count": 67,
      "outputs": []
    },
    {
      "cell_type": "code",
      "metadata": {
        "id": "d3F1hlu-uGeA"
      },
      "source": [
        "label_array = createComparisonArray(data['labels'])\n",
        "cluster_array = createComparisonArray(data['cluster'])"
      ],
      "execution_count": 68,
      "outputs": []
    },
    {
      "cell_type": "code",
      "metadata": {
        "id": "MHnKnTyXqI0D"
      },
      "source": [
        "def array_comparison(first_array,second_array): #function to compare two array that return the average similarity\n",
        "  res=0\n",
        "  for i in range(0,len(first_array)):\n",
        "    for j in range(0,len(first_array[0])):\n",
        "      if first_array[i][j]== second_array[i][j]:\n",
        "        res+=1\n",
        "  final_res = res / (len(first_array)*len(first_array[0]))\n",
        "  \n",
        "  return final_res\n",
        "\n"
      ],
      "execution_count": 69,
      "outputs": []
    },
    {
      "cell_type": "code",
      "metadata": {
        "colab": {
          "base_uri": "https://localhost:8080/"
        },
        "id": "Q3FFypgipwhg",
        "outputId": "a492c8ce-02a8-47f5-d38c-77864bfdd050"
      },
      "source": [
        "print(array_comparison(label_array,cluster_array))"
      ],
      "execution_count": 70,
      "outputs": [
        {
          "output_type": "stream",
          "text": [
            "0.67485\n"
          ],
          "name": "stdout"
        }
      ]
    },
    {
      "cell_type": "markdown",
      "metadata": {
        "id": "MOoLQ5ez2r3B"
      },
      "source": [
        "Fonction pour automatiser le clustering et y appliquer différents paramètres"
      ]
    },
    {
      "cell_type": "code",
      "metadata": {
        "id": "nxCh6pdN2ruF"
      },
      "source": [
        "def clustering(nb_cluster,nb_word):\n",
        "  \n",
        "  model = KMeans(n_clusters=nb_cluster, init='k-means++', max_iter=100, n_init=1)\n",
        "  model.fit(X)\n",
        "\n",
        "  order_centroids = model.cluster_centers_.argsort()[:, ::-1]\n",
        "  terms = vectorizer.get_feature_names()\n",
        "\n",
        "  result =[]\n",
        "\n",
        "  for i in range(nb_cluster):\n",
        "    temp = []\n",
        "    for ind in order_centroids[i, :nb_word]:\n",
        "      temp.append(terms[ind])\n",
        "    \n",
        "      \n",
        "    result.append(temp)\n",
        "\n",
        "  labels_comparison = createComparisonArray(data['labels'])\n",
        "  cluster_array = createComparisonArray(model.labels_)\n",
        "  a=array_comparison(label_array,cluster_array)\n",
        "  return a\n"
      ],
      "execution_count": 71,
      "outputs": []
    },
    {
      "cell_type": "markdown",
      "metadata": {
        "id": "NVB60Vi6-2TD"
      },
      "source": [
        "Test pour de 1 à 29 cluster avec 1 à 29 mots par cluster"
      ]
    },
    {
      "cell_type": "code",
      "metadata": {
        "id": "fHebD4eG2rmq"
      },
      "source": [
        "res_array = []\n",
        "\n",
        "for i in range(1,30):\n",
        "  temp = []\n",
        "  for j in range(1,30):\n",
        "    x= clustering(i,j)\n",
        "    temp.append(x)\n",
        "  res_array.append(temp)"
      ],
      "execution_count": 72,
      "outputs": []
    },
    {
      "cell_type": "markdown",
      "metadata": {
        "id": "zfu1t8R3VvqH"
      },
      "source": [
        "Moyenne des résultat pour chaque nombre de cluster ( de 1 à 29)"
      ]
    },
    {
      "cell_type": "code",
      "metadata": {
        "colab": {
          "base_uri": "https://localhost:8080/",
          "height": 302
        },
        "id": "roionblDsVUm",
        "outputId": "9dd92161-47cf-4095-982c-2a10fe683647"
      },
      "source": [
        "avg_res= []\n",
        "for elem in res_array:\n",
        "  temp = 0\n",
        "  for itm in elem:\n",
        "    temp+=itm\n",
        "  avg_res.append(temp / 29)\n",
        "\n",
        "print(avg_res)\n",
        "\n",
        "plt.plot(avg_res)\n",
        "plt.ylabel('Resultat moyen par nombre de cluster')\n",
        "plt.show()"
      ],
      "execution_count": 73,
      "outputs": [
        {
          "output_type": "stream",
          "text": [
            "[0.12509999999999988, 0.3940034482758621, 0.5140982758620689, 0.5933362068965518, 0.6423413793103447, 0.6656706896551725, 0.6918465517241381, 0.7224224137931036, 0.7397137931034481, 0.7326258620689655, 0.7474000000000001, 0.7564206896551723, 0.7964465517241379, 0.7759344827586208, 0.768889655172414, 0.7982017241379311, 0.7981051724137933, 0.8082637931034483, 0.7972741379310344, 0.8201706896551725, 0.8085224137931032, 0.8126206896551725, 0.8231827586206897, 0.8234189655172414, 0.8232275862068964, 0.8286879310344829, 0.8280637931034484, 0.8319137931034482, 0.8334844827586205]\n"
          ],
          "name": "stdout"
        },
        {
          "output_type": "display_data",
          "data": {
            "image/png": "[encoded data removed]",
            "text/plain": [
              "<Figure size 432x288 with 1 Axes>"
            ]
          },
          "metadata": {
            "tags": [],
            "needs_background": "light"
          }
        }
      ]
    },
    {
      "cell_type": "code",
      "metadata": {
        "colab": {
          "base_uri": "https://localhost:8080/",
          "height": 280
        },
        "id": "z0Dyg7hN6Zxw",
        "outputId": "2960a924-80b1-4aa9-b714-606413cfae01"
      },
      "source": [
        "\n",
        "plt.xlabel(\"Word number\")\n",
        "plt.ylabel(\"Cluster number\")\n",
        "plt.imshow(res_array)\n",
        "plt.show()"
      ],
      "execution_count": 74,
      "outputs": [
        {
          "output_type": "display_data",
          "data": {
            "image/png": "[encoded data removed]",
            "text/plain": [
              "<Figure size 432x288 with 1 Axes>"
            ]
          },
          "metadata": {
            "tags": [],
            "needs_background": "light"
          }
        }
      ]
    },
    {
      "cell_type": "markdown",
      "metadata": {
        "id": "bi4EnUAAXSlI"
      },
      "source": [
        "## Interpretation du programme\n",
        "\n",
        "Afin de vérifier l’efficacité de notre algorithme, nous avons créé une fonction permettant de tester la précision de notre kmeans. Nous avons effectué différent test en faisant varier le nombre de cluster ainsi que le nombre de mots par cluser et comparé la précision du clustering. Notre meilleure précision est atteinte lorsque nous choisissons 24 cluster. Il est également important de souligner que le nombre de mots par cluster n’influence pas ce nombre de cluster et que cela dépend donc juste de la diversité des articles.\n",
        "\n",
        "On peut expliquer ces résultats de différentes manières. \n",
        "\n",
        "Tout d’abord, l’actualité est centrée autour d’un theme assez récurrent qui est celui de la Covid-19. C’est pourquoi des mêmes termes reviennent souvent ce qui provoque une disparité dans les clusters (certains cluster vont être composé de mots venant de 3 articles, d’autre de 15). \n",
        "\n",
        "De plus, nous avons scrap des articles venant de catégorie comme « Région » ou bien encore « Patrimoine », or dans ces catégories, des articles peuvent aussi bien traiter de sport, de gastronomie, de tourisme ou d’animaux, ce qui peut expliquer la présence de nombreux cluster différent. Cependant, augmenter de façon importante le nombre de cluster va ainsi pousser ces articles qui n’ont rien à voir l’un de l’autre à créer des cluster encore plus petits et ainsi faire perdre en précision. Par exemple, sur une base de 10 articles, si chacun est totalement différent et qu’il y a 8 cluster, il sera très dur pour le modèle de définir à quel cluster appartient un article donné.\n",
        "\n",
        "Cependant, tandis que l’augmentation du nombre de cluster brouille la précision, il permet également d’avoir une potentielle séparation dans le grand cluster de la Covid dépendant des articles du moment. Comme les articles peuvent traiter de l’impact de la Covid dans des milieux comme l’économie, la santé, le tourisme, on a pu voir l’apparition d’un deuxieme cluster Covid durant les test, un traitant plus du vaccins, et l’autre de son impact sur l’éducation."
      ]
    },
    {
      "cell_type": "markdown",
      "metadata": {
        "id": "iJaiM3v8XUV2"
      },
      "source": [
        "## Conclusion\n",
        "\n",
        "Ce projet nous a permis de développer nos compétences en python mais également nos connaissances du non supervisé et comment faire varier la précision des modèles."
      ]
    }
  ]
}