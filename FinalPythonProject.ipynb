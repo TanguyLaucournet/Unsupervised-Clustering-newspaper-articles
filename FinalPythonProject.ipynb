{
  "nbformat": 4,
  "nbformat_minor": 0,
  "metadata": {
    "colab": {
      "name": "FinalPythonProject.ipynb",
      "provenance": [],
      "collapsed_sections": []
    },
    "kernelspec": {
      "display_name": "Python 3",
      "name": "python3"
    },
    "language_info": {
      "name": "python"
    }
  },
  "cells": [
    {
      "cell_type": "markdown",
      "metadata": {
        "id": "CVe7xyM3WdZw"
      },
      "source": [
        "### Projet Python Clustering de journaux"
      ]
    },
    {
      "cell_type": "markdown",
      "metadata": {
        "id": "1Jjd_tpQXeBc"
      },
      "source": [
        "Henry Faure-Geors et Tanguy Laucournet"
      ]
    },
    {
      "cell_type": "markdown",
      "metadata": {
        "id": "z-KC7jh-Whmy"
      },
      "source": [
        "## Introduction\n",
        "\n",
        "Voici notre rapport de projet sur le clusturing de journaux. Dans ce rapport, nous aborderons les fonctions de notre programme ainsi que les conclusions que nous avons pu tirer de l’interprétation des résultats\n"
      ]
    },
    {
      "cell_type": "markdown",
      "metadata": {
        "id": "E7uDE0FAWoBQ"
      },
      "source": [
        "## Le projet\n",
        "\n",
        "L’objectif durant ce projet était de faire du scraping des journaux afin de récupérer des articles pour ensuite utiliser un algorithme non supervisé afin de faire de la prédiction de catégorie d’article (via clustering). Pour ce faire, nous avons principalement utilisé BeautifulSoup et request afin de récupérer le corps du site que nous avons choisi : Les échos, ainsi que les urls d’articles catégorisé par le site (par exemple économie, Politique, Monde, …). Nous employons ensuite une méthode pour récupérer le texte de ces articles et nous les stockons.\n",
        "\n",
        "Afin de réaliser le clustering, nous allons tout d’abord préparer nos données en utilisant la fonction TfidfVectorizer de la librairie sklearn.feature_extraction.text tout en lui fournissant une liste de sw que nous aurons étendu manuellement afin d’éliminer des mots que nous jugeons inutile pour le clustering et que nous avons observé au fil de nos test. Après avoir créé notre matrice répertoriant la fréquence des mots dans nos texte, nous entrainons un model kmeans que nous utiliserons pour déterminer à quel Cluster appartient un article donné en paramètre. \n"
      ]
    },
    {
      "cell_type": "code",
      "metadata": {
        "colab": {
          "base_uri": "https://localhost:8080/"
        },
        "id": "CtPS9A9b1aSh",
        "outputId": "71858fba-b41b-498c-8e06-c634e8bb7e56"
      },
      "source": [
        "from requests import get\n",
        "import bs4 as bs\n",
        "import nltk\n",
        "from bs4 import BeautifulSoup\n",
        "import pandas as pd\n",
        "import string\n",
        "import numpy as np\n",
        "import matplotlib.pyplot as plt\n",
        "from nltk.corpus import stopwords\n",
        "from sklearn.feature_extraction.text import TfidfVectorizer\n",
        "from sklearn.cluster import KMeans\n",
        "nltk.download(\"stopwords\")\n",
        "nltk.download('punkt')"
      ],
      "execution_count": 55,
      "outputs": [
        {
          "output_type": "stream",
          "text": [
            "[nltk_data] Downloading package stopwords to /root/nltk_data...\n",
            "[nltk_data]   Package stopwords is already up-to-date!\n",
            "[nltk_data] Downloading package punkt to /root/nltk_data...\n",
            "[nltk_data]   Package punkt is already up-to-date!\n"
          ],
          "name": "stdout"
        },
        {
          "output_type": "execute_result",
          "data": {
            "text/plain": [
              "True"
            ]
          },
          "metadata": {
            "tags": []
          },
          "execution_count": 55
        }
      ]
    },
    {
      "cell_type": "markdown",
      "metadata": {
        "id": "ic-fn8Z6UTGW"
      },
      "source": [
        "Fonction permettant de récupérer les urls de tous les articles présent sur une page web"
      ]
    },
    {
      "cell_type": "code",
      "metadata": {
        "id": "JcXxgJYxYkIu"
      },
      "source": [
        "def Fetch_Url(url, array):\n",
        "    tempo_arr = []\n",
        "    response = Check_Web_Connection(url)\n",
        "    soup = Get_Web_Soup(response)\n",
        "    body = soup.find(id='app')\n",
        "    articles = body.find_all('div',class_=\"sc-AxjAm sc-1ttlxdz-0 bTKqUl\")\n",
        "    for elem in articles:\n",
        "        url = elem.find_all('a',href=True)\n",
        "        for i in url:\n",
        "            tempo_arr.append(i['href'])\n",
        "    for i in range(50): # defini le nbr d'article prix\n",
        "        \n",
        "        if i%2 == 0:\n",
        "            array.append(tempo_arr[i])\n"
      ],
      "execution_count": 56,
      "outputs": []
    },
    {
      "cell_type": "code",
      "metadata": {
        "colab": {
          "base_uri": "https://localhost:8080/"
        },
        "id": "MGS3rHSY5-76",
        "outputId": "45a9d169-a8c9-49c8-a2b1-ecb4b5b2a3e6"
      },
      "source": [
        "url_array = []\n",
        "pol = 'https://www.lesechos.fr/politique-societe'\n",
        "eco=\"https://www.lesechos.fr/economie-france\"\n",
        "monde=\"https://www.lesechos.fr/monde\"\n",
        "tech=\"https://www.lesechos.fr/tech-medias\"\n",
        "entreprise=\"https://www.lesechos.fr/industrie-services\"\n",
        "bourse=\"https://www.lesechos.fr/bourse\"\n",
        "finance=\"https://www.lesechos.fr/finance-marches\"\n",
        "region=\"https://www.lesechos.fr/pme-regions\"\n",
        "patrimoine=\"https://www.lesechos.fr/patrimoine\"\n",
        "url_array.append(Fetch_Url(pol,url_array))\n",
        "url_array.append(Fetch_Url(eco,url_array))\n",
        "url_array.append(Fetch_Url(monde,url_array))\n",
        "url_array.append(Fetch_Url(tech,url_array))\n",
        "url_array.append(Fetch_Url(entreprise,url_array))\n",
        "url_array.append(Fetch_Url(bourse,url_array))\n",
        "url_array.append(Fetch_Url(finance,url_array))\n",
        "url_array.append(Fetch_Url(region,url_array))\n",
        "url_array.append(Fetch_Url(patrimoine,url_array))\n",
        "\n",
        "print(url_array)"
      ],
      "execution_count": 58,
      "outputs": [
        {
          "output_type": "stream",
          "text": [
            "['/politique-societe/gouvernement/loi-climat-lassemblee-renforce-la-vigilance-sur-la-publicite-1304253', '/politique-societe/societe/marlene-schiappa-appelle-a-la-responsabilite-et-denonce-lindignite-de-lopposition-1304173', '/politique-societe/societe/fermeture-des-ecoles-les-embuches-a-surmonter-pour-lenseignement-a-distance-1304141', '/politique-societe/regions/covid-les-communes-sous-pression-avec-la-fermeture-des-ecoles-1304048', '/politique-societe/societe/confinement-les-assistantes-maternelles-finalement-autorisees-a-garder-les-enfants-1304019', '/politique-societe/societe/lidee-dun-revenu-de-base-pour-les-18-24-ans-fait-son-chemin-1304010', '/politique-societe/gouvernement/projet-de-loi-climat-les-deputes-recadrent-les-engagements-volontaires-des-entreprises-1303960', '/politique-societe/societe/concours-dacces-aux-grandes-ecoles-pas-de-test-pcr-pour-les-epreuves-ecrites-1303942', '/politique-societe/societe/covid-les-questions-que-pose-le-reconfinement-1303940', '/pme-regions/occitanie/toulouse-jean-luc-moudenc-desavoue-sur-son-plan-local-durbanisme-1303918', '/politique-societe/emmanuel-macron-president/covid-macron-ecoute-t-il-trop-les-oppositions-1303845', '/politique-societe/politique/probable-maintien-des-elections-regionales-en-juin-1303710', '/politique-societe/politique/covid-jean-castex-sous-le-feu-des-critiques-des-oppositions-1303703', '/politique-societe/societe/concours-les-grandes-ecoles-songent-a-imposer-un-test-pcr-aux-candidats-1303720', '/politique-societe/societe/ecoles-du-monde-face-au-covid-1303674', '/politique-societe/politique/aurelien-pradie-la-comedie-permanente-ne-peut-plus-cacher-limpuissance-politique-de-macron-1303672', '/politique-societe/societe/covid-le-bac-et-les-concours-devraient-etre-maintenus-1303624', '/politique-societe/gouvernement/covid-pilonne-par-les-oppositions-jean-castex-precise-les-restrictions-1303569', '/economie-france/social/covid-olivier-veran-sattend-a-10000-patients-en-reanimation-fin-avril-1303488', '/politique-societe/politique/covid-lopposition-accuse-macron-de-ne-pas-assumer-ses-incoherences-1303459', '/politique-societe/emmanuel-macron-president/freiner-vacciner-le-nouveau-pari-de-macron-1303415', '/economie-france/social/teletravail-chomage-partiel-ce-que-change-la-fermeture-des-ecoles-1303388', '/economie-france/budget-fiscalite/covid-bercy-revoit-a-la-hausse-a-11-milliards-par-mois-le-cout-des-aides-aux-entreprises-1303384', '/politique-societe/emmanuel-macron-president/ecoles-deplacements-vacances-commerces-les-nouvelles-regles-annoncees-par-emmanuel-macron-1303382', '/economie-france/social/covid-les-plus-de-60-ans-pourront-se-faire-vacciner-des-le-16-avril-1303367', None, '/economie-france/conjoncture/covid-le-gouvernement-abaisse-sa-prevision-de-croissance-pour-2021-a-5-1304166', '/economie-france/social/covid-plus-dun-soignant-sur-deux-a-recu-une-premiere-dose-de-vaccin-1304111', '/economie-france/social/covid-les-vrais-chiffres-des-reanimations-1304063', '/economie-france/social/covid-la-fonction-publique-mise-aussi-sur-le-teletravail-et-la-souplesse-pour-la-garde-denfant-1304004', '/economie-france/social/covid-le-tableau-de-bord-de-la-vaccination-en-france-par-age-et-par-departement-1303994', '/politique-societe/gouvernement/projet-de-loi-climat-les-deputes-recadrent-les-engagements-volontaires-des-entreprises-1303960', '/economie-france/budget-fiscalite/record-de-recettes-fiscales-liees-au-tabac-en-2020-du-fait-du-confinement-1303816', '/economie-france/social/covid-le-calendrier-de-la-vaccination-des-enseignants-demeure-flou-1303783', '/economie-france/social/chomage-partiel-lexecutif-fait-un-geste-pour-les-parents-de-jeunes-enfants-1303732', '/economie-france/social/covid-et-teletravail-les-conditions-pour-soccuper-de-son-enfant-assouplies-1303597', '/economie-france/social/covid-olivier-veran-sattend-a-10000-patients-en-reanimation-fin-avril-1303488', '/economie-france/social/teletravail-chomage-partiel-ce-que-change-la-fermeture-des-ecoles-1303388', '/economie-france/budget-fiscalite/covid-bercy-revoit-a-la-hausse-a-11-milliards-par-mois-le-cout-des-aides-aux-entreprises-1303384', '/economie-france/social/covid-les-plus-de-60-ans-pourront-se-faire-vacciner-des-le-16-avril-1303367', '/economie-france/budget-fiscalite/covid-de-nouvelles-restrictions-qui-mettent-les-entreprises-sous-tension-1303354', '/economie-france/social/lepidemie-de-covid-devore-a-nouveau-la-france-1303310', '/politique-societe/politique/loi-climat-passe-darmes-politique-sur-le-futur-eco-score-1303275', '/economie-france/social/lexecutif-veut-inciter-entreprises-et-collectivites-a-acheter-responsable-1303291', '/economie-france/social/top-depart-pour-le-plan-de-modernisation-de-la-formation-professionnelle-1303104', '/politique-societe/gouvernement/loi-climat-le-gouvernement-va-donner-un-coup-daccelerateur-sur-les-renovations-1303097', '/economie-france/conjoncture/covid-linteressement-et-la-participation-victimes-de-la-crise-1303088', '/economie-france/social/patronat-et-syndicats-refusent-de-perdre-la-maitrise-de-lassurance-chomage-1303046', '/economie-france/social/protection-sociale-le-parlement-tente-delargir-le-champ-de-ses-prerogatives-1303034', '/economie-france/budget-fiscalite/bercy-cherche-le-moyen-d-aller-plus-loin-sur-lactionnariat-salarie-1303017', '/economie-france/social/gaz-cookies-publicitaires-treve-hivernale-ce-qui-change-au-1er-avril-1302941', None, '/monde/asie-pacifique/covid-lasie-du-sud-est-desespere-de-revoir-ses-touristes-chinois-1304230', '/monde/afrique-moyen-orient/leconomie-turque-menacee-par-linflation-et-la-volatilite-1304209', '/monde/enjeux-internationaux/en-direct-lundi-5-avril-covid-le-point-sur-la-situation-en-france-et-dans-le-monde-1304206', '/monde/afrique-moyen-orient/vague-darrestations-en-jordanie-sur-fond-de-lutte-de-pouvoir-au-sein-de-la-famille-royale-1304181', '/monde/europe/erdogan-regarde-en-priorite-vers-washington-qui-ne-lui-fera-plus-aucun-cadeau-1304156', '/monde/enjeux-internationaux/en-direct-dimanche-4-avril-covid-le-point-sur-la-situation-en-france-et-dans-le-monde-1304136', '/monde/enjeux-internationaux/en-direct-samedi-3-avril-covid-le-point-sur-la-situation-en-france-et-dans-le-monde-1304061', '/monde/europe/la-gestion-des-migrants-premier-pas-vers-la-detente-entre-bruxelles-et-ankara-1304060', '/monde/enjeux-internationaux/washington-pret-a-discuter-avec-teheran-dun-retour-dans-laccord-sur-le-nucleaire-1304000', '/monde/etats-unis/le-chomage-recule-fortement-aux-etats-unis-confirmant-la-reprise-1303982', '/monde/europe/pays-bas-mark-rutte-evite-la-deconfiture-de-justesse-1303924', '/monde/europe/covid-leurope-de-louest-fait-un-geste-pour-lest-en-attendant-les-livraisons-de-vaccins-1303901', '/monde/asie-pacifique/birmanie-le-conseil-de-securite-de-lonu-condamne-fermement-les-tueries-1303847', '/monde/etats-unis/etats-unis-lambitieux-plan-de-relance-de-joe-biden-en-six-questions-1303809', '/monde/enjeux-internationaux/en-direct-vendredi-2-avril-covid-le-point-sur-la-situation-en-france-et-dans-le-monde-1303800', '/monde/ameriques/pari-reussi-pour-les-100-jours-de-biden-1303784', '/monde/asie-pacifique/covid-linde-se-bat-contre-une-seconde-vague-et-elargit-sa-campagne-de-vaccination-1303681', '/monde/etats-unis/etats-unis-le-retour-assume-du-big-government-1303679', '/monde/europe/berlin-empetre-dans-sa-taxation-du-co2-1303676', '/monde/etats-unis/etats-unis-le-proces-du-policier-qui-a-tue-george-floyd-ravive-les-tensions-raciales-1303648', '/monde/enjeux-internationaux/aux-etats-unis-pandemie-et-relance-saturent-les-ports-de-la-cote-ouest-1303527', '/monde/europe/russie-alexei-navalny-entame-une-greve-de-la-faim-1303486', '/monde/asie-pacifique/au-japon-les-grandes-entreprises-retrouvent-leur-moral-davant-le-covid-1303418', '/monde/enjeux-internationaux/en-direct-jeudi-1er-avril-covid-le-point-sur-la-situation-en-france-et-dans-le-monde-1303395', '/monde/europe/vaccin-astrazeneca-lema-ne-voit-pas-a-ce-stade-de-risques-lies-a-lage-1303336', None, '/tech-medias/hightech/education-en-ligne-la-chine-fait-la-course-en-tete-1304254', '/tech-medias/hightech/lg-eteint-ses-smartphones-pour-doper-ses-investissements-dans-lautomobile-du-futur-1304211', '/tech-medias/medias/letat-replafonne-la-publicite-sur-radio-france-1304169', '/tech-medias/hightech/facebook-les-donnees-personnelles-de-500-millions-dutilisateurs-auraient-ete-rendues-publiques-1304125', '/tech-medias/hightech/la-tech-americaine-rouvre-progressivement-ses-bureaux-1304028', '/tech-medias/hightech/larcep-en-passe-dobtenir-de-nouveaux-pouvoirs-en-matiere-denvironnement-1303980', '/politique-societe/gouvernement/projet-de-loi-climat-les-deputes-recadrent-les-engagements-volontaires-des-entreprises-1303960', '/tech-medias/hightech/les-depenses-en-applis-mobiles-continuent-de-battre-des-records-1303707', '/tech-medias/medias/face-au-risque-dembouteillage-le-cnc-facilite-encore-la-sortie-de-films-sur-le-petit-ecran-1303665', '/tech-medias/hightech/atos-chute-en-bourse-en-raison-dun-audit-sur-les-comptes-de-filiales-aux-etats-unis-1303610', '/tech-medias/hightech/semi-conducteurs-tsmc-va-investir-100-milliards-de-dollars-en-seulement-trois-ans-1303585', '/tech-medias/hightech/realite-augmentee-microsoft-signe-un-mega-contrat-de-22-milliards-avec-larmee-americaine-1303581', '/tech-medias/hightech/lepidemie-consacre-le-cloud-et-les-grands-data-centers-1303429', '/tech-medias/hightech/hitachi-soffre-un-developpeur-americain-de-logiciels-pour-96-milliards-de-dollars-1303262', '/tech-medias/hightech/les-data-centers-poussent-comme-des-champignons-partout-en-france-1303257', '/tech-medias/hightech/huawei-se-replie-sur-le-marche-chinois-pour-resister-1303247', '/tech-medias/hightech/motorola-profite-de-la-5g-pour-se-relancer-en-france-1303198', '/tech-medias/hightech/google-maps-indiquera-bientot-les-trajets-les-plus-ecologiques-1303194', '/tech-medias/hightech/cloud-comment-microsoft-rogne-sur-le-leader-amazon-1303152', '/tech-medias/hightech/geotwin-veut-aider-les-villes-a-devenir-plus-intelligentes-1303148', '/tech-medias/hightech/capgemini-promet-daugmenter-encore-ses-marges-dans-les-cinq-ans-a-venir-1303117', '/tech-medias/hightech/cookies-publicitaires-la-cnil-met-lindustrie-au-regime-sec-1302977', '/tech-medias/hightech/lindustrie-de-la-publicite-se-prepare-a-se-passer-de-cookies-1302901', '/tech-medias/medias/tele-le-csa-pour-une-revision-des-seuils-anti-concentration-1302893', '/tech-medias/medias/la-lecture-recule-chez-les-francais-1302886', None, '/industrie-services/tourisme-transport/air-canada-fait-une-croix-sur-le-rachat-de-transat-1304258', '/industrie-services/tourisme-transport/la-recapitalisation-dair-france-paree-a-decoller-1304243', '/industrie-services/automobile/waymo-tourne-une-page-avec-le-depart-de-son-patron-1304228', '/industrie-services/automobile/pourquoi-les-constructeurs-auto-font-la-chasse-aux-options-1304223', '/industrie-services/air-defense/spatial-tout-nest-pas-encore-perdu-pour-les-start-up-europeennes-1304143', '/industrie-services/energie-environnement/nucleaire-les-etats-unis-comptent-sur-les-petits-reacteurs-1304133', '/industrie-services/air-defense/covid-une-facture-a-3-milliards-de-dollars-pour-la-nasa-1304100', '/industrie-services/energie-environnement/climat-quand-les-etes-dureront-six-mois-1304085', '/industrie-services/tourisme-transport/les-loueurs-de-voitures-prives-de-boussole-avant-lete-1304080', '/industrie-services/air-defense/avion-de-combat-du-futur-dassault-et-airbus-enfin-sur-la-meme-longueur-donde-1304034', '/industrie-services/tourisme-transport/les-coronapistes-dopent-la-pratique-du-velo-1304024', '/industrie-services/energie-environnement/a-belfort-deux-syndicats-sappretent-a-attaquer-general-electric-en-justice-1304020', '/industrie-services/pharmacie-sante/pharmacie-quand-la-belgique-montre-le-chemin-1303995', '/industrie-services/energie-environnement/lamf-critique-la-pilule-empoisonnee-brandie-par-suez-contre-veolia-1303977', '/industrie-services/conso-distribution/alimentation-cure-damaigrissement-sur-les-acides-gras-trans-1303957', '/industrie-services/pharmacie-sante/covid-la-france-envisage-de-se-passer-du-vaccin-dastrazeneca-au-deuxieme-semestre-1303948', '/industrie-services/mode-luxe/zadig-voltaire-pret-a-repasser-a-loffensive-1303892', '/industrie-services/mode-luxe/environnement-les-pme-de-la-mode-craignent-linflation-du-nombre-de-labels-1303857', '/industrie-services/conso-distribution/comment-invivo-veut-devenir-un-geant-mondial-du-vin-1303823', '/industrie-services/services-conseils/patricia-lexcellent-femme-de-reseaux-1303820', '/industrie-services/tourisme-transport/lincident-du-canal-de-suez-est-un-grain-de-sable-dans-le-commerce-mondial-qui-va-continuer-a-se-developper-affirme-le-patron-de-cma-cgm-1303797', '/industrie-services/immobilier-btp/vinci-mise-5-milliards-deuros-sur-les-energies-renouvelables-1303713', '/industrie-services/services-conseils/le-nouveau-confinement-creuse-encore-les-inegalites-entre-les-entreprises-1303697', '/industrie-services/energie-environnement/suez-remet-la-pression-sur-veolia-en-avancant-sur-une-cession-en-australie-1303677', '/industrie-services/services-conseils/sodexo-se-tient-pret-a-gerer-des-centres-de-vaccination-1303675', None, 'https://investir.lesechos.fr/marches/actualites/usa-la-croissance-de-l-emploi-depasse-les-attentes-en-mars-1956177.php', 'https://investir.lesechos.fr/marches/actualites/usa-forte-croissance-du-marche-de-l-emploi-en-mars-1956173.php', 'https://investir.lesechos.fr/actions/actualites/la-reponse-de-suez-a-l-offre-de-veolia-ne-respecte-par-les-regles-sur-les-opa-amf-1956167.php', 'https://investir.lesechos.fr/actions/actualites/la-reponse-de-suez-a-l-offre-de-veolia-ne-respecte-par-les-regles-sur-les-opa-amf-1956162.php', 'https://investir.lesechos.fr/marches/actualites/pays-bas-mark-rutte-n-obtient-pas-le-vote-de-confiance-du-parlement-1956122.php', 'https://investir.lesechos.fr/marches/a-ne-pas-manquer-demain/la-bourse-de-paris-s-offre-un-week-end-prolonge-de-4-jours-1956014.php', 'https://investir.lesechos.fr/actions/actualites/wall-street-termine-en-hausse-le-s-p-500-passe-les-4-000-points-1956110.php', 'https://investir.lesechos.fr/marches/actualites/le-cac-40-debute-le-deuxieme-trimestre-au-dessus-des-6-100-points-1956073.php', 'https://investir.lesechos.fr/placements/vie-pratique/actualites/plan-epargne-logement-la-banque-postale-au-tribunal-1956064.php', 'https://investir.lesechos.fr/marches/actualites/le-cac-40-accelere-et-gravite-autour-des-6-100-points-1956042.php', 'https://investir.lesechos.fr/marches/actualites/la-bourse-de-paris-soutenue-par-de-bons-chiffres-en-europe-atos-plonge-1956024.php', 'https://investir.lesechos.fr/actions/actualites/atos-plonge-de-plus-de-20-les-auditeurs-ont-trouve-des-anomalies-dans-les-comptes-2020-de-deux-entites-americaines-1956009.php', 'https://investir.lesechos.fr/marches/actualites/la-bourse-de-paris-soutenue-par-de-bons-chiffres-en-europe-atos-plonge-1955996.php', 'https://investir.lesechos.fr/actions/actualites/atos-chute-en-bourse-apres-les-reserves-emises-par-ses-commissaires-aux-comptes-1955980.php', 'https://investir.lesechos.fr/actions/actualites/atos-les-commissaires-aux-comptes-ont-emis-une-reserve-sur-deux-entites-aux-usa-1955947.php', 'https://investir.lesechos.fr/marches/actualites/la-bourse-de-paris-sans-reaction-aux-annonces-de-joe-biden-et-emmanuel-macron-1955957.php', 'https://investir.lesechos.fr/marches/morning-meeting/apres-biden-et-macron-retour-aux-chiffres-a-la-bourse-de-paris-1955948.php', 'https://investir.lesechos.fr/marches/actualites/biden-propose-un-investissement-de-2-000-mds-dans-l-economie-us-1955936.php', 'https://investir.lesechos.fr/actions/actualites/sodexo-vise-un-retour-a-la-croissance-au-s2-apres-avoir-atteint-ses-objectifs-au-s1-1955930.php', 'https://investir.lesechos.fr/marches/a-ne-pas-manquer-demain/une-derniere-seance-placee-sous-le-signe-des-indices-pmi-et-de-la-reunion-de-l-opep-1955814.php', 'https://investir.lesechos.fr/placements/retraite/dossiers/retraite-optimiser-son-depart-en-temps-de-crise/optimiser-son-depart-en-temps-de-crise-1955176.php', 'https://investir.lesechos.fr/marches/actualites/le-cac-40-finit-la-seance-en-legere-baisse-mais-il-gagne-9-3-sur-le-trimestre-1955876.php', 'https://investir.lesechos.fr/marches/actualites/le-cac-40-attend-avec-prudence-ses-rendez-vous-avec-joe-biden-et-emmanuel-macron-1955864.php', 'https://investir.lesechos.fr/marches/actualites/le-secteur-prive-americain-a-cree-517-000-emplois-en-mars-contre-176-000-en-fevrier-et-550-000-attendus-par-le-consensus-rapport-adp-1955845.php', 'https://investir.lesechos.fr/marches/actualites/le-cac-40-comme-paralyse-avant-les-interventions-de-joe-biden-et-d-emmanuel-macron-1955851.php', None, '/finance-marches/gestion-actifs/la-banque-postale-am-repart-a-loffensive-aupres-des-investisseurs-institutionnels-1304233', '/finance-marches/marches-financiers/le-trader-le-troupeau-fantome-et-larnaque-a-200-millions-de-dollars-1304198', '/finance-marches/banque-assurances/wall-street-organise-prudemment-le-retour-au-bureau-1304195', '/finance-marches/banque-assurances/les-dirigeants-de-credit-suisse-dans-le-viseur-des-actionnaires-1304184', '/finance-marches/banque-assurances/les-banques-britanniques-tentees-de-normaliser-le-teletravail-1304092', '/finance-marches/marches-financiers/inebranlables-les-places-boursieres-mondiales-continuent-de-grimper-1304050', '/finance-marches/banque-assurances/prets-participatifs-les-dernieres-pieces-du-puzzle-se-mettent-en-place-1304041', '/finance-marches/marches-financiers/les-auditeurs-emettent-rarement-des-reserves-sur-les-comptes-des-societes-cotees-1303934', '/finance-marches/marches-financiers/que-sont-les-sukuk-des-bons-du-tresor-britannique-conformes-aux-regles-islamiques-1303909', '/finance-marches/marches-financiers/cryptomonnaies-coinbase-fera-son-entree-en-bourse-le-14-avril-1303903', '/finance-marches/marches-financiers/laffaire-archegos-remet-le-levier-financier-au-coeur-des-preoccupations-des-regulateurs-1303852', '/finance-marches/gestion-actifs/axa-venture-partners-veut-monter-en-puissance-1303843', '/finance-marches/marches-financiers/la-dette-souveraine-chinoise-fait-une-entree-remarquee-dans-les-grands-indices-1303840', '/finance-marches/marches-financiers/en-doublant-de-valeur-cette-annee-le-bitcoin-et-les-cryptos-prolongent-letat-de-grace-de-2020-1303813', '/finance-marches/banque-assurances/archegos-la-facture-salourdit-pour-les-banques-1303790', '/finance-marches/marches-financiers/a-wall-street-le-s-p500-bat-un-record-historique-1303750', '/finance-marches/marches-financiers/petrole-lopep-et-la-russie-commencent-a-rouvrir-les-vannes-1303712', '/finance-marches/gestion-actifs/amundi-favori-pour-racheter-la-gestion-dactifs-de-societe-generale-1303687', '/finance-marches/banque-assurances/la-crise-a-divise-par-trois-les-resultats-de-la-caisse-des-depots-1303664', '/finance-marches/banque-assurances/meme-affaibli-par-laffaire-archegos-nomura-ne-va-pas-renoncer-a-son-reve-americain-1303661', '/finance-marches/banque-assurances/immobilier-le-credit-sapprete-a-traverser-un-nouveau-confinement-1303603', '/finance-marches/marches-financiers/les-fusions-et-acquisitions-dans-les-cryptomonnaies-ont-double-en-2020-1303595', '/finance-marches/marches-financiers/paymium-obtient-le-feu-vert-de-lamf-pour-commercialiser-des-crypto-actifs-en-france-1303567', '/finance-marches/marches-financiers/solutions-30-les-auditeurs-jugent-infondees-les-accusations-de-blanchiment-1303560', '/finance-marches/marches-financiers/ladministrateur-referent-un-contre-pouvoir-face-au-pdg-1303422', None, '/pme-regions/innovateurs/agripower-leve-10-millions-pour-etendre-son-spectre-dans-la-methanisation-1304214', '/pme-regions/innovateurs/biodemain-soutient-les-agriculteurs-en-phase-de-conversion-au-bio-1304172', '/pme-regions/hauts-de-france/dans-le-nord-les-golfs-prives-handicapes-par-labsence-des-etrangers-1304152', '/pme-regions/provence-alpes-cote-dazur/eurenco-va-investir-200-millions-dans-une-nouvelle-usine-dexplosifs-a-sorgues-1304146', '/pme-regions/ile-de-france/moins-touche-que-les-autres-sports-le-golf-recrute-des-joueurs-a-tout-va-1304089', '/pme-regions/ile-de-france/saint-denis-la-capacite-daccueil-du-village-olympique-revue-a-la-baisse-1304045', '/pme-regions/ile-de-france/essonne-chilly-mazarin-reclame-avec-insistance-un-centre-de-vaccination-1304044', '/pme-regions/ile-de-france/essonne-des-cabines-de-telemedecine-pour-lutter-contre-le-desert-medical-1304018', '/pme-regions/ile-de-france/essonne-letat-lance-une-nouvelle-operation-de-sauvetage-de-grigny-2-1303996', '/pme-regions/ile-de-france/les-hauts-de-seine-presentent-un-excedent-de-560-millions-deuros-en-2020-malgre-la-crise-1303990', '/pme-regions/ile-de-france/le-recent-engouement-pour-le-golf-profite-a-golf-plus-1303986', '/pme-regions/occitanie/toulouse-jean-luc-moudenc-desavoue-sur-son-plan-local-durbanisme-1303918', '/pme-regions/innovateurs/chantilly-devient-le-laboratoire-a-ciel-ouvert-des-forets-francaises-1303900', '/pme-regions/innovateurs/bw-prend-le-controle-dideol-pour-creer-un-leader-de-leolien-offshore-1303879', '/pme-regions/ile-de-france/yvelines-fortes-oppositions-locales-a-un-projet-de-co-methanisation-1303878', '/pme-regions/ile-de-france/le-t9-nouveau-tramway-entre-en-service-entre-paris-et-orly-1303872', '/pme-regions/occitanie/ales-dans-le-top-30-des-villes-moyennes-les-plus-dynamiques-durant-la-crise-1303724', '/pme-regions/occitanie/le-comite-interministeriel-a-la-ville-delocalise-a-ales-et-nimes-1303981', '/pme-regions/ile-de-france/val-de-marne-la-gare-de-nogent-bastille-bientot-reconnue-patrimoine-dinteret-regional-1303714', '/pme-regions/occitanie/sante-bastide-le-confort-medical-poursuit-sa-croissance-et-developpe-son-reseau-de-franchises-1303670', '/pme-regions/ile-de-france/yvelines-un-ambitieux-contrat-de-developpement-pour-mantes-la-ville-1303668', '/pme-regions/grand-est/kronenbourg-lance-une-plateforme-numerique-pour-aider-la-filiere-cafe-restaurant-1303650', '/pme-regions/occitanie/aura-aero-prepare-un-avion-de-transport-regional-electrique-1303645', '/pme-regions/hauts-de-france/interencheres-voit-les-ventes-de-sa-plateforme-senvoler-1303642', '/pme-regions/hauts-de-france/mercier-pousse-aux-encheres-en-ligne-ses-automobiles-collectors-1303641', None, '/patrimoine/placement/placements-ce-que-cachent-les-super-rendements-du-non-cote-1303858', '/patrimoine/placement/placements-lavenir-aux-audacieux-1303822', '/patrimoine/immobilier/vente-dun-bien-loue-attention-au-droit-de-preemption-du-locataire-1303669', '/patrimoine/assurance/assurance-vie-les-nouveaux-criteres-de-choix-des-fonds-en-euros-1303653', '/patrimoine/placement/placements-cinq-reperes-pour-eviter-les-ecueils-des-fonds-structures-1303636', '/patrimoine/assurance/assurance-vie-il-faut-soigner-les-clauses-beneficiaires-1303619', '/patrimoine/assurance/assurance-vie-le-match-des-unites-de-compte-immobilieres-1303561', '/patrimoine/placement/immobilier-locatif-le-bon-filon-des-caves-parisiennes-1303556', '/patrimoine/investissements-plaisir/la-collection-aux-gouts-pointus-du-publicitaire-francis-gross-chez-christies-a-paris-1303552', '/patrimoine/placement/or-papier-ou-physique-faut-il-investir-aujourdhui-1303414', '/patrimoine/immobilier/immobilier-paris-baisse-le-reste-de-lile-de-france-grimpe-1303387', '/patrimoine/impots/impot-sur-la-fortune-immobiliere-du-nouveau-sur-les-exonerations-1303303', '/patrimoine/immobilier/credit-immobilier-comment-renegocier-votre-assurance-emprunteur-1303233', '/patrimoine/placement/dynamiser-son-epargne-avec-la-tontine-1303140', '/patrimoine/immobilier/le-bien-de-la-semaine-un-quatre-pieces-en-duplex-avec-vue-mer-pres-de-cannes-1303103', '/patrimoine/placement/quels-sont-les-meilleurs-fonds-pour-dynamiser-votre-contrat-dassurance-vie-1302967', '/patrimoine/placement/les-atouts-et-pieges-de-lepargne-de-precaution-1302814', '/patrimoine/immobilier/7-questions-essentielles-sur-le-credit-immobilier-1302804', '/patrimoine/immobilier/immobilier-parisien-les-arrondissements-ou-on-peut-faire-des-affaires-1302631', '/patrimoine/impots/declaration-dimpot-2021-7-charges-ou-depenses-deductibles-de-votre-revenu-imposable-1302352', '/patrimoine/impots/declarations-dimpots-2021-les-6-erreurs-a-eviter-1301823', '/patrimoine/placement/placements-investir-pour-legalite-professionnelle-et-le-bien-etre-au-travail-1301793', '/patrimoine/placement/investir-sur-les-fonds-solidaires-et-de-partage-1301469', '/patrimoine/impots/bailleurs-soutenez-vos-locataires-et-beneficiez-dune-economie-fiscale-1301455', '/patrimoine/placement/placements-durables-sy-retrouver-dans-la-foire-aux-labels-1301449', None]\n"
          ],
          "name": "stdout"
        }
      ]
    },
    {
      "cell_type": "code",
      "metadata": {
        "colab": {
          "base_uri": "https://localhost:8080/"
        },
        "id": "kHN2a1uAdEk1",
        "outputId": "09969a2f-59d7-4a85-9c55-c75dda722a28"
      },
      "source": [
        "len(url_array)"
      ],
      "execution_count": 59,
      "outputs": [
        {
          "output_type": "execute_result",
          "data": {
            "text/plain": [
              "234"
            ]
          },
          "metadata": {
            "tags": []
          },
          "execution_count": 59
        }
      ]
    },
    {
      "cell_type": "code",
      "metadata": {
        "colab": {
          "base_uri": "https://localhost:8080/"
        },
        "id": "R3vO9Q2maAw8",
        "outputId": "a29ff960-0805-4799-a8a0-29e19962c836"
      },
      "source": [
        "content = []\n",
        "new_url = []\n",
        "label = []\n",
        "titles = []\n",
        "for i in url_array: \n",
        "  url = 'https://www.lesechos.fr'\n",
        "  if i !=None and '.php'not in i: # drop some article with missing informations\n",
        "    url+= str(i) #in order to get the differents pages url\n",
        "    print(url)\n",
        "    response = get(url)\n",
        "    html_soup = BeautifulSoup(response.text,'html.parser')\n",
        "    body = html_soup.find(id='app')\n",
        "    main_art = body.find_all('p',class_=\"sc-AxirZ bUHJAM\") # get article content\n",
        "    title = body.find('header',class_='cyue7g-0 bWrNQA') # get article title\n",
        "    titles.append(title.get_text())\n",
        "    print(title.get_text())\n",
        "    fullarticle = ''\n",
        "    for itm in main_art:\n",
        "      fullarticle += itm.get_text().replace('\\xa0',' ').replace('\\u202f',' ') # clean article content\n",
        "    content.append(''.join([i for i in fullarticle if not i.isdigit()]))\n",
        "    new_url.append(url+str(i))\n",
        "    label.append(str(i).split('/')[1])"
      ],
      "execution_count": 60,
      "outputs": [
        {
          "output_type": "stream",
          "text": [
            "https://www.lesechos.fr/politique-societe/gouvernement/loi-climat-lassemblee-renforce-la-vigilance-sur-la-publicite-1304253\n",
            "Loi climat : l'Assemblée renforce la vigilance sur la publicitéLes députés, qui ont achevé l'examen d'une première série d'articles du projet de loi sur le climat, ont renforcé les mesures de lutte l'écoblanchiment et durci l'interdiction de la publicité pour les énergies fossiles.Gouvernement\n",
            "https://www.lesechos.fr/politique-societe/societe/marlene-schiappa-appelle-a-la-responsabilite-et-denonce-lindignite-de-lopposition-1304173\n",
            "Marlène Schiappa appelle « à la responsabilité » et dénonce « l'indignité de l'opposition »Invitée du grand rendez-vous Europe 1-CNews- « Les Echos », la ministre déléguée à la Citoyenneté a dénoncé l'absence de proposition de l'opposition dans la gestion de la crise sanitaire. Elle a souligné que plus de 5,5 millions de contrôles ont été réalisés depuis décembre et des centaines d'établissements clandestins fermés.Société\n",
            "https://www.lesechos.fr/politique-societe/societe/fermeture-des-ecoles-les-embuches-a-surmonter-pour-lenseignement-a-distance-1304141\n",
            "Fermeture des écoles : les embûches à surmonter pour l'enseignement à distanceUn an après le confinement qui avait précipité les établissements dans un enseignement à distance brutal, 5 à 15 % des enfants n'ont toujours pas de matériel informatique à la maison pour suivre un tel enseignement.Société\n",
            "https://www.lesechos.fr/politique-societe/regions/covid-les-communes-sous-pression-avec-la-fermeture-des-ecoles-1304048\n",
            "Covid : les communes sous pression avec la fermeture des écolesLes maires réclament que la liste des personnes pouvant mettre leurs enfants à l'école ou à la crèche la semaine prochaine soit élargie aux policiers municipaux ou aux agents territoriaux travaillant dans les centres de vaccination. Elles se préparent à faire face à l'absence de nombreux agents.Régions\n",
            "https://www.lesechos.fr/politique-societe/societe/confinement-les-assistantes-maternelles-finalement-autorisees-a-garder-les-enfants-1304019\n",
            "Confinement : les assistantes maternelles finalement autorisées à garder les enfantsAprès avoir annoncé le contraire jeudi, le gouvernement a finalement décidé de laisser les assistantes maternelles exercer leur métier pendant le confinement. Celles à qui les parents décideraient de ne pas confier leur enfant pourront bénéficier d'indemnités.Société\n",
            "https://www.lesechos.fr/politique-societe/societe/lidee-dun-revenu-de-base-pour-les-18-24-ans-fait-son-chemin-1304010\n",
            "L'idée d'un revenu de base pour les 18-24 ans fait son cheminPiloté par France Stratégie et présidé par l'ex-patron de Renault Louis Schweitzer, un comité d'experts était chargé d'évaluer le plan anti-pauvreté du gouvernement. La France est l'un des rares pays d'Europe où les jeunes n'ont pas droit au revenu minimal, souligne les auteurs.Société\n",
            "https://www.lesechos.fr/politique-societe/gouvernement/projet-de-loi-climat-les-deputes-recadrent-les-engagements-volontaires-des-entreprises-1303960\n",
            "Les députés durcissent les sanctions contre le «greenwashing»Les députés ont durci, jeudi, les sanctions contre le « greenwashing » et les allégations trompeuses sur la publicité des produits. La bonne conduite des entreprises donnera lieu à un rapport annuel transmis au Parlement.Gouvernement\n",
            "https://www.lesechos.fr/politique-societe/societe/concours-dacces-aux-grandes-ecoles-pas-de-test-pcr-pour-les-epreuves-ecrites-1303942\n",
            "Concours d'accès aux grandes écoles : pas de test PCR pour les épreuves écritesLes candidats aux concours ne seront pas tenus de produire un test négatif au Covid de moins de 72 heures pour passer les épreuves écrites. Pour les oraux, des réflexions sont encore en cours parmi les grandes écoles.Société\n",
            "https://www.lesechos.fr/politique-societe/societe/covid-les-questions-que-pose-le-reconfinement-1303940\n",
            "Covid : les questions que pose le reconfinementEcoles fermées, vacances scolaires décalées, télétravail « systématisé », déplacements interrégionaux interdits… A compter de ce vendredi soir, la France entre dans un troisième confinement, avec des modalités nouvelles par rapport aux deux précédents.Société\n",
            "https://www.lesechos.fr/pme-regions/occitanie/toulouse-jean-luc-moudenc-desavoue-sur-son-plan-local-durbanisme-1303918\n",
            "Toulouse : Jean-Luc Moudenc désavoué sur son plan local d'urbanismeLe tribunal administratif de Toulouse a estimé que le plan d'urbanisme intercommunal adopté en avril 2019 augmente le rythme de consommation d'espaces verts et agricoles au lieu de le diminuer. Le maire Jean-Luc Moudenc (LR) juge que les options prises restent les bonnes.Occitanie\n",
            "https://www.lesechos.fr/politique-societe/emmanuel-macron-president/covid-macron-ecoute-t-il-trop-les-oppositions-1303845\n",
            "Le fait du jour PolitiqueCovid : Macron écoute-t-il trop les oppositions ?Et si Emmanuel Macron ne s'était pas trompé dans son pari du 29 janvier mais dans son faux confinement du 18 mars ? A trop vouloir faire mentir les oppositions…Emmanuel Macron président\n",
            "https://www.lesechos.fr/politique-societe/politique/probable-maintien-des-elections-regionales-en-juin-1303710\n",
            "Probable maintien des élections régionales en juinC'est le scénario « privilégié à ce stade », a indiqué ce jeudi Jean Castex devant les sénateurs. La décision définitive sera rendue la semaine prochaine, mais le maintien du scrutin fait un consensus quasi unanime au sein de la classe politique.Politique\n",
            "https://www.lesechos.fr/politique-societe/politique/covid-jean-castex-sous-le-feu-des-critiques-des-oppositions-1303703\n",
            "Covid : Jean Castex sous le feu des critiques des oppositionsLe Premier ministre a fait ce jeudi le service après-vente de la stratégie d'Emmanuel Macron face « aux morsures » de la crise sanitaire. Les oppositions ont décidé de ne pas prendre part au vote, non contraignant, dénonçant une « mascarade de démocratie ».Politique\n",
            "https://www.lesechos.fr/politique-societe/societe/concours-les-grandes-ecoles-songent-a-imposer-un-test-pcr-aux-candidats-1303720\n",
            "Concours : les grandes écoles songent à imposer un test PCR aux candidatsDu côté des grandes écoles de management, l'obligation de fournir un test de moins de 72 heures avant les écrits et les oraux des concours fait son chemin. La question doit être arbitrée très rapidement par l'exécutif pour tous les concours de l'enseignement supérieur, alors que certains ont lieu la semaine prochaine.Société\n",
            "https://www.lesechos.fr/politique-societe/societe/ecoles-du-monde-face-au-covid-1303674\n",
            "PodcastEcoles du monde face au CovidA distance ou en présentiel ? Pour « La Story », le podcast d'actualité des « Echos », Pierrick Fay a recueilli les témoignages de quatre correspondants du journal à l'étranger sur les choix des pays où ils résident concernant la scolarité des enfants depuis une année de pandémie.Société\n",
            "https://www.lesechos.fr/politique-societe/politique/aurelien-pradie-la-comedie-permanente-ne-peut-plus-cacher-limpuissance-politique-de-macron-1303672\n",
            "InterviewAurélien Pradié : « La comédie permanente ne peut plus cacher l'impuissance politique » de MacronLe secrétaire général de LR, député du Lot et candidat aux régionales, accuse le chef de l'Etat, « monarque au petit costume », de « remplacer l'action par une forme de baratin ». « Si des décisions structurelles, courageuses, différentes, avaient été prises, nous n'en serions pas là », assure-t-il.Politique\n",
            "https://www.lesechos.fr/politique-societe/societe/covid-le-bac-et-les-concours-devraient-etre-maintenus-1303624\n",
            "Covid : le bac et les concours devraient être maintenusLe ministre de l'Education nationale a affirmé vouloir maintenir les épreuves finales du bac, dont la nouvelle épreuve du grand oral. Dans l'enseignement supérieur, les concours sont maintenus, à l'inverse des examens en présentiel qui devront être reportés.Société\n",
            "https://www.lesechos.fr/politique-societe/gouvernement/covid-pilonne-par-les-oppositions-jean-castex-precise-les-restrictions-1303569\n",
            "Covid : pilonné par les oppositions, Jean Castex précise les restrictionsLe Premier ministre a détaillé ce jeudi à l'Assemblée la stratégie de l'exécutif face « aux morsures » de la crise sanitaire. Les députés ont approuvé ces nouvelles mesures mais les oppositions ont décidé de ne pas prendre part au vote, non contraignant pour le gouvernement, dénonçant une « mascarade de démocratie » et pilonnant les fautes de l'exécutif depuis un an.Gouvernement\n",
            "https://www.lesechos.fr/economie-france/social/covid-olivier-veran-sattend-a-10000-patients-en-reanimation-fin-avril-1303488\n",
            "Covid : Olivier Véran envisage un pic de 10.000 patients en réanimation fin avrilLe ministre de la Santé n'a pas donné, jeudi matin, d'objectif chiffré pour le retour à la normale. Il compte sur l'ouverture de 1.200 lits supplémentaires en Ile-de-France et sur les évacuations sanitaires. La vaccination des enseignants commencera par ceux qui sont en contact avec des élèves handicapés, dans plusieurs semaines.Social\n",
            "https://www.lesechos.fr/politique-societe/politique/covid-lopposition-accuse-macron-de-ne-pas-assumer-ses-incoherences-1303459\n",
            "Covid : l'opposition accuse Macron de ne pas « assumer » ses « incohérences »De la droite à la gauche, de nombreux leaders d'opposition ont fustigé les annonces du président de la République lors de son allocution mercredi soir. Bon nombre d'entre eux regrettent l'absence de mea culpa du chef de l'Etat pour la campagne de vaccination qu'ils estiment ratée.Politique\n",
            "https://www.lesechos.fr/politique-societe/emmanuel-macron-president/freiner-vacciner-le-nouveau-pari-de-macron-1303415\n",
            "Le fait du jour PolitiqueFreiner-vacciner : le nouveau pari de MacronDes efforts en avril, une libération grâce au vaccin à partir de la mi-mai. Freiner et vacciner, « c'est la tenaille » du chef de l'Etat pour tenter de maîtriser la vague épidémique.Emmanuel Macron président\n",
            "https://www.lesechos.fr/economie-france/social/teletravail-chomage-partiel-ce-que-change-la-fermeture-des-ecoles-1303388\n",
            "DécryptageTélétravail, chômage partiel… : ce que change la fermeture des écolesLa fermeture des écoles annoncée par Emmanuel Macron va provoquer une multiplication d'arrêts de travail pour garde d'enfant… Sauf pour les salariés qui peuvent télétravailler. Les employeurs du privé ne seront cette fois-ci pas mis à contribution.Social\n",
            "https://www.lesechos.fr/economie-france/budget-fiscalite/covid-bercy-revoit-a-la-hausse-a-11-milliards-par-mois-le-cout-des-aides-aux-entreprises-1303384\n",
            "Covid : Bercy revoit à la hausse à 11 milliards par mois le coût des aides aux entreprisesLe nouveau tour de vis sanitaire va renchérir le coût des aides aux entreprises pour les finances publiques, qui passe de 7,5 milliards d'euros par mois à 11 milliards. Environ 150.000 commerces seront fermés sur le territoire après les annonces d'Emmanuel Macron.Budget fiscalité\n",
            "https://www.lesechos.fr/politique-societe/emmanuel-macron-president/ecoles-deplacements-vacances-commerces-les-nouvelles-regles-annoncees-par-emmanuel-macron-1303382\n",
            "Ecoles, déplacements, vacances, commerces : les nouvelles règles annoncées par Emmanuel MacronLes mesures de freinage renforcé déjà mises en place dans 19 départements sont étendues à l'ensemble du territoire métropolitain dès samedi et pour quatre semaines, a annoncé le chef de l'Etat mercredi soir.Emmanuel Macron président\n",
            "https://www.lesechos.fr/economie-france/social/covid-les-plus-de-60-ans-pourront-se-faire-vacciner-des-le-16-avril-1303367\n",
            "Covid : les plus de 60 ans pourront se faire vacciner dès le 16 avrilEmmanuel Macron a dévoilé ce mercredi soir les prochaines étapes de la campagne vaccinale pour prendre « en tenaille » l'épidémie. Les plus de 50 ans pourront se faire vacciner à partir du 15 mai, et l'ensemble des adultes dès la mi-juin. Une « stratégie spécifique » est prévue pour les enseignants et autres « professions exposées ».Social\n",
            "https://www.lesechos.fr/economie-france/conjoncture/covid-le-gouvernement-abaisse-sa-prevision-de-croissance-pour-2021-a-5-1304166\n",
            "Covid : le gouvernement abaisse sa prévision de croissance pour 2021 à 5 %Les nouvelles restrictions sanitaires contraignent le gouvernement à revoir ses prévisions pour l'année 2021. Le ministre de l'Economie Bruno Le Maire a annoncé ce dimanche qu'il tablait désormais sur une croissance de 5 %, contre 6 % précédemment. Le déficit public devrait atteindre 9 %.Conjoncture\n",
            "https://www.lesechos.fr/economie-france/social/covid-plus-dun-soignant-sur-deux-a-recu-une-premiere-dose-de-vaccin-1304111\n",
            "Covid : plus d'un soignant sur deux a reçu une première dose de vaccinA la fin du mois de mars, 51 % des professionnels de santé avaient reçu au moins une injection du vaccin. Un chiffre encourageant, mais encore largement insuffisant pour assurer une protection globale contre le virus.Social\n",
            "https://www.lesechos.fr/economie-france/social/covid-les-vrais-chiffres-des-reanimations-1304063\n",
            "ExclusifCovid : les vrais chiffres des réanimationsEnviron 2.300 lits de réanimation peuvent encore être ouverts, toutes pathologies confondues. Dans les Hauts-de-France, la marge de manoeuvre n'est plus que de 5 %. Les patients Covid mobilisent plus de la moitié des lits de réa dans les régions les plus en crise.Social\n",
            "https://www.lesechos.fr/economie-france/social/covid-la-fonction-publique-mise-aussi-sur-le-teletravail-et-la-souplesse-pour-la-garde-denfant-1304004\n",
            "Fermeture des écoles : l'Etat fera preuve de souplesse pour les fonctionnairesLa ministre de la Fonction publique défend une « ligne pragmatique, de bon sens et bienveillante » pour faciliter la garde des enfants. Les mêmes règles s'appliqueront que dans le privé pour l'activité partielle.Social\n",
            "https://www.lesechos.fr/economie-france/social/covid-le-tableau-de-bord-de-la-vaccination-en-france-par-age-et-par-departement-1303994\n",
            "En chiffresCovid : le tableau de bord de la vaccination en France, par âge et par départementAprès des débuts poussifs, la campagne de vaccination a accéléré et les publics concernés se sont étendus. Le point sur la couverture vaccinale contre le Covid-19, par classe d'âge et sur l'ensemble du territoire français. Une infographie actualisée quotidiennement.Social\n",
            "https://www.lesechos.fr/politique-societe/gouvernement/projet-de-loi-climat-les-deputes-recadrent-les-engagements-volontaires-des-entreprises-1303960\n",
            "Les députés durcissent les sanctions contre le «greenwashing»Les députés ont durci, jeudi, les sanctions contre le « greenwashing » et les allégations trompeuses sur la publicité des produits. La bonne conduite des entreprises donnera lieu à un rapport annuel transmis au Parlement.Gouvernement\n",
            "https://www.lesechos.fr/economie-france/budget-fiscalite/record-de-recettes-fiscales-liees-au-tabac-en-2020-du-fait-du-confinement-1303816\n",
            "ExclusifRecord de recettes fiscales liées au tabac en 2020 du fait du confinementLes recettes liées au tabac ont grimpé à plus de 15 milliards d'euros l'an passé, un record, en partie grâce au confinement qui a bloqué les ventes transfrontalières. Cette hausse n'empêche pas une chute globale des recettes douanières de 10 %.Budget fiscalité\n",
            "https://www.lesechos.fr/economie-france/social/covid-le-calendrier-de-la-vaccination-des-enseignants-demeure-flou-1303783\n",
            "FocusCovid : le calendrier de la vaccination des enseignants demeure flouEmmanuel Macron a promis « une stratégie spécifique » pour la vaccination des professions exposées, comme les enseignants ou les forces de l'ordre. Les représentants syndicaux et certains politiques réclament un passage en priorité pour les personnels scolaires au sens large. L'exécutif semble hésiter.Social\n",
            "https://www.lesechos.fr/economie-france/social/chomage-partiel-lexecutif-fait-un-geste-pour-les-parents-de-jeunes-enfants-1303732\n",
            "Chômage partiel : l'exécutif fait un geste pour les parents de jeunes enfantsAprès le chef de l'Etat mercredi, le Premier ministre, Jean Castex, a appelé à « systématis [er] » le télétravail, qui représente « 40 % du succès d'un confinement », selon Olivier Véran. S'il n'est pas compatible avec la garde de ses enfants, les parents concernés pourront bénéficier de l'activité partielle.Social\n",
            "https://www.lesechos.fr/economie-france/social/covid-et-teletravail-les-conditions-pour-soccuper-de-son-enfant-assouplies-1303597\n",
            "Télétravail : les conditions pour s'occuper de son enfant assoupliesIl sera en définitive possible de s'arrêter pour garder son enfant même si l'on peut télétravailler, à condition que l'employeur soit d'accord. La mise en chômage partiel étant dans ce cas entièrement financée par l'Etat.Social\n",
            "https://www.lesechos.fr/economie-france/social/covid-olivier-veran-sattend-a-10000-patients-en-reanimation-fin-avril-1303488\n",
            "Covid : Olivier Véran envisage un pic de 10.000 patients en réanimation fin avrilLe ministre de la Santé n'a pas donné, jeudi matin, d'objectif chiffré pour le retour à la normale. Il compte sur l'ouverture de 1.200 lits supplémentaires en Ile-de-France et sur les évacuations sanitaires. La vaccination des enseignants commencera par ceux qui sont en contact avec des élèves handicapés, dans plusieurs semaines.Social\n",
            "https://www.lesechos.fr/economie-france/social/teletravail-chomage-partiel-ce-que-change-la-fermeture-des-ecoles-1303388\n",
            "DécryptageTélétravail, chômage partiel… : ce que change la fermeture des écolesLa fermeture des écoles annoncée par Emmanuel Macron va provoquer une multiplication d'arrêts de travail pour garde d'enfant… Sauf pour les salariés qui peuvent télétravailler. Les employeurs du privé ne seront cette fois-ci pas mis à contribution.Social\n",
            "https://www.lesechos.fr/economie-france/budget-fiscalite/covid-bercy-revoit-a-la-hausse-a-11-milliards-par-mois-le-cout-des-aides-aux-entreprises-1303384\n",
            "Covid : Bercy revoit à la hausse à 11 milliards par mois le coût des aides aux entreprisesLe nouveau tour de vis sanitaire va renchérir le coût des aides aux entreprises pour les finances publiques, qui passe de 7,5 milliards d'euros par mois à 11 milliards. Environ 150.000 commerces seront fermés sur le territoire après les annonces d'Emmanuel Macron.Budget fiscalité\n",
            "https://www.lesechos.fr/economie-france/social/covid-les-plus-de-60-ans-pourront-se-faire-vacciner-des-le-16-avril-1303367\n",
            "Covid : les plus de 60 ans pourront se faire vacciner dès le 16 avrilEmmanuel Macron a dévoilé ce mercredi soir les prochaines étapes de la campagne vaccinale pour prendre « en tenaille » l'épidémie. Les plus de 50 ans pourront se faire vacciner à partir du 15 mai, et l'ensemble des adultes dès la mi-juin. Une « stratégie spécifique » est prévue pour les enseignants et autres « professions exposées ».Social\n",
            "https://www.lesechos.fr/economie-france/budget-fiscalite/covid-de-nouvelles-restrictions-qui-mettent-les-entreprises-sous-tension-1303354\n",
            "DécryptageCovid : de nouvelles restrictions qui mettent les entreprises sous tensionLa mise sous cloche des établissements scolaires et des crèches annoncée par Emmanuel Macron fait peser le risque de désorganiser les entreprises, même si la période limitée décidée réduit pour le moment les dégâts potentiels. Les entreprises vont se tourner un peu plus vers le chômage partiel.Budget fiscalité\n",
            "https://www.lesechos.fr/economie-france/social/lepidemie-de-covid-devore-a-nouveau-la-france-1303310\n",
            "En chiffresL'épidémie de Covid dévore à nouveau la FranceL'indicateur de tension hospitalière a passé le cap de 100 % à l'échelle nationale. Les régions les moins touchées remobilisent leurs soignants. Les hôpitaux publics réclament un confinement strict et sans délai. Même en confinant, 5.500 lits de réanimation seraient occupés à la mi-avril.Social\n",
            "https://www.lesechos.fr/politique-societe/politique/loi-climat-passe-darmes-politique-sur-le-futur-eco-score-1303275\n",
            "Loi climat : passe d'armes politique sur le futur Eco-scoreDéfendue par les députés de gauche et du centre-droit, l'intégration de critères sociaux dans la future étiquette d'affichage des performances environnementales a été rejetée de très peu. Le gouvernement et la majorité essuient leur première escarmouche sur le projet de loi climat.Politique\n",
            "https://www.lesechos.fr/economie-france/social/lexecutif-veut-inciter-entreprises-et-collectivites-a-acheter-responsable-1303291\n",
            "L'exécutif veut inciter entreprises et collectivités à acheter « responsable »Le label « achats responsables » va être élargi et comprendre des critères environnementaux et sociaux. La secrétaire d'Etat à l'Economie solidaire, Olivia Grégoire, a pour objectif que 80 % des achats publics soient labellisés « responsables » d'ici à la fin 2022.Social\n",
            "https://www.lesechos.fr/economie-france/social/top-depart-pour-le-plan-de-modernisation-de-la-formation-professionnelle-1303104\n",
            "Top départ pour le plan de modernisation de la formation professionnelleLa haut-commissaire aux Compétences, Carine Seiler, présente ce mercredi le calendrier de mise en oeuvre de ce plan doté de 300 millions d'euros. Un tiers des organismes de formation de moins de 50 salariés n'ont pas évolué, en un an, dans leurs démarches de numérisation.Social\n",
            "https://www.lesechos.fr/politique-societe/gouvernement/loi-climat-le-gouvernement-va-donner-un-coup-daccelerateur-sur-les-renovations-1303097\n",
            "Loi climat : le gouvernement va donner un coup d'accélérateur sur les rénovationsBarbara Pompili, la ministre de la Transition écologique, veut interdire à la location, en 2034, les logements dont le diagnostic de performance énergétique figure en catégorie E. Et avancer à 2025 la mise hors marché des biens les plus énergivores, ceux classés G.Gouvernement\n",
            "https://www.lesechos.fr/economie-france/conjoncture/covid-linteressement-et-la-participation-victimes-de-la-crise-1303088\n",
            "DécryptageCovid : l'intéressement et la participation, victimes de la criseLes bénéfices des entreprises ayant baissé en 2020, l'intéressement et la participation versés aux salariés en pâtiront logiquement. La reconduction pour la troisième année consécutive de la « prime Macron » n'est pas non plus favorable à l'épargne salariale.Conjoncture\n",
            "https://www.lesechos.fr/economie-france/social/patronat-et-syndicats-refusent-de-perdre-la-maitrise-de-lassurance-chomage-1303046\n",
            "Patronat et syndicats refusent de perdre la maîtrise de l'assurance-chômageLe Medef a initié une déclaration patronat-syndicats s'opposant à l'intégration de l'assurance-chômage dans le projet de loi de financement de la Sécurité sociale, avant de se raviser. La ministre du Travail doit engager, en avril, des discussions avec les partenaires sociaux sur la gouvernance du régime.Social\n",
            "https://www.lesechos.fr/economie-france/social/protection-sociale-le-parlement-tente-delargir-le-champ-de-ses-prerogatives-1303034\n",
            "Protection sociale : le Parlement tenté d'élargir le champ de ses prérogativesThomas Mesnier, le rapporteur général de la commission des Affaires sociales de l'Assemblée, prépare sa proposition de loi organique. Elle vise à redonner la main aux députés sur le calendrier, la conception et le suivi de la loi de financement de la Sécurité sociale, en étendant son monopole. Mais les syndicats et le patronat, qui gèrent l'Unédic et l'Agirc-Arrco, sont en embuscade.Social\n",
            "https://www.lesechos.fr/economie-france/budget-fiscalite/bercy-cherche-le-moyen-d-aller-plus-loin-sur-lactionnariat-salarie-1303017\n",
            "Bercy cherche le moyen d'« aller plus loin » sur l'actionnariat salariéAprès avoir donné un coup de pouce à l'actionnariat salarié dans la loi de Finances, le ministère de l'Economie n'exclut pas d'aller plus loin. Une mission parlementaire confiée à Jean-Noël Barrot remettra des propositions en juin.Budget fiscalité\n",
            "https://www.lesechos.fr/economie-france/social/gaz-cookies-publicitaires-treve-hivernale-ce-qui-change-au-1er-avril-1302941\n",
            "Gaz, cookies publicitaires, trêve hivernale… ce qui change au 1er avrilLes tarifs du gaz vont légèrement baisser jeudi. Certaines mesures sociales, mises en place au début de la crise sanitaire, prennent fin. D'autres, à l'inverse, sont prolongées. Revue de détail des changements de ce mois d'avril.Social\n",
            "https://www.lesechos.fr/monde/asie-pacifique/covid-lasie-du-sud-est-desespere-de-revoir-ses-touristes-chinois-1304230\n",
            "Covid : l'Asie du Sud-est désespère de revoir ses touristes chinoisMême s'ils contrôlent l'épidémie de Covid-19, les pays de la région souffrent de l'arrêt brutal de l'indispensable tourisme chinois. Ils tentent de négocier des corridors sécurisés pour organiser le retour des voyageurs. Mais Pékin hésite.Asie & Pacifique\n",
            "https://www.lesechos.fr/monde/afrique-moyen-orient/leconomie-turque-menacee-par-linflation-et-la-volatilite-1304209\n",
            "L'économie turque menacée par l'inflation et la volatilitéSi l'exécutif turc se comporte parfois comme un éléphant dans un magasin de porcelaine, il a un talon d'Achille: la fragilité de son économie. Cette dernière est menacée par l'inflation et la défiance des investisseurs.Afrique & Moyen-Orient\n",
            "https://www.lesechos.fr/monde/enjeux-internationaux/en-direct-lundi-5-avril-covid-le-point-sur-la-situation-en-france-et-dans-le-monde-1304206\n",
            "EN DIRECT - Covid : la production du vaccin Pfizer sur le sol français démarre mercrediDans l'usine Delpharm, installée en Eure-et-Loir, le conditionnement des flacons des doses du vaccin développé par Pfizer/BioNTech va démarrer le 7 avril. Au total, les sites de production français ont l'objectif de distribuer 250 millions de doses de vaccin à toute l'Union européenne d'ici la fin 2021.Enjeux internationaux\n",
            "https://www.lesechos.fr/monde/afrique-moyen-orient/vague-darrestations-en-jordanie-sur-fond-de-lutte-de-pouvoir-au-sein-de-la-famille-royale-1304181\n",
            "Jordanie : vague d'arrestations sur fond de lutte de pouvoir au sein de la famille royaleAccusé de menacer la sécurité du pays, le demi-frère du roi Abdallah II, le prince Hamza, a été assigné à résidence samedi dans son palais, tandis qu'une quinzaine d'autres personnes ont été arrêtées. Ecarté de la succession au trône en 2004, le prince Hamza nie toute tentative de coup d'Etat.Afrique & Moyen-Orient\n",
            "https://www.lesechos.fr/monde/europe/erdogan-regarde-en-priorite-vers-washington-qui-ne-lui-fera-plus-aucun-cadeau-1304156\n",
            "Turquie : « Erdogan regarde en priorité vers Washington, qui ne lui fera plus aucun cadeau »La rencontre entre les dirigeants de l'UE et le président turc, mardi, s'annonce délicate, selon l'historien Pierre Razoux. Le numéro un turc calme néanmoins le jeu car il sent bien que son partenaire clé, les Etats-Unis, sera désormais moins indulgent.Europe\n",
            "https://www.lesechos.fr/monde/enjeux-internationaux/en-direct-dimanche-4-avril-covid-le-point-sur-la-situation-en-france-et-dans-le-monde-1304136\n",
            "Covid : ce qu'il faut retenir de la journée du 4 avrilPlus de 5.300 personnes atteintes du Covid sont actuellement soignées en réanimation. 270 d'entre elles y ont été admises au cours des dernières vingt-quatre heures. Emmanuel Macron pourrait à nouveau s'exprimer devant les Français avant la fin du mois, selon Gabriel Attal.Enjeux internationaux\n",
            "https://www.lesechos.fr/monde/enjeux-internationaux/en-direct-samedi-3-avril-covid-le-point-sur-la-situation-en-france-et-dans-le-monde-1304061\n",
            "Covid : ce qu'il faut retenir de la journée de samediDe nouvelles restrictions entrent en vigueur en France. Les règles déjà imposées à 19 départements en vigilance renforcée sont désormais étendues à toute la métropole pour quatre semaines. La campagne de vaccination bat son plein, mais la pression sur les hôpitaux ne faiblit pas.Enjeux internationaux\n",
            "https://www.lesechos.fr/monde/europe/la-gestion-des-migrants-premier-pas-vers-la-detente-entre-bruxelles-et-ankara-1304060\n",
            "La gestion des migrants, premier pas vers la détente entre Bruxelles et AnkaraAvant même de se rendre en Turquie mardi, les dirigeants de l'Union européenne, Charles Michel et Ursula von der Leyen, ont affiché leur volonté de renouveler l'accord de mars 2016 qui a permis de juguler la vague migratoire vers l'Europe. Le pari est tenable à condition que les conditions posées par Ankara ne soient pas insurmontables.Europe\n",
            "https://www.lesechos.fr/monde/enjeux-internationaux/washington-pret-a-discuter-avec-teheran-dun-retour-dans-laccord-sur-le-nucleaire-1304000\n",
            "Washington prêt à discuter avec Téhéran d'un retour dans l'accord sur le nucléaireLes Etats-Unis ont annoncé, ce vendredi, qu'ils étaient prêts à des discussions sur un « retour mutuel » d'eux-mêmes et de l'Iran dans l'accord de 2015 sur le nucléaire iranien. Une annonce faite à l'issue d'une réunion des pays encore membres de l'accord.Enjeux internationaux\n",
            "https://www.lesechos.fr/monde/etats-unis/le-chomage-recule-fortement-aux-etats-unis-confirmant-la-reprise-1303982\n",
            "En chiffresLe chômage recule fortement aux Etats-Unis, confirmant la repriseEn mars, 916.000 emplois ont été créés, la meilleure performance depuis l'été dernier. Le rythme de vaccination et l'assouplissement des restrictions, un peu partout dans le pays, ont permis un rebond de la consommation. A 6 %, le taux de chômage reste toutefois loin de son niveau pré-Covid.États-Unis\n",
            "https://www.lesechos.fr/monde/europe/pays-bas-mark-rutte-evite-la-deconfiture-de-justesse-1303924\n",
            "Pays-Bas : Mark Rutte évite la déconfiture de justesseUne motion de censure déposée dans la nuit de jeudi à vendredi par l'opposition contre le Premier ministre néerlandais à la suite d'un scandale politique n'a finalement pas abouti. Cet épisode pourrait l'empêcher de diriger le prochain gouvernement.Europe\n",
            "https://www.lesechos.fr/monde/europe/covid-leurope-de-louest-fait-un-geste-pour-lest-en-attendant-les-livraisons-de-vaccins-1303901\n",
            "Covid : l'Europe de l'Ouest fait un geste pour l'Est en attendant les livraisons de vaccinsDix-neuf Etats de l'UE ont accepté jeudi soir d'allouer une partie de leurs quotas de vaccins Pfizer à la Bulgarie, la Croatie, la Lettonie, l'Estonie et la Slovaquie, très en retard sur la vaccination. Mais l'Autriche, la Slovénie et la République tchèque ont refusé de jouer le jeu de la solidarité.Europe\n",
            "https://www.lesechos.fr/monde/asie-pacifique/birmanie-le-conseil-de-securite-de-lonu-condamne-fermement-les-tueries-1303847\n",
            "Birmanie : le Conseil de sécurité de l'ONU « condamne fermement » les tueriesLa déclaration publiée dans la nuit de jeudi à ce vendredi par le Conseil de sécurité de l'ONU a été largement édulcorée par l'action des diplomates chinois. Sur le terrain, l'armée birmane poursuit sa répression et a ordonné, ce vendredi, la coupure d'Internet.Asie & Pacifique\n",
            "https://www.lesechos.fr/monde/etats-unis/etats-unis-lambitieux-plan-de-relance-de-joe-biden-en-six-questions-1303809\n",
            "DécryptageEtats-Unis : l'ambitieux plan de relance de Joe Biden en six questionsLe président américain a présenté un plan destiné à améliorer les infrastructures du pays, avec de fortes composantes sociales et environnementales. Des hausses d'impôts devraient être nécessaires pour le financer, ce qui fait bondir l'opposition.États-Unis\n",
            "https://www.lesechos.fr/monde/enjeux-internationaux/en-direct-vendredi-2-avril-covid-le-point-sur-la-situation-en-france-et-dans-le-monde-1303800\n",
            "Covid : ce qu'il faut retenir de la journée du vendredi 2 avrilDans les dernières 24 heures, 46.677 nouveaux cas de Covid ont été détectés en France, selon les données publiées par Santé publique France. 5.254 patients sont en réanimation, soit 145 de plus qu'hier. Aux Etats-Unis, les personnes vaccinées peuvent recommencer à voyager tout en prenant des précautions.Enjeux internationaux\n",
            "https://www.lesechos.fr/monde/ameriques/pari-reussi-pour-les-100-jours-de-biden-1303784\n",
            "ÉditoPari réussi pour les 100 jours de BidenLe président américain réalise, pour l'instant, un sans-faute dans sa gestion de la crise sanitaire et économique. Avec la réforme fiscale annoncée mercredi pourraient surgir ses premières difficultés.Amériques\n",
            "https://www.lesechos.fr/monde/asie-pacifique/covid-linde-se-bat-contre-une-seconde-vague-et-elargit-sa-campagne-de-vaccination-1303681\n",
            "Covid : l'Inde se bat contre une seconde vague et élargit sa campagne de vaccinationL'ensemble des personnes de plus de 45 ans peuvent, depuis jeudi, bénéficier du vaccin contre le Covid-19, alors que l'Inde est confrontée depuis plusieurs semaines à une résurgence du coronavirus.Asie & Pacifique\n",
            "https://www.lesechos.fr/monde/etats-unis/etats-unis-le-retour-assume-du-big-government-1303679\n",
            "AnalyseEtats-Unis : le retour assumé du « Big government »La quadruple crise - sanitaire, politique, économique et climatique - justifie l'intervention fédérale, estime Joe Biden. Le président a besoin des entreprises pour donner de l'emploi, mais sa boussole est la classe moyenne. Ses nominations à la tête des autorités régulatrices présagent aussi un interventionnisme accru.États-Unis\n",
            "https://www.lesechos.fr/monde/europe/berlin-empetre-dans-sa-taxation-du-co2-1303676\n",
            "Berlin empêtré dans sa taxation du CO2Le gouvernement allemand allège la nouvelle charge fiscale sur la sidérurgie, la chimie et les cimenteries, qui venait d'être introduite. Mais les industriels critiquent un système trop complexe, et pointent le prix plus élevé de l'électricité outre-Rhin.Europe\n",
            "https://www.lesechos.fr/monde/etats-unis/etats-unis-le-proces-du-policier-qui-a-tue-george-floyd-ravive-les-tensions-raciales-1303648\n",
            "Etats-Unis : le procès du policier qui a tué George Floyd ravive les tensions racialesLa première semaine du procès de Derek Chauvin, à Minneapolis, a été marquée par l'émotion des témoins. Au printemps dernier, la mort de George Floyd avait provoqué de violentes émeutes dans la plupart des grandes villes américaines.États-Unis\n",
            "https://www.lesechos.fr/monde/enjeux-internationaux/aux-etats-unis-pandemie-et-relance-saturent-les-ports-de-la-cote-ouest-1303527\n",
            "Aux Etats-Unis, pandémie et relance saturent les ports de la côte OuestLes importations américaines de biens sont à un plus haut historique et les cargos font la queue dans les ports de la côte Ouest pour débarquer leurs marchandises en provenance d'Asie. La vaccination va remettre des équipes dans les ports mais le plan de relance nourrit la demande.États-Unis\n",
            "https://www.lesechos.fr/monde/europe/russie-alexei-navalny-entame-une-greve-de-la-faim-1303486\n",
            "Russie : Alexeï Navalny entame une grève de la faimL'opposant russe entend protester contre ses conditions de détention, évoquant une forme de « torture » par privation de sommeil. Il réclame également un accès aux soins, alors que son état de santé se dégrade. L'administration pénitentiaire estime, elle, qu'Alexeï Navalny a « toute assistance nécessaire ».Europe\n",
            "https://www.lesechos.fr/monde/asie-pacifique/au-japon-les-grandes-entreprises-retrouvent-leur-moral-davant-le-covid-1303418\n",
            "Au Japon, les grandes entreprises retrouvent leur moral d'avant le CovidL'enquête « Tankan » de la Banque du Japon, publiée ce jeudi, montre que les grands groupes manufacturiers profitent à plein de la reprise des exportations, notamment vers la Chine. Le moral du secteur des services remonte aussi, mais reste légèrement négatif du fait de l'épidémie et de l'extrême lenteur des campagnes de vaccination.Asie & Pacifique\n",
            "https://www.lesechos.fr/monde/enjeux-internationaux/en-direct-jeudi-1er-avril-covid-le-point-sur-la-situation-en-france-et-dans-le-monde-1303395\n",
            "Covid : ce qu'il faut retenir de la journée du jeudi 1er avrilEn vingt-quatre heures, 50.659 nouveaux cas de coronavirus ont été détectés sur le territoire français. Côté vaccin, celui de Pfizer et BioNTech est très efficace dans la durée et contre le variant sud-africain, selon de nouveaux résultats publiés par les deux sociétés.Enjeux internationaux\n",
            "https://www.lesechos.fr/monde/europe/vaccin-astrazeneca-lema-ne-voit-pas-a-ce-stade-de-risques-lies-a-lage-1303336\n",
            "Vaccin AstraZeneca : l'EMA ne voit pas, à ce stade, de risques liés à l'âgeL'Agence européenne des médicaments (EMA) a étudié 62 cas de thromboses intervenus après l'administration du vaccin AstraZeneca.'Aucun lien causal n'est prouvé, mais il est possible et des analyses supplémentaires sont en cours', explique-t-elle. De nouvelles recommandations pourraient être émises la semaine prochaine.Europe\n",
            "https://www.lesechos.fr/tech-medias/hightech/education-en-ligne-la-chine-fait-la-course-en-tete-1304254\n",
            "Education en ligne : la Chine fait la course en têteDeux start-up chinoises figurent sur le podium des licornes de l'edtech les mieux valorisées au monde, selon un récent classement Holon. Créée en 2012, l'application de soutien scolaire Yuanfudao pèse plus de 15 milliards de dollars.Hightech\n",
            "https://www.lesechos.fr/tech-medias/hightech/lg-eteint-ses-smartphones-pour-doper-ses-investissements-dans-lautomobile-du-futur-1304211\n",
            "LG éteint ses smartphones pour doper ses investissements dans l'automobile du futurLe groupe sud-coréen n'arrivait plus à enrayer l'effritement de son empreinte sur un marché où il fut un temps le troisième plus grand acteur mondial. Cet arrêt s'inscrit dans une stratégie de repositionnement vers de nouvelles industries.Hightech\n",
            "https://www.lesechos.fr/tech-medias/medias/letat-replafonne-la-publicite-sur-radio-france-1304169\n",
            "L'Etat rétablit le plafonnement des recettes publicitaires de Radio FranceL'ex-ministre de la Culture Franck Riester avait déclenché une vive polémique avec les radios privées en supprimant le plafond annuel des recettes publicitaires de Radio France. Le Premier ministre vient de revenir sur cette décision à la demande de Roselyne Bachelot.Médias\n",
            "https://www.lesechos.fr/tech-medias/hightech/facebook-les-donnees-personnelles-de-500-millions-dutilisateurs-auraient-ete-rendues-publiques-1304125\n",
            "Facebook : les données personnelles de 500 millions d'utilisateurs auraient été rendues publiquesSelon « Business Insider », des informations concernant des utilisateurs de 106 pays ont été mises en ligne sur un forum de piratage informatique. Parmi elles figurent des numéros de téléphone, adresses électroniques ou lieux de résidence.Hightech\n",
            "https://www.lesechos.fr/tech-medias/hightech/la-tech-americaine-rouvre-progressivement-ses-bureaux-1304028\n",
            "La tech américaine rouvre progressivement ses bureauxPrécurseurs dans le recours massif au télétravail l'an dernier, les géants de la Silicon Valley donnent désormais dans la réouverture. Les modalités de travail hybride mises en place par la tech préfigurent sans doute le futur des bureaux.Hightech\n",
            "https://www.lesechos.fr/tech-medias/hightech/larcep-en-passe-dobtenir-de-nouveaux-pouvoirs-en-matiere-denvironnement-1303980\n",
            "L'Arcep, en passe d'obtenir de nouveaux pouvoirs en matière d'environnementUn amendement au projet de loi « Climat et résilience » adopté jeudi à l'Assemblée nationale va permettre au régulateur des télécoms de collecter des données sur l'empreinte environnementale des data centers, des fabricants de smartphones et d'antennes, ainsi que sur les systèmes d'exploitation comme Android et iOS.Hightech\n",
            "https://www.lesechos.fr/politique-societe/gouvernement/projet-de-loi-climat-les-deputes-recadrent-les-engagements-volontaires-des-entreprises-1303960\n",
            "Les députés durcissent les sanctions contre le «greenwashing»Les députés ont durci, jeudi, les sanctions contre le « greenwashing » et les allégations trompeuses sur la publicité des produits. La bonne conduite des entreprises donnera lieu à un rapport annuel transmis au Parlement.Gouvernement\n",
            "https://www.lesechos.fr/tech-medias/hightech/les-depenses-en-applis-mobiles-continuent-de-battre-des-records-1303707\n",
            "Les dépenses en applis mobiles continuent de battre des recordsLes utilisateurs d'iOS et Google Play dans le monde ont dépensé 32 milliards de dollars au premier trimestre 2021. Un premier trimestre record, tiré par les applications de jeux, de photo et de video.Hightech\n",
            "https://www.lesechos.fr/tech-medias/medias/face-au-risque-dembouteillage-le-cnc-facilite-encore-la-sortie-de-films-sur-le-petit-ecran-1303665\n",
            "Cinéma : le CNC s'attaque à l'embouteillage de longs métragesProducteurs et distributeurs pourront vendre leurs films directement aux services de type Netflix ou Amazon, et aussi à Canal+. Les plateformes sont à l'affût sur les affiches les plus en vue.Médias\n",
            "https://www.lesechos.fr/tech-medias/hightech/atos-chute-en-bourse-en-raison-dun-audit-sur-les-comptes-de-filiales-aux-etats-unis-1303610\n",
            "Atos chute en Bourse en raison d'un audit sur les comptes de filiales aux Etats-UnisLes commissaires aux comptes du groupe informatique ont constaté des erreurs dans la comptabilisation du chiffre d'affaires outre-Atlantique. Atos relativise et assure n'avoir identifié aucune anomalie significative.Hightech\n",
            "https://www.lesechos.fr/tech-medias/hightech/semi-conducteurs-tsmc-va-investir-100-milliards-de-dollars-en-seulement-trois-ans-1303585\n",
            "Semi-conducteurs : TSMC va investir 100 milliards de dollars en seulement trois ansEn pleine pénurie de semi-conducteurs et alors que la demande continue d'exploser, le champion taïwanais poursuit ses investissements colossaux. Toutefois, le président du groupe juge « économiquement irréalistes » les politiques d'autosuffisance menées dans le domaine par la Chine, les Etats-Unis et l'Europe.Hightech\n",
            "https://www.lesechos.fr/tech-medias/hightech/realite-augmentee-microsoft-signe-un-mega-contrat-de-22-milliards-avec-larmee-americaine-1303581\n",
            "Réalité augmentée : Microsoft signe un méga contrat de 22 milliards avec l'armée américaineLe département américain de la Défense a annoncé un accord avec le géant de l'informatique pour la fourniture de casques de réalité augmentée. Ce contrat s'étalera sur cinq ans avec une option pour un renouvellement sur cinq ans, ce qui le valoriserait alors à près de 22 milliards de dollars.Hightech\n",
            "https://www.lesechos.fr/tech-medias/hightech/lepidemie-consacre-le-cloud-et-les-grands-data-centers-1303429\n",
            "DécryptageL'épidémie consacre le cloud et les grands data centersPour la première fois en 2020, les entreprises ont dépensé davantage auprès d'AWS, Microsoft Azure et leurs concurrents que pour moderniser leurs propres salles informatiques. Par conséquent, les investissements se multiplient dans les data centers utilisés par les champions du secteur.Hightech\n",
            "https://www.lesechos.fr/tech-medias/hightech/hitachi-soffre-un-developpeur-americain-de-logiciels-pour-96-milliards-de-dollars-1303262\n",
            "Hitachi dépense 10 milliards pour accélérer dans les services numériquesLe fabricant japonais de trains, de turbines et de matériel médical veut rendre ses équipements plus « intelligents » en les dotant de solutions digitales. Il veut racheter le développeur de logiciels américain GlobalLogic pour 9,6 milliards de dollars.Hightech\n",
            "https://www.lesechos.fr/tech-medias/hightech/les-data-centers-poussent-comme-des-champignons-partout-en-france-1303257\n",
            "Les data centers poussent comme des champignons partout en FranceAprès Paris et Marseille, les hébergeurs multiplient l'ouverture de nouveaux bâtiments à Bordeaux, Lyon, Toulouse, Toulon, etc. La numérisation en cours des PME et des collectivités locales et les promesses de la 5G changent leurs perspectives.Hightech\n",
            "https://www.lesechos.fr/tech-medias/hightech/huawei-se-replie-sur-le-marche-chinois-pour-resister-1303247\n",
            "Huawei se replie sur le marché chinois pour résisterLe géant chinois des télécoms a affiché une hausse de son chiffre d'affaires de 4 % en dépit des sanctions américaines le visant et de la pandémie. Mais en dehors de Chine, ses activités accusent fortement le coup.Hightech\n",
            "https://www.lesechos.fr/tech-medias/hightech/motorola-profite-de-la-5g-pour-se-relancer-en-france-1303198\n",
            "Motorola profite de la 5G pour se relancer en FranceAprès des années de jachère, l'ex-gloire du mobile, propriété du chinois Lenovo, s'est relancée mercredi en France. La marque se donne un an pour obtenir 10 % du marché. Un pari audacieux.Hightech\n",
            "https://www.lesechos.fr/tech-medias/hightech/google-maps-indiquera-bientot-les-trajets-les-plus-ecologiques-1303194\n",
            "Google Maps indiquera bientôt les trajets les plus écologiquesLe géant américain a présenté mardi de nouvelles fonctionnalités pour son application de cartographie et de géolocalisation. Parmi elles, le lancement, cette année, d'une option permettant de choisir son trajet en voiture en fonction de son empreinte carbone.Hightech\n",
            "https://www.lesechos.fr/tech-medias/hightech/cloud-comment-microsoft-rogne-sur-le-leader-amazon-1303152\n",
            "FocusCloud : comment Microsoft rogne sur le leader AmazonAutrefois incontesté, Amazon Web Services, le numéro un des serveurs en ligne, voit son concurrent dépasser pour la première fois la barre des 20 % de part de marché. A eux deux, Microsoft et son voisin de Seattle s'arrogent la moitié du marché, au détriment de la concurrence - notamment européenne.Hightech\n",
            "https://www.lesechos.fr/tech-medias/hightech/geotwin-veut-aider-les-villes-a-devenir-plus-intelligentes-1303148\n",
            "GeoTwin veut aider les villes à devenir plus intelligentesCette start-up incubée à Agoranov est un concurrent du projet Replica de Google. Elle veut aider les acteurs publics et privés à analyser les déplacements dans les villes afin de les gérer de façon plus dynamique et efficace.Hightech\n",
            "https://www.lesechos.fr/tech-medias/hightech/capgemini-promet-daugmenter-encore-ses-marges-dans-les-cinq-ans-a-venir-1303117\n",
            "Capgemini promet d'augmenter encore ses marges dans les cinq ans à venirD'ici à 2025, Capgemini anticipe une croissance comprise entre 7 et 9 % par an pour son chiffre d'affaires et un taux de marge opérationnelle de 14 % à la fin de la période. Le groupe français de services informatiques s'estime bien positionné pour profiter de l'engouement des entreprises pour le cloud et l'analyse de données.Hightech\n",
            "https://www.lesechos.fr/tech-medias/hightech/cookies-publicitaires-la-cnil-met-lindustrie-au-regime-sec-1302977\n",
            "Cookies publicitaires : la CNIL met l'industrie au régime secLa publicité numérique doit effectuer sa grande bascule mercredi soir, à la fin de la période de transition pour se mettre en conformité avec les consignes de la CNIL sur le recueil du consentement des internautes avant de les pister. En dépit d'années d'avertissement, l'industrie ne semble pas vraiment prête pour affronter la raréfaction des cookies.Hightech\n",
            "https://www.lesechos.fr/tech-medias/hightech/lindustrie-de-la-publicite-se-prepare-a-se-passer-de-cookies-1302901\n",
            "L'industrie de la publicité se prépare à se passer de cookiesFace aux contraintes réglementaires, mais surtout aux restrictions imposées par Apple et Google, les acteurs de la publicité numérique sont contraints d'innover.Hightech\n",
            "https://www.lesechos.fr/tech-medias/medias/tele-le-csa-pour-une-revision-des-seuils-anti-concentration-1302893\n",
            "Télévision : le CSA pour une révision des seuils anti-concentrationDans son avis sur le projet de loi sur l'audiovisuel, le régulateur appelle à un changement des règles du jeu dans l'audiovisuel, notamment sur le nombre maximal de chaînes TNT qu'un groupe peut détenir. Un appel qui prend une résonance particulière dans le contexte de la vente de M6, même si le sujet ne semble pas à l'ordre du jour du gouvernement.Médias\n",
            "https://www.lesechos.fr/tech-medias/medias/la-lecture-recule-chez-les-francais-1302886\n",
            "La lecture recule chez les FrançaisEn 2020, 14 % des Français n'ont lu aucun livre, soit 8 points de plus qu'en 2018. Ils sont 25 % à ne pas en avoir acheté de neuf. Un chamboulement des pratiques qui s'explique notamment par la crise sanitaire. Les librairies restent le lieu privilégié d'achat des livres.Médias\n",
            "https://www.lesechos.fr/industrie-services/tourisme-transport/air-canada-fait-une-croix-sur-le-rachat-de-transat-1304258\n",
            "Air Canada fait une croix sur le rachat de TransatLes autorités de la concurrence de la Commission européenne on fait échouer le projet de rapprochement entre Air Canada et le québécois Transat AT.Tourisme - Transport\n",
            "https://www.lesechos.fr/industrie-services/tourisme-transport/la-recapitalisation-dair-france-paree-a-decoller-1304243\n",
            "La recapitalisation d'Air France parée à décollerLes conseils d'administration d'Air France-KLM et d'Air France devraient valider ce lundi le plan de recapitalisation d'Air France par l'Etat français. L'opération a déjà fait l'objet d'un accord de principe avec la Commission européenne. Le montant exact de ce plan à plusieurs milliards d'euros sera dévoilé mardi.Tourisme - Transport\n",
            "https://www.lesechos.fr/industrie-services/automobile/waymo-tourne-une-page-avec-le-depart-de-son-patron-1304228\n",
            "Waymo tourne une page avec le départ de son patronJohn Krafcik, qui dirigeait la filiale d'Alphabet dédiée aux véhicules autonomes depuis sa création, va prendre du recul. Il sera remplacé par un duo composé de l'un des co-fondateurs et de l'actuelle directrice des opérations. Sous sa direction, Waymo s'est imposé comme le leader du secteur.Automobile\n",
            "https://www.lesechos.fr/industrie-services/automobile/pourquoi-les-constructeurs-auto-font-la-chasse-aux-options-1304223\n",
            "Pourquoi les constructeurs auto font la chasse aux optionsSelon Jato Dynamics, les constructeurs réduisent le nombre d'options proposées pour mieux atteindre leurs objectifs environnementaux. Toits ouvrants ou grandes roues ajoutent plusieurs grammes aux émissions de CO 2 affichées, ce qui a un impact sur les malus et sur l'atteinte des objectifs européens.Automobile\n",
            "https://www.lesechos.fr/industrie-services/air-defense/spatial-tout-nest-pas-encore-perdu-pour-les-start-up-europeennes-1304143\n",
            "Spatial : tout n'est pas encore perdu pour les start-up européennesFace aux injections massives de capitaux dans le secteur spatial outre-Atlantique, l'Europe doute. Moins capitalisées mais mieux accompagnées par l'ESA, les nouvelles entreprises européennes du spatial soulignent que la bagarre ne fait que commencer.Air Défense\n",
            "https://www.lesechos.fr/industrie-services/energie-environnement/nucleaire-les-etats-unis-comptent-sur-les-petits-reacteurs-1304133\n",
            "DécryptageNucléaire : les Etats-Unis comptent sur les petits réacteursLes Etats-Unis espèrent la mise en service d'un premier réacteur de petite taille à l'horizon 2029. De NuScale à TerraPower en passant par X-Energy, les projets sont souvent portés par des start-up de recherche, adossées à des groupes d'ingénierie ou des entrepreneurs fortunés comme Bill Gates.Énergie & Environnement\n",
            "https://www.lesechos.fr/industrie-services/air-defense/covid-une-facture-a-3-milliards-de-dollars-pour-la-nasa-1304100\n",
            "Covid : une facture à 3 milliards de dollars pour la NasaSelon un audit, la crise sanitaire pourrait coûter 3 milliards de dollars à l'agence spatiale américaine. Parmi les programmes les plus touchés se trouvent des missions emblématiques, comme le déploiement du télescope James-Webb ou les futures missions lunaires Artemis.Air Défense\n",
            "https://www.lesechos.fr/industrie-services/energie-environnement/climat-quand-les-etes-dureront-six-mois-1304085\n",
            "Climat : quand les étés dureront six moisAvec le réchauffement de la planète, la durée de la saison chaude va s'allonger, au point de s'étendre sur la moitié de l'année d'ici à la fin du siècle, pronostique une étude. Au cours des 60 dernières années, l'été a déjà augmenté de 17 jours en moyenne à travers le monde.Énergie & Environnement\n",
            "https://www.lesechos.fr/industrie-services/tourisme-transport/les-loueurs-de-voitures-prives-de-boussole-avant-lete-1304080\n",
            "Les loueurs de voitures privés de boussole avant l'étéFaute de visibilité, les grandes enseignes vont jouer la prudence pour dimensionner leur flotte cet été, leur haute saison. Avec le risque que la demande excède l'offre en cas d'éclaircie sur le front sanitaire.Tourisme - Transport\n",
            "https://www.lesechos.fr/industrie-services/air-defense/avion-de-combat-du-futur-dassault-et-airbus-enfin-sur-la-meme-longueur-donde-1304034\n",
            "Avion de combat du futur : Dassault et Airbus enfin sur la même longueur d'ondeLes industriels européens, au premier rang desquels Dassault et Airbus, ont enfin trouvé un accord sur la répartition des tâches et ont remis leurs offres aux gouvernements en vue de la construction d'un démonstrateur du SCAF, qui remplacera à terme les Rafale et les Eurofighter. La balle est désormais dans le camp des Etats.Air Défense\n",
            "https://www.lesechos.fr/industrie-services/tourisme-transport/les-coronapistes-dopent-la-pratique-du-velo-1304024\n",
            "Les « coronapistes » dopent la pratique du véloUne étude menée dans une centaine de villes européennes démontre que la pratique du vélo a augmenté jusqu'à 48 % dans les villes ayant mis en place des « coronapistes », ces pistes cyclables souvent éphémères mises en place durant la pandémie.Tourisme - Transport\n",
            "https://www.lesechos.fr/industrie-services/energie-environnement/a-belfort-deux-syndicats-sappretent-a-attaquer-general-electric-en-justice-1304020\n",
            "A Belfort, deux syndicats s'apprêtent à attaquer General Electric en justiceA Belfort, le bras de fer continue. Deux syndicats s'apprêtent à lancer, après le week-end de Pâques, une procédure judiciaire contre le conglomérat américain pour non-respect des accords signés en 2014 lors du rachat de la branche énergie d'Alstom.Énergie & Environnement\n",
            "https://www.lesechos.fr/industrie-services/pharmacie-sante/pharmacie-quand-la-belgique-montre-le-chemin-1303995\n",
            "PodcastPharmacie, quand la Belgique montre le cheminPour « La Story », le podcast d'actualité des « Echos », Pierrick Fay et ses invitées comparent la situation pharmaceutique de la France et de la Belgique. Chez nos voisins, les volontés ont permis de créer une véritable Silicon Valley du médicament et du vaccin.Pharmacie - Santé\n",
            "https://www.lesechos.fr/industrie-services/energie-environnement/lamf-critique-la-pilule-empoisonnee-brandie-par-suez-contre-veolia-1303977\n",
            "Nouveau revers pour Suez face à VeoliaLa réponse de Suez pour contrer l'offre de Veolia porte atteinte à plusieurs principes directeurs du droit qui s'applique aux OPA, a indiqué, vendredi, le gendarme boursier. Suez considère respecter les règles.Énergie & Environnement\n",
            "https://www.lesechos.fr/industrie-services/conso-distribution/alimentation-cure-damaigrissement-sur-les-acides-gras-trans-1303957\n",
            "Alimentation : cure d'amaigrissement sur les « acides gras trans »Une nouvelle législation européenne impose aux industriels de l'agroalimentaire de limiter désormais la quantité de ces graisses industrielles à 2 grammes pour 100 grammes de graisse. Présentes dans les produits frits, les gâteaux et viennoiseries ou les soupes déshydratées, elles sont réputées nocives à la santé.Conso & Distribution\n",
            "https://www.lesechos.fr/industrie-services/pharmacie-sante/covid-la-france-envisage-de-se-passer-du-vaccin-dastrazeneca-au-deuxieme-semestre-1303948\n",
            "Covid : les Etats-Unis envisagent de se passer du vaccin d'AstraZenecaWashington estime qu'il pourrait ne pas avoir besoin des doses du laboratoire britannique. Interrogée à ce propos, la ministre chargée de l'Industrie, Agnès Pannier-Runacher, n'a, dans un premier temps, pas exclu ce scénario en France au second semestre. Avant de démentir et d'affirmer que la question ne se pose pas.Pharmacie - Santé\n",
            "https://www.lesechos.fr/industrie-services/mode-luxe/zadig-voltaire-pret-a-repasser-a-loffensive-1303892\n",
            "Zadig & Voltaire prêt à repasser à l'offensiveParmi les premières marques de mode à avoir lancé un site d'e-commerce, il y a 15 ans, Zadig & Voltaire a réussi à compenser en partie la fermeture de ses boutiques pendant la pandémie. Elle poursuit son expansion, avec la Chine en vue, après son succès aux Etats-Unis.Mode & Luxe\n",
            "https://www.lesechos.fr/industrie-services/mode-luxe/environnement-les-pme-de-la-mode-craignent-linflation-du-nombre-de-labels-1303857\n",
            "Environnement : les PME de la mode craignent l'inflation du nombre de labelsL'Europe travaille sur de nouveaux critères en faveur d'une mode durable. Mais leur complexité fait craindre que les marques indépendantes en soient exclues, alors que les initiatives font florès. Ces dernières militent pour des labels afin de mieux informer le consommateur. A condition de faire le tri. Il y en a 200 dans le monde.Mode & Luxe\n",
            "https://www.lesechos.fr/industrie-services/conso-distribution/comment-invivo-veut-devenir-un-geant-mondial-du-vin-1303823\n",
            "Comment InVivo veut devenir un géant mondial du vinLa plus grosse union de coopératives céréalières en France a absorbé Vinadeis, le premier groupe coopératif viticole.La nouvelle entité, baptisée « Cordier by InVivo », vise le peloton de tête mondial du vin d'ici à 2030.Conso & Distribution\n",
            "https://www.lesechos.fr/industrie-services/services-conseils/patricia-lexcellent-femme-de-reseaux-1303820\n",
            "PortraitPatricia Lexcellent, femme de réseauxAncienne déléguée générale de la Fédération de la plasturgie, puis de la Confédération générale des Scop, Patricia Lexcellent succédera, en juillet, à Bernadette Sozet à la direction opérationnelle du réseau d'aide à l'entrepreneuriat Initiative France, aux côtés de son président, Guillaume Pepy. Mais elle rejoint le réseau associatif dès ce mois d'avril pour mieux s'imprégner du terrain.Services & Conseils\n",
            "https://www.lesechos.fr/industrie-services/tourisme-transport/lincident-du-canal-de-suez-est-un-grain-de-sable-dans-le-commerce-mondial-qui-va-continuer-a-se-developper-affirme-le-patron-de-cma-cgm-1303797\n",
            "« L'incident du Canal de Suez est un grain de sable dans le commerce mondial qui va continuer à se développer » affirme le patron de CMA CGMLe porte containers « Ever Given » qui bloquait le passage du Canal de Suez a été dégagé lundi 29 mars. Un événement qui a mis en lumière la dépendance de l'Europe vis-à-vis de la principale route maritime reliant l'Europe à la Chine. Rodolphe Saadé relativise sur fond de conjoncture exceptionnelle pour le commerce transcontinental.Tourisme - Transport\n",
            "https://www.lesechos.fr/industrie-services/immobilier-btp/vinci-mise-5-milliards-deuros-sur-les-energies-renouvelables-1303713\n",
            "Vinci mise 5 milliards d'euros sur les énergies renouvelablesLe géant français du BTP annonce avoir signé un accord avec le groupe de construction espagnol ACS pour l'acquisition de ses activités énergie pour un montant de 4,9 milliards. Vinci entend ainsi devenir un grand du secteur, notamment dans les énergies renouvelables. Une acquisition en lien avec sa stratégie annoncée début février.Immobilier - BTP\n",
            "https://www.lesechos.fr/industrie-services/services-conseils/le-nouveau-confinement-creuse-encore-les-inegalites-entre-les-entreprises-1303697\n",
            "Le nouveau confinement creuse encore les inégalités entre les entreprisesCols bleus à l'usine, mais cols blancs en télétravail ; travailleurs saisonniers, employés des commerces non-essentiels et du tourisme en chômage partiel… Les nouvelles mesures annoncées mercredi par le président de la République pour endiguer la crise sanitaire frappent particulièrement les entreprises de services.Services & Conseils\n",
            "https://www.lesechos.fr/industrie-services/energie-environnement/suez-remet-la-pression-sur-veolia-en-avancant-sur-une-cession-en-australie-1303677\n",
            "Suez remet la pression sur Veolia en avançant sur une cession en AustralieSuez et Cleanaway se sont mis d'accord sur un prix de 1,6 milliard d'euros. La convention entre les deux parties peut être résiliée si Suez et Veolia trouvent un arrangement.Énergie & Environnement\n",
            "https://www.lesechos.fr/industrie-services/services-conseils/sodexo-se-tient-pret-a-gerer-des-centres-de-vaccination-1303675\n",
            "Sodexo se tient prêt à gérer des centres de vaccinationLe géant des services aux entreprises vient d'être référencé pour gérer clés en main des centres de vaccination contre le Covid-19. Le groupe est parvenu à maintenir une marge d'exploitation de 3,1 % au premier semestre clos en février.Services & Conseils\n",
            "https://www.lesechos.fr/finance-marches/gestion-actifs/la-banque-postale-am-repart-a-loffensive-aupres-des-investisseurs-institutionnels-1304233\n",
            "La Banque Postale AM repart à l'offensive auprès des investisseurs institutionnelsLe gestionnaire d'actifs de La Banque Postale a reconstitué une équipe commerciale dédiée aux grands comptes, après le départ de la majorité de ses encours et d'une partie de ses collaborateurs chez Ostrum.Gestion actifs\n",
            "https://www.lesechos.fr/finance-marches/marches-financiers/le-trader-le-troupeau-fantome-et-larnaque-a-200-millions-de-dollars-1304198\n",
            "RécitLe trader, le troupeau fantôme et l'arnaque à 200 millions de dollarsUn trader américain qui avait perdu 202 millions de dollars en spéculant sur les cours du boeuf est au coeur d'une vaste arnaque. Délits d'initiés, manipulations de cours, faux placements dans les cheptels bovins, le vaste marché des matières premières attise aussi l'intérêt des escrocs.Marchés financiers\n",
            "https://www.lesechos.fr/finance-marches/banque-assurances/wall-street-organise-prudemment-le-retour-au-bureau-1304195\n",
            "Wall Street organise prudemment le retour au bureauLa nouvelle PDG de Citi, Jane Fraser, ménage ses troupes tandis que Goldman Sachs, rétif au travail à domicile, doit répondre aux jeunes actifs surmenés. La pandémie a bousculé l'approche des ressources humaines dans la banque.Banque & Assurances\n",
            "https://www.lesechos.fr/finance-marches/banque-assurances/les-dirigeants-de-credit-suisse-dans-le-viseur-des-actionnaires-1304184\n",
            "Les dirigeants de Credit Suisse dans le viseur des actionnairesLe scandale Archegos est peut-être celui de trop pour les investisseurs qui s'impatientent de l'incapacité de la banque à mettre fin à une série de mauvaises nouvelles.Banque & Assurances\n",
            "https://www.lesechos.fr/finance-marches/banque-assurances/les-banques-britanniques-tentees-de-normaliser-le-teletravail-1304092\n",
            "Les banques britanniques tentées de normaliser le télétravailNationwide, le deuxième fournisseur britannique de prêts immobiliers, vient d'informer ses 13.000 employés qu'ils pourraient désormais travailler de n'importe où dans le pays. Quant à la filiale britannique de Santander, elle va proposer une nouvelle organisation du travail à 5.000 de ses employés.Banque & Assurances\n",
            "https://www.lesechos.fr/finance-marches/marches-financiers/inebranlables-les-places-boursieres-mondiales-continuent-de-grimper-1304050\n",
            "DécryptageInébranlables, les places boursières mondiales continuent de grimperLes records s'enchaînent sur les marchés actions : le S & P 500 a dépassé les 4.000 points, le DAX allemand et l'AEX néerlandais sont à des plus hauts historiques. Ni la remontée des taux tant redoutée par les investisseurs, ni les accidents de parcours n'ont fait dérailler la dynamique haussière des Bourses mondiales.Marchés financiers\n",
            "https://www.lesechos.fr/finance-marches/banque-assurances/prets-participatifs-les-dernieres-pieces-du-puzzle-se-mettent-en-place-1304041\n",
            "ExclusifPrêts participatifs : les dernières pièces du puzzle se mettent en placeChoix des sociétés de gestion, exigence de fonds propres, les compagnies d'assurance ont avancé sur les derniers éléments qui leur manquaient pour se lancer. Tout devrait être prêt à la mi-avril.Banque & Assurances\n",
            "https://www.lesechos.fr/finance-marches/marches-financiers/les-auditeurs-emettent-rarement-des-reserves-sur-les-comptes-des-societes-cotees-1303934\n",
            "DécryptageLes auditeurs émettent rarement des réserves sur les comptes des sociétés cotéesLes commissaires aux comptes d'Atos ont émis des réserves sur les comptes du groupe. Par décennie, il n'y a pas plus de 2 ou 3 réserves formulées sur des comptes de grands groupes cotés.Marchés financiers\n",
            "https://www.lesechos.fr/finance-marches/marches-financiers/que-sont-les-sukuk-des-bons-du-tresor-britannique-conformes-aux-regles-islamiques-1303909\n",
            "CQFDQue sont les « sukuk », des bons du Trésor britannique conformes aux règles islamiques ?Le Trésor britannique va émettre 500 millions de livres d'obligations qui respectent le droit musulman des affaires. C'est la seconde fois que le Royaume-Uni recourt à ces titres. Il s'agit, pour le pays, d'envoyer un signal positif aux acteurs de la finance islamique.Marchés financiers\n",
            "https://www.lesechos.fr/finance-marches/marches-financiers/cryptomonnaies-coinbase-fera-son-entree-en-bourse-le-14-avril-1303903\n",
            "Cryptomonnaies : Coinbase fera son entrée en Bourse le 14 avrilLa plateforme d'échange de cryptomonnaies va devenir la première entreprise de devises virtuelles à intégrer le Nasdaq. Portée par l'envolée du prix des cryptomonnaies l'an dernier, Coinbase a vu son chiffre d'affaires bondir de 136 % en 2020. Son entrée en Bourse pourrait être l'une des plus grosses de l'histoire de la tech.Marchés financiers\n",
            "https://www.lesechos.fr/finance-marches/marches-financiers/laffaire-archegos-remet-le-levier-financier-au-coeur-des-preoccupations-des-regulateurs-1303852\n",
            "DécryptageL'affaire Archegos remet le levier financier au coeur des préoccupations des régulateursAprès les déboires de Melvin Capital et la débâcle d'Archegos, la secrétaire au Trésor Janet Yellen a relancé les travaux des superviseurs financiers américains sur les fonds alternatifs et leur usage de l'endettement pour financer des paris spéculatifs.Marchés financiers\n",
            "https://www.lesechos.fr/finance-marches/gestion-actifs/axa-venture-partners-veut-monter-en-puissance-1303843\n",
            "Axa Venture Partners veut monter en puissanceLe bras armé dans le capital-risque du géant de l'assurance annonce avoir réalisé un closing de 250 millions d'euros pour son nouveau fonds (AVP Capital II). Il prévoit d'investir dans quatre verticales : logiciel, fintech/insurtech, santé digitale et plateformes pour les consommateurs.Gestion actifs\n",
            "https://www.lesechos.fr/finance-marches/marches-financiers/la-dette-souveraine-chinoise-fait-une-entree-remarquee-dans-les-grands-indices-1303840\n",
            "DécryptageLa dette souveraine chinoise fait une entrée remarquée dans les grands indicesLa dette d'Etat chinoise va intégrer l'un des indices obligataires les plus suivis par les investisseurs internationaux. Cette inclusion devrait attirer de nouveaux flux sur les titres souverains chinois. Au détriment notamment de la France, très fortement représentée dans l'indice.Marchés financiers\n",
            "https://www.lesechos.fr/finance-marches/marches-financiers/en-doublant-de-valeur-cette-annee-le-bitcoin-et-les-cryptos-prolongent-letat-de-grace-de-2020-1303813\n",
            "DécryptageEn doublant de valeur cette année, le bitcoin et les cryptos prolongent l'état de grâce de 2020A 58.961 dollars (50.319 euros), le bitcoin a connu son meilleur premier trimestre depuis 2014 en doublant de valeur. Les investisseurs et traders restent confiants dans la poursuite de la hausse des cours du fait d'une demande mondiale soutenue.Marchés financiers\n",
            "https://www.lesechos.fr/finance-marches/banque-assurances/archegos-la-facture-salourdit-pour-les-banques-1303790\n",
            "Archegos : la facture s'alourdit pour les banquesUn nouvel établissement japonais pourrait faire partie des victimes des difficultés rencontrées par le fonds américain. Au total, les pertes pour le secteur bancaire pourraient atteindre jusqu'à dix milliards de dollars, Nomura et Credit Suisse payant le plus lourd tribut.Banque & Assurances\n",
            "https://www.lesechos.fr/finance-marches/marches-financiers/a-wall-street-le-s-p500-bat-un-record-historique-1303750\n",
            "A Wall Street, le S & P 500 bat un nouveau record historique à plus de 4.000 pointsL'indice S & P 500 a terminé au-dessus des 4.000 points en clôture jeudi pour la première fois de son histoire. Le plan massif d'investissement dévoilé par Joe Biden et la campagne de vaccination qui accélère suscitent l'enthousiasme.Marchés financiers\n",
            "https://www.lesechos.fr/finance-marches/marches-financiers/petrole-lopep-et-la-russie-commencent-a-rouvrir-les-vannes-1303712\n",
            "Pétrole : l'Opep et la Russie commencent à rouvrir les vannesLe cartel de pays producteurs et son allié russe vont augmenter progressivement leur production. La hausse restera modérée, l'Opep se montrant toujours prudente face à l'évolution de la crise sanitaire.Marchés financiers\n",
            "https://www.lesechos.fr/finance-marches/gestion-actifs/amundi-favori-pour-racheter-la-gestion-dactifs-de-societe-generale-1303687\n",
            "Amundi, favori pour racheter la gestion d'actifs de Société GénéraleLes deux candidats au rachat de Lyxor, l'Allemand DWS et l'Américain State Street, sélectionnés pour faire concurrence au gestionnaire d'actifs du Crédit Agricole, ont pris du champ. Reste à savoir si la valorisation de 600 à 700 millions d'euros évoquée peut satisfaire la Société Générale.Gestion actifs\n",
            "https://www.lesechos.fr/finance-marches/banque-assurances/la-crise-a-divise-par-trois-les-resultats-de-la-caisse-des-depots-1303664\n",
            "RésultatsLa crise a divisé par trois les résultats de la Caisse des DépôtsLes difficultés rencontrées par certaines filiales, la moindre valorisation de certaines participations et le coût de l'épargne réglementée ont fait fondre les résultats de l'établissement public, et sa contribution au budget de l'Etat. La Caisse reste néanmoins mobilisée pour accompagner la relance.Banque & Assurances\n",
            "https://www.lesechos.fr/finance-marches/banque-assurances/meme-affaibli-par-laffaire-archegos-nomura-ne-va-pas-renoncer-a-son-reve-americain-1303661\n",
            "DécryptageMême affaibli par l'affaire Archegos, Nomura ne va pas renoncer à son rêve américainPendant des années, le courtier japonais a amassé les gains de ses « swaps » d'actions avec le sulfureux fonds de Bill Hwang. Mais lorsque le système s'est enrayé, il n'a pas été capable, pour des raisons culturelles, de réagir aussi vite que les géants Goldman Sachs ou Morgan Stanley.Banque & Assurances\n",
            "https://www.lesechos.fr/finance-marches/banque-assurances/immobilier-le-credit-sapprete-a-traverser-un-nouveau-confinement-1303603\n",
            "Atterrissage en vue pour le crédit immobilierAprès le rattrapage de la fin 2020, la production de prêts à l'habitat revient à son régime de croisière. Cette tendance intervient dans le contexte de la crise sanitaire, mais aussi des recommandations du Haut Conseil de stabilité financière sur l'octroi de crédit.Banque & Assurances\n",
            "https://www.lesechos.fr/finance-marches/marches-financiers/les-fusions-et-acquisitions-dans-les-cryptomonnaies-ont-double-en-2020-1303595\n",
            "Les fusions et acquisitions dans les cryptomonnaies ont doublé en 2020La valeur totale des rapprochements d'entreprises dans le domaine de la cryptographie a augmenté de 131 % en 2020 pour atteindre 1,1 milliard de dollars. La taille moyenne des transactions est passée de 19,2 millions de dollars à 52,7 millions, selon un rapport de PwC.Marchés financiers\n",
            "https://www.lesechos.fr/finance-marches/marches-financiers/paymium-obtient-le-feu-vert-de-lamf-pour-commercialiser-des-crypto-actifs-en-france-1303567\n",
            "Paymium obtient le feu vert de l'AMF pour commercialiser des crypto-actifs en FranceLa plateforme française d'échange de bitcoins vient d'obtenir un visa auprès de l'Autorité des marchés financiers. Elle fait partie des 11 sociétés autorisées à intervenir auprès de clients français.Marchés financiers\n",
            "https://www.lesechos.fr/finance-marches/marches-financiers/solutions-30-les-auditeurs-jugent-infondees-les-accusations-de-blanchiment-1303560\n",
            "Solutions 30 : les auditeurs jugent infondées les accusations de blanchimentDeloitte et Didier Kling n'ont pas identifié d'élément permettant de corroborer les graves critiques formulées par Muddy Waters fin 2020 à l'encontre de la société. Mais ils estiment nécessaires certaines actions correctives sur la gouvernance, la maîtrise du risque de réputation et l'amélioration des contrôles au sein du groupe.Marchés financiers\n",
            "https://www.lesechos.fr/finance-marches/marches-financiers/ladministrateur-referent-un-contre-pouvoir-face-au-pdg-1303422\n",
            "DécryptageL'administrateur référent : un contre-pouvoir face au PDGEramet vient de nommer un administrateur référent pour apaiser le conflit entre ses deux grands actionnaires, l'Etat et la famille Duval. Dans le SBF 120, ils sont quarante à occuper cette fonction. La plupart du temps, ce sont d'anciens présidents, PDG ou DG, qui peuvent tenir tête à un dirigeant qui concentre les pleins pouvoirs.Marchés financiers\n",
            "https://www.lesechos.fr/pme-regions/innovateurs/agripower-leve-10-millions-pour-etendre-son-spectre-dans-la-methanisation-1304214\n",
            "Agripower lève 10 millions pour étendre son spectre dans la méthanisationSpécialiste de l'installation de méthaniseurs dans le monde agricole, l'entreprise nantaise cotée vient de lever 10 millions d'euros pour diversifier son offre à tout type d'élevage. Agripower propose aussi aux agriculteurs des solutions de financement.Innovateurs\n",
            "https://www.lesechos.fr/pme-regions/innovateurs/biodemain-soutient-les-agriculteurs-en-phase-de-conversion-au-bio-1304172\n",
            "BioDemain soutient les agriculteurs en phase de conversion au bioLa jeune société nordiste achète aux exploitants agricoles, qui se convertissent au bio, les matières premières 80 % plus cher que dans le circuit conventionnel, le temps nécessaire à l'obtention du label. Si besoin, BioDemain les transforme puis les distribue via un réseau de magasins partenaires.Innovateurs\n",
            "https://www.lesechos.fr/pme-regions/hauts-de-france/dans-le-nord-les-golfs-prives-handicapes-par-labsence-des-etrangers-1304152\n",
            "Dans le Nord, les golfs privés handicapés par l'absence des étrangersDans les Hauts-de-France, la hausse du nombre de pratiquants n'a pas suffi à pallier l'absence des pratiquants belges et britanniques. Le golf du Touquet encaisse une chute de 40 % de son chiffre d'affaires.Hauts-de-France\n",
            "https://www.lesechos.fr/pme-regions/provence-alpes-cote-dazur/eurenco-va-investir-200-millions-dans-une-nouvelle-usine-dexplosifs-a-sorgues-1304146\n",
            "Eurenco va investir 200 millions dans une nouvelle usine d'explosifs à SorguesLe principal fournisseur des armées va construire une unité de production d'hexogène, un constituant des explosifs de type plastic. Il espère doubler ses ventes d'ici à 2025.Provence-Alpes-Côte d'Azur\n",
            "https://www.lesechos.fr/pme-regions/ile-de-france/moins-touche-que-les-autres-sports-le-golf-recrute-des-joueurs-a-tout-va-1304089\n",
            "Moins touché que les autres sports, le golf recrute des joueurs à tout-vaLes confinements successifs ont entraîné une baisse de 21,6 % du chiffre d'affaires des golfs franciliens en 2020. L'arrivée des beaux jours et le maintien des parcours ouvert depuis le mois de décembre attirent des nouveaux joueurs.Île-de-France\n",
            "https://www.lesechos.fr/pme-regions/ile-de-france/saint-denis-la-capacite-daccueil-du-village-olympique-revue-a-la-baisse-1304045\n",
            "Saint-Denis : la capacité d'accueil du village olympique revue à la baisseAlors que 6.000 sportifs seront accueillis à Saint-Denis dans le cadre des Jeux de Paris 2024, le village olympique, qui deviendra ensuite un quartier résidentiel, a été modifié à la demande de la ville. Un gain en qualité de vie pour les futurs habitants qui implique la perte de lits pour les athlètes.Île-de-France\n",
            "https://www.lesechos.fr/pme-regions/ile-de-france/essonne-chilly-mazarin-reclame-avec-insistance-un-centre-de-vaccination-1304044\n",
            "Essonne : Chilly-Mazarin réclame avec insistance un centre de vaccinationLa commune de Chilly-Mazarin affirme pouvoir ouvrir très vite un centre de vaccination. Il pourrait fonctionner en complémentarité avec celui, voisin, de Longjumeau.Île-de-France\n",
            "https://www.lesechos.fr/pme-regions/ile-de-france/essonne-des-cabines-de-telemedecine-pour-lutter-contre-le-desert-medical-1304018\n",
            "Essonne : des cabines de télémédecine pour lutter contre le désert médicalLe conseil départemental vient de financer deux nouvelles cabines de téléconsultation en visio, à Evry-Courcouronnes et à Bretigny-sur-Orge. L'initiative s'inscrit dans le cade d'un plan de lutte contre la désertification médicale et pour l'accès aux soins.Île-de-France\n",
            "https://www.lesechos.fr/pme-regions/ile-de-france/essonne-letat-lance-une-nouvelle-operation-de-sauvetage-de-grigny-2-1303996\n",
            "Essonne :  l'Etat lance une nouvelle opération de sauvetage de Grigny 2L'Etat s'apprête à racheter 1.300 logements de Grigny 2 pour sortir de la crise. A la fin de l'opération, la copropriété comptera 4.100 logements, dont 700 logements sociaux. Une association de propriétaires veut obtenir des garanties sur les prix de vente.Île-de-France\n",
            "https://www.lesechos.fr/pme-regions/ile-de-france/les-hauts-de-seine-presentent-un-excedent-de-560-millions-deuros-en-2020-malgre-la-crise-1303990\n",
            "Les Hauts-de-Seine présentent un excédent de 560 millions d'euros en 2020 malgré la criseLe département des Hauts-de-Seine affiche un excédent de 560 millions d'euros en 2020, malgré une hausse de ses dépenses, liées à l'épidémie de Covid-19. Le nouveau budget, voté vendredi 2 avril, prévoit de dédier 581 millions d'euros aux investissements.Île-de-France\n",
            "https://www.lesechos.fr/pme-regions/ile-de-france/le-recent-engouement-pour-le-golf-profite-a-golf-plus-1303986\n",
            "Le récent engouement pour le golf profite à Golf PlusL'équipementier français, leader du marché, a plutôt bien résisté à la crise. Malgré un chiffre d'affaires en baisse de 10 % en 2020, les ventes ont repris depuis le dernier déconfinement, allant même jusqu'à entraîner des ruptures de stock sur certains produits.Île-de-France\n",
            "https://www.lesechos.fr/pme-regions/occitanie/toulouse-jean-luc-moudenc-desavoue-sur-son-plan-local-durbanisme-1303918\n",
            "Toulouse : Jean-Luc Moudenc désavoué sur son plan local d'urbanismeLe tribunal administratif de Toulouse a estimé que le plan d'urbanisme intercommunal adopté en avril 2019 augmente le rythme de consommation d'espaces verts et agricoles au lieu de le diminuer. Le maire Jean-Luc Moudenc (LR) juge que les options prises restent les bonnes.Occitanie\n",
            "https://www.lesechos.fr/pme-regions/innovateurs/chantilly-devient-le-laboratoire-a-ciel-ouvert-des-forets-francaises-1303900\n",
            "Chantilly devient le laboratoire à ciel ouvert des forêts françaisesLe Domaine de Chantilly a fait appel à l'Inrae pour mesurer l'impact du réchauffement climatique sur la forêt locale et établir des modèles génériques, capables d'assurer la pérennité du massif forestier français. Un budget de 3 millions d'euros sur trois ans sera consacré à ce projet inédit.Innovateurs\n",
            "https://www.lesechos.fr/pme-regions/innovateurs/bw-prend-le-controle-dideol-pour-creer-un-leader-de-leolien-offshore-1303879\n",
            "BW prend le contrôle d'Ideol pour créer un leader de l'éolien offshoreLe groupe de service norvégien pour l'offshore pétrolier veut créer un leader mondial des énergies éoliennes en haute mer. Pour y parvenir, BW a dépensé 60 millions d'euros pour acquérir les technologies de la société provençale Ideol.Innovateurs\n",
            "https://www.lesechos.fr/pme-regions/ile-de-france/yvelines-fortes-oppositions-locales-a-un-projet-de-co-methanisation-1303878\n",
            "Yvelines : fortes oppositions locales à un projet de co-méthanisationLes communes de Carrières-sous-Poissy et de Villennes-sur-Seine et des associations environnementales s'opposent au projet Cométha, de transformation des boues d'épuration en gaz, élaboré par le Syndicat interdépartemental pour l'assainissement de l'agglomération parisienne(Siaap) et le syndicat parisien de traitement des déchets ménagers(Syctom).Île-de-France\n",
            "https://www.lesechos.fr/pme-regions/ile-de-france/le-t9-nouveau-tramway-entre-en-service-entre-paris-et-orly-1303872\n",
            "Le T9, nouveau tramway, entre en service entre Paris et OrlyPrès de 70.000 passagers quotidiens sont attendus dans ces nouvelles rames, qui mettront le centre-ville d'Orly à trente minutes de Paris. L'exploitation, autrefois systématiquement confiée à la RATP, sera cette fois entre les mains de l'opérateur privé Keolis, filiale de la SNCF.Île-de-France\n",
            "https://www.lesechos.fr/pme-regions/occitanie/ales-dans-le-top-30-des-villes-moyennes-les-plus-dynamiques-durant-la-crise-1303724\n",
            "Alès dans le Top 30 des villes moyennes les plus dynamiques durant la criseLa sous-préfecture du Gard se place en 25e position du palmarès des centres-villes dynamiques durant la crise sanitaire, selon un palmarès publié par Villes de France et Mytraffic. La ville avait lancé des Etats généraux du coeur de ville, qui ont débouché sur 38 actions.Occitanie\n",
            "https://www.lesechos.fr/pme-regions/occitanie/le-comite-interministeriel-a-la-ville-delocalise-a-ales-et-nimes-1303981\n",
            "Le Comité interministériel à la Ville délocalisé à Alès et NîmesLe Premier ministre s'est rendu dans le Gard le 27 mars, accompagné de plusieurs ministres, pour évoquer les enjeux de sécurité, de logement, d'emploi et d'éducation.Occitanie\n",
            "https://www.lesechos.fr/pme-regions/ile-de-france/val-de-marne-la-gare-de-nogent-bastille-bientot-reconnue-patrimoine-dinteret-regional-1303714\n",
            "Val de Marne : la gare de Nogent-Bastille reconnue «patrimoine d'intérêt régional»La commission permanente de la Région ile de France a voté jeudi 1 er avril une nouvelle liste de 26 sites qui obtiendront d'ici peu le fameux sésame, ouvrant droit à des aides à la rénovation. Dans le Val de Marne, c'est l'ancienne gare de Nogent-sur-Marne qui sera distinguée.Île-de-France\n",
            "https://www.lesechos.fr/pme-regions/occitanie/sante-bastide-le-confort-medical-poursuit-sa-croissance-et-developpe-son-reseau-de-franchises-1303670\n",
            "Santé : Bastide Le Confort Médical poursuit sa croissance et développe son réseau de franchisesSpécialisé dans la fourniture de matériel médical, le groupe gardois a présenté fin mars ses résultats du premier semestre 2020-2021. Son chiffre d'affaires a progressé de 25,5 %. Bastide Le Confort Médical prévoit l'ouverture de cinq nouvelles franchises d'ici à la fin juin.Occitanie\n",
            "https://www.lesechos.fr/pme-regions/ile-de-france/yvelines-un-ambitieux-contrat-de-developpement-pour-mantes-la-ville-1303668\n",
            "Yvelines : un ambitieux contrat de développement pour Mantes-la-VilleLe Conseil départemental versera près de 12 millions d'euros à Mantes-la-Ville pour soutenir un plan de sauvegarde des services publics.Île-de-France\n",
            "https://www.lesechos.fr/pme-regions/grand-est/kronenbourg-lance-une-plateforme-numerique-pour-aider-la-filiere-cafe-restaurant-1303650\n",
            "Kronenbourg lance une plateforme numérique pour aider la filière café-restaurantLe brasseur alsacien a développé un « écosystème » mettant en relation ses clients de la filière café, hôtel et restaurant avec des start-up. Le but : leur faciliter l'accès à des services pouvant les aider à rebondir face à la crise.Grand Est\n",
            "https://www.lesechos.fr/pme-regions/occitanie/aura-aero-prepare-un-avion-de-transport-regional-electrique-1303645\n",
            "Aura Aero prépare un avion de transport régional électriqueLa jeune société toulousaine ouvre une usine pour construire son petit avion biplace de voltige et de formation avec un moteur thermique, puis électrique en 2023. Elle développe aussi un projet d'avion de transport régional électrique de 19 places avec le soutien de la région Occitanie et du fonds Innovacom, en attendant une levée de fonds plus importante.Occitanie\n",
            "https://www.lesechos.fr/pme-regions/hauts-de-france/interencheres-voit-les-ventes-de-sa-plateforme-senvoler-1303642\n",
            "Interencheres voit les ventes de sa plateforme s'envolerPorté par l'effet Covid, le site spécialisé dans les ventes retransmises sur Internet a enregistré, en 2020, une hausse de 81 % du nombre de produits vendus en ligne. Désormais, la communauté d'Interencheres avoisine le million d'utilisateurs.Hauts-de-France\n",
            "https://www.lesechos.fr/pme-regions/hauts-de-france/mercier-pousse-aux-encheres-en-ligne-ses-automobiles-collectors-1303641\n",
            "Mercier pousse aux enchères en ligne ses automobiles collectorsLa maison de ventes aux enchères lilloise s'est imposée comme l'un des spécialistes français des véhicules d'occasion ou de prestige. Il s'appuie sur une stratégie digitale offensive qui s'est amplifiée avec le Covid.Hauts-de-France\n",
            "https://www.lesechos.fr/patrimoine/placement/placements-ce-que-cachent-les-super-rendements-du-non-cote-1303858\n",
            "Placements : ce que cachent les super-rendements du non cotéInvestir dans le non coté, dans des entreprises ou dans de la pierre, évite que les performances soient liées aux évolutions erratiques des marchés immobiliers. Malgré des rendements prometteurs, ce placement à moyen terme ne garantit pas le capital.Placement\n",
            "https://www.lesechos.fr/patrimoine/placement/placements-lavenir-aux-audacieux-1303822\n",
            "ÉditoPlacements : l'avenir aux audacieuxQuelles solutions financières dans un environnement de taux durablement bas ? Plusieurs réponses peuvent résoudre cette difficile équation. L'inertie, en tout cas, n'est pas une solution.Placement\n",
            "https://www.lesechos.fr/patrimoine/immobilier/vente-dun-bien-loue-attention-au-droit-de-preemption-du-locataire-1303669\n",
            "ChroniqueVente d'un bien loué : attention au droit de préemption du locataire !Le fait qu'un logement soit loué n'empêche pas son propriétaire de le vendre. Ce dernier devra toutefois respecter un formalisme strict.Immobilier\n",
            "https://www.lesechos.fr/patrimoine/assurance/assurance-vie-les-nouveaux-criteres-de-choix-des-fonds-en-euros-1303653\n",
            "Assurance-vie : les nouveaux critères de choix des fonds en eurosFragilisés par l'effondrement de la courbe des taux obligataires, les assureurs tendent à serrer la vis d'accès aux fonds en euros ce qui exige des épargnants davantage de vigilance au moment de la souscription.Assurance\n",
            "https://www.lesechos.fr/patrimoine/placement/placements-cinq-reperes-pour-eviter-les-ecueils-des-fonds-structures-1303636\n",
            "Placements : cinq repères pour éviter les écueils des fonds structurésFaisant fi de la crise sanitaire, les offres structurées à capital protégé continuent d'afficher une santé éclatante qui pousse plus que jamais à s'interroger sur les ressorts de ces produits complexes.Placement\n",
            "https://www.lesechos.fr/patrimoine/assurance/assurance-vie-il-faut-soigner-les-clauses-beneficiaires-1303619\n",
            "ChroniqueAssurance-vie : il faut soigner les clauses bénéficiaires !Au moment de la souscription d'un contrat d'assurance-vie, l'épargnant est souvent focalisé sur le rendement des différents supports sous-jacents et sur la fiscalité. Les conditions de transmission au (x) bénéficiaire(s) sont aussi essentielles. Elles ne doivent pas être négligées.Assurance\n",
            "https://www.lesechos.fr/patrimoine/assurance/assurance-vie-le-match-des-unites-de-compte-immobilieres-1303561\n",
            "Assurance-vie : le match des unités de compte immobilièresParfois présentées comme des alternatives aux fonds en euros, les unités de compte immobilières présentent des atouts, mais aussi des risques. Le capital n'est pas garanti et les souscripteurs ne sont pas à l'abri de baisse de valeurs de parts. Il faut, en outre, investir sur le long terme pour amortir les frais.Assurance\n",
            "https://www.lesechos.fr/patrimoine/placement/immobilier-locatif-le-bon-filon-des-caves-parisiennes-1303556\n",
            "FocusImmobilier locatif : le bon filon des caves parisiennesQue ce soit à la location ou à la vente, le marché des caves en Ile-de-France, et particulièrement à Paris, tire son épingle du jeu même par temps de Covid-19.Placement\n",
            "https://www.lesechos.fr/patrimoine/investissements-plaisir/la-collection-aux-gouts-pointus-du-publicitaire-francis-gross-chez-christies-a-paris-1303552\n",
            "La collection aux goûts pointus du publicitaire Francis Gross chez Christie's à ParisLe 2 juin 2021 Christie's dispersera une partie de la collection d'un fameux publicitaire français mort prématurément, Francis Gross avec des Magritte, Dubuffet, Picasso… très choisis.Investissements plaisir\n",
            "https://www.lesechos.fr/patrimoine/placement/or-papier-ou-physique-faut-il-investir-aujourdhui-1303414\n",
            "Or papier ou physique : faut-il investir aujourd'hui ?Dépourvu de rendement l'or est un bon rempart contre l'inflation dont s'inquiètent aujourd'hui les marchés financiers. Quel pourcentage de son portefeuille y consacrer ? Sous quelle forme ? Est-ce le moment d'investir ? Les réponses des experts.Placement\n",
            "https://www.lesechos.fr/patrimoine/immobilier/immobilier-paris-baisse-le-reste-de-lile-de-france-grimpe-1303387\n",
            "Immobilier : Paris baisse, le reste de l'Ile-de-France grimpeAlors que les prix parisiens baissent depuis déjà huit mois, ceux du reste de l'Ile-de-France continuent d'augmenter. Mais la tendance va-t-elle se renverser ? La réponse avec l'indice des prix immobiliers Meilleurs Agents - « Les Echos ».Immobilier\n",
            "https://www.lesechos.fr/patrimoine/impots/impot-sur-la-fortune-immobiliere-du-nouveau-sur-les-exonerations-1303303\n",
            "DécryptageImpôt sur la fortune immobilière : du nouveau sur les exonérationsLa Justice et le ministère de l'Economie et des Finances ont récemment apporté plusieurs précisions concernant l'assujettissement des biens immobiliers et les conditions de leur exonération à l'impôt sur la fortune immobilière. Explications.Impôts\n",
            "https://www.lesechos.fr/patrimoine/immobilier/credit-immobilier-comment-renegocier-votre-assurance-emprunteur-1303233\n",
            "Crédit immobilier : comment renégocier votre assurance emprunteurPour réduire le coût de son crédit immobilier, la meilleure voie est souvent de s'attaquer à l'assurance-emprunteur. Vu la modicité de taux, c'est elle qui alourdit les mensualités.Immobilier\n",
            "https://www.lesechos.fr/patrimoine/placement/dynamiser-son-epargne-avec-la-tontine-1303140\n",
            "Dynamiser son épargne avec la tontineUne fois de plus, la tontine démontre dans le contexte fragile du moment sa capacité de résistance en cultivant l'art de faire du temps le meilleur des alliés patrimoniaux.Placement\n",
            "https://www.lesechos.fr/patrimoine/immobilier/le-bien-de-la-semaine-un-quatre-pieces-en-duplex-avec-vue-mer-pres-de-cannes-1303103\n",
            "Le bien de la semaine : un quatre-pièces en duplex avec vue mer près de CannesCet appartement de 90 mètres carrés entièrement rénové est situé sur les hauteurs de Golfe Juan, charmante station balnéaire à proximité de Cannes.Immobilier\n",
            "https://www.lesechos.fr/patrimoine/placement/quels-sont-les-meilleurs-fonds-pour-dynamiser-votre-contrat-dassurance-vie-1302967\n",
            "Quels sont les meilleurs fonds pour dynamiser votre contrat d'assurance-vie ?Renforcer et diversifier la poche unités de compte d'un contrat d'assurance-vie est une parade nécessaire pour faire face à des fonds en euros à la rémunération anémiée. Mais quels fonds choisir sans pour autant prendre trop de risques ?Placement\n",
            "https://www.lesechos.fr/patrimoine/placement/les-atouts-et-pieges-de-lepargne-de-precaution-1302814\n",
            "Les atouts et pièges de l'épargne de précautionQuelles sont les perspectives de rendement des produits de taux ? En choisissant de gonfler à bloc leur épargne de précaution, les Français ont résolument fait le choix de la sécurité aux dépens de la rentabilité. Mais cette stratégie n'est-elle pas source de fragilité à terme ? Nos éléments de réponse.Placement\n",
            "https://www.lesechos.fr/patrimoine/immobilier/7-questions-essentielles-sur-le-credit-immobilier-1302804\n",
            "7 questions essentielles sur le crédit immobilierLa clef de voûte d'une opération immobilière réussie est souvent le crédit. Comment obtenir les meilleures conditions ? Ce qu'il faut savoir dans un contexte à la fois évolutif et concurrentiel.Immobilier\n",
            "https://www.lesechos.fr/patrimoine/immobilier/immobilier-parisien-les-arrondissements-ou-on-peut-faire-des-affaires-1302631\n",
            "Immobilier parisien : les arrondissements où on peut faire des affairesA Paris, les prix de l'immobilier ancien continuent de s'effriter sur les trois premiers mois de l'année. Certains arrondissements sont plus touchés que d'autres. C'est le moment de faire des affaires car cette baisse pourrait n'être que temporaire.Immobilier\n",
            "https://www.lesechos.fr/patrimoine/impots/declaration-dimpot-2021-7-charges-ou-depenses-deductibles-de-votre-revenu-imposable-1302352\n",
            "Déclaration d'impôt 2021 : 7 charges ou dépenses déductibles de votre revenu imposableParmi les tactiques permettant de réduire le montant de la facture fiscale figurent en bonne place les déductions du revenu imposable. Certains d'entre elles sont des charges subies, d'autres relèvent de stratégies choisies. Ce qu'il faut savoir.Impôts\n",
            "https://www.lesechos.fr/patrimoine/impots/declarations-dimpots-2021-les-6-erreurs-a-eviter-1301823\n",
            "Déclarations d'impôts 2021 : les 6 erreurs à éviterC'est vrai, la tâche du contribuable est désormais facilitée. Reste que faire sa déclaration est un stress pour pas mal de d'entre eux qui craignent de se tromper. Bercy attire notre attention sur les erreurs les plus fréquentes.Impôts\n",
            "https://www.lesechos.fr/patrimoine/placement/placements-investir-pour-legalite-professionnelle-et-le-bien-etre-au-travail-1301793\n",
            "Placements : investir pour l'égalité professionnelle et le bien-être au travailEncore peu nombreux, quelques fonds actions mettent l'accent sur des sociétés dont le management est soucieux de la diversité des effectifs, de l'égalité professionnelle entre les sexes et du bien-être au travail.Placement\n",
            "https://www.lesechos.fr/patrimoine/placement/investir-sur-les-fonds-solidaires-et-de-partage-1301469\n",
            "Investir sur les fonds solidaires et de partageQuand un fonds passe au scanner du label ISR (investissement socialement responsable), l'aspect social des entreprises est toujours examiné. Reste que certains véhicules vont plus loin. Ils investissent dans des entreprises solidaires ou partagent le rendement avec des associations.Placement\n",
            "https://www.lesechos.fr/patrimoine/impots/bailleurs-soutenez-vos-locataires-et-beneficiez-dune-economie-fiscale-1301455\n",
            "ChroniqueBailleurs : soutenez vos locataires et bénéficiez d'une économie fiscale !Les bailleurs qui acceptent de faire cadeau du loyer de novembre dernier aux professionnels concernés par les mesures restrictives prises pour lutter contre la pandémie bénéficient, sous conditions, d'un crédit d'impôt.Impôts\n",
            "https://www.lesechos.fr/patrimoine/placement/placements-durables-sy-retrouver-dans-la-foire-aux-labels-1301449\n",
            "Placements durables : s'y retrouver dans la foire aux labelsL'univers de l'investissement socialement responsable (ISR) détient sans doute le record des labellisations et certificats en tout genre. Un foisonnement qui peut nuire à leur lisibilité. Explications.Placement\n"
          ],
          "name": "stdout"
        }
      ]
    },
    {
      "cell_type": "markdown",
      "metadata": {
        "id": "ZuyGboFfUm38"
      },
      "source": [
        "Création d'une dataframe pandas avec les donées récupérées"
      ]
    },
    {
      "cell_type": "code",
      "metadata": {
        "id": "Pvdlo8drfOtF"
      },
      "source": [
        "data  = pd.DataFrame({\n",
        "        'titles': titles,\n",
        "        'contents': content,\n",
        "        'urls': new_url,\n",
        "        'labels': label\n",
        "})"
      ],
      "execution_count": 61,
      "outputs": []
    },
    {
      "cell_type": "code",
      "metadata": {
        "colab": {
          "base_uri": "https://localhost:8080/"
        },
        "id": "W-tFwzJ240CT",
        "outputId": "e196d3c3-5faa-47d3-de00-eef7e51939e5"
      },
      "source": [
        "print(\"Nombre d'artciles conservés: \"+str(len(content)))"
      ],
      "execution_count": 62,
      "outputs": [
        {
          "output_type": "stream",
          "text": [
            "Nombre d'artciles conservés: 200\n"
          ],
          "name": "stdout"
        }
      ]
    },
    {
      "cell_type": "markdown",
      "metadata": {
        "id": "iPrx7JwCU6NH"
      },
      "source": [
        "Netoyage des données"
      ]
    },
    {
      "cell_type": "code",
      "metadata": {
        "colab": {
          "base_uri": "https://localhost:8080/"
        },
        "id": "lUaitgBboAnw",
        "outputId": "7b098ab0-3f2c-4416-b4ee-22adb98810fa"
      },
      "source": [
        "nltk.download(\"stopwords\")\n",
        "nltk.download('punkt')\n",
        "sw = stopwords.words('french') \n",
        "sw.extend(['a',\"d'\",\"n'\",\"l'\",'plus','moins','être','comme','avoir','ici','faire','faut','non','dit','ans','2020','2021','cette','mois','depuis','tous','contre','sous','cet']) # useless words to drop from contents"
      ],
      "execution_count": 63,
      "outputs": [
        {
          "output_type": "stream",
          "text": [
            "[nltk_data] Downloading package stopwords to /root/nltk_data...\n",
            "[nltk_data]   Package stopwords is already up-to-date!\n",
            "[nltk_data] Downloading package punkt to /root/nltk_data...\n",
            "[nltk_data]   Package punkt is already up-to-date!\n"
          ],
          "name": "stdout"
        }
      ]
    },
    {
      "cell_type": "markdown",
      "metadata": {
        "id": "mxhRkbihXnDK"
      },
      "source": [
        "Clusterisation"
      ]
    },
    {
      "cell_type": "code",
      "metadata": {
        "id": "MbziUwf3lPOh"
      },
      "source": [
        "\n",
        "vectorizer = TfidfVectorizer(stop_words=sw)\n",
        "text = data['contents'].values.astype(\"U\")\n",
        "X = vectorizer.fit_transform(text)\n",
        "true_k = 5 # clusters number\n",
        "model = KMeans(n_clusters=true_k, init='k-means++', max_iter=100, n_init=1)\n",
        "model.fit(X)\n",
        "order_centroids = model.cluster_centers_.argsort()[:, ::-1]\n",
        "terms = vectorizer.get_feature_names()"
      ],
      "execution_count": 64,
      "outputs": []
    },
    {
      "cell_type": "code",
      "metadata": {
        "colab": {
          "base_uri": "https://localhost:8080/"
        },
        "id": "WEt0a6EalT_w",
        "outputId": "5402b023-1134-4d19-8a19-da7831141dc8"
      },
      "source": [
        "result =[]\n",
        "\n",
        "for i in range(true_k):\n",
        "  print(\"Cluster %d:\" + str(i))\n",
        "  word_number = 10 # number of word for each clusters\n",
        "  temp = []\n",
        "  for ind in order_centroids[i, :word_number]:\n",
        "    temp.append(terms[ind])\n",
        "    \n",
        "    print(terms[ind])\n",
        "  result.append(temp)\n",
        "\n",
        "data['cluster']= model.labels_"
      ],
      "execution_count": 65,
      "outputs": [
        {
          "output_type": "stream",
          "text": [
            "Cluster %d:0\n",
            "seine\n",
            "euros\n",
            "millions\n",
            "marne\n",
            "ligne\n",
            "prix\n",
            "saint\n",
            "val\n",
            "département\n",
            "denis\n",
            "Cluster %d:1\n",
            "loi\n",
            "projet\n",
            "publicité\n",
            "sociale\n",
            "engagements\n",
            "telle\n",
            "annuel\n",
            "capital\n",
            "csa\n",
            "amendement\n",
            "Cluster %d:2\n",
            "milliards\n",
            "dollars\n",
            "euros\n",
            "année\n",
            "an\n",
            "banque\n",
            "épargne\n",
            "comptes\n",
            "trimestre\n",
            "groupe\n",
            "Cluster %d:3\n",
            "centre\n",
            "story\n",
            "abonner\n",
            "annulation\n",
            "ville\n",
            "toulouse\n",
            "deux\n",
            "centres\n",
            "métropole\n",
            "plui\n",
            "Cluster %d:4\n",
            "covid\n",
            "france\n",
            "millions\n",
            "vaccination\n",
            "ministre\n",
            "vaccin\n",
            "écoles\n",
            "gouvernement\n",
            "nouvelles\n",
            "mesures\n"
          ],
          "name": "stdout"
        }
      ]
    },
    {
      "cell_type": "code",
      "metadata": {
        "colab": {
          "base_uri": "https://localhost:8080/",
          "height": 204
        },
        "id": "G-RwfyGPhqGp",
        "outputId": "a9d13e83-eeca-4d32-9369-199fa16dd74d"
      },
      "source": [
        "pd.set_option('display.max_rows', None)\n",
        "data.head()"
      ],
      "execution_count": 66,
      "outputs": [
        {
          "output_type": "execute_result",
          "data": {
            "text/html": [
              "<div>\n",
              "<style scoped>\n",
              "    .dataframe tbody tr th:only-of-type {\n",
              "        vertical-align: middle;\n",
              "    }\n",
              "\n",
              "    .dataframe tbody tr th {\n",
              "        vertical-align: top;\n",
              "    }\n",
              "\n",
              "    .dataframe thead th {\n",
              "        text-align: right;\n",
              "    }\n",
              "</style>\n",
              "<table border=\"1\" class=\"dataframe\">\n",
              "  <thead>\n",
              "    <tr style=\"text-align: right;\">\n",
              "      <th></th>\n",
              "      <th>titles</th>\n",
              "      <th>contents</th>\n",
              "      <th>urls</th>\n",
              "      <th>labels</th>\n",
              "      <th>cluster</th>\n",
              "    </tr>\n",
              "  </thead>\n",
              "  <tbody>\n",
              "    <tr>\n",
              "      <th>0</th>\n",
              "      <td>Loi climat : l'Assemblée renforce la vigilance...</td>\n",
              "      <td>Les allégations écologiques des publicitaires,...</td>\n",
              "      <td>https://www.lesechos.fr/politique-societe/gouv...</td>\n",
              "      <td>politique-societe</td>\n",
              "      <td>1</td>\n",
              "    </tr>\n",
              "    <tr>\n",
              "      <th>1</th>\n",
              "      <td>Marlène Schiappa appelle « à la responsabilité...</td>\n",
              "      <td>Alors qu'un troisième confinement vient d'entr...</td>\n",
              "      <td>https://www.lesechos.fr/politique-societe/soci...</td>\n",
              "      <td>politique-societe</td>\n",
              "      <td>4</td>\n",
              "    </tr>\n",
              "    <tr>\n",
              "      <th>2</th>\n",
              "      <td>Fermeture des écoles : les embûches à surmonte...</td>\n",
              "      <td>A partir de ce mardi s'ouvre une période d'ens...</td>\n",
              "      <td>https://www.lesechos.fr/politique-societe/soci...</td>\n",
              "      <td>politique-societe</td>\n",
              "      <td>4</td>\n",
              "    </tr>\n",
              "    <tr>\n",
              "      <th>3</th>\n",
              "      <td>Covid : les communes sous pression avec la fer...</td>\n",
              "      <td>Branle-le-bas de combat dans les communes en v...</td>\n",
              "      <td>https://www.lesechos.fr/politique-societe/regi...</td>\n",
              "      <td>politique-societe</td>\n",
              "      <td>4</td>\n",
              "    </tr>\n",
              "    <tr>\n",
              "      <th>4</th>\n",
              "      <td>Confinement : les assistantes maternelles fina...</td>\n",
              "      <td>Le gouvernement a changé d'avis sur les assist...</td>\n",
              "      <td>https://www.lesechos.fr/politique-societe/soci...</td>\n",
              "      <td>politique-societe</td>\n",
              "      <td>4</td>\n",
              "    </tr>\n",
              "  </tbody>\n",
              "</table>\n",
              "</div>"
            ],
            "text/plain": [
              "                                              titles  ... cluster\n",
              "0  Loi climat : l'Assemblée renforce la vigilance...  ...       1\n",
              "1  Marlène Schiappa appelle « à la responsabilité...  ...       4\n",
              "2  Fermeture des écoles : les embûches à surmonte...  ...       4\n",
              "3  Covid : les communes sous pression avec la fer...  ...       4\n",
              "4  Confinement : les assistantes maternelles fina...  ...       4\n",
              "\n",
              "[5 rows x 5 columns]"
            ]
          },
          "metadata": {
            "tags": []
          },
          "execution_count": 66
        }
      ]
    },
    {
      "cell_type": "code",
      "metadata": {
        "id": "P15ayBQhhrNO"
      },
      "source": [
        "def createComparisonArray(labels): # function that takes an iterable and returns an array with true value for each value wich are the same base on the index\n",
        "  label_array = []\n",
        "  for i in  labels:\n",
        "    temp =[]\n",
        "    for j in labels:\n",
        "      if i == j:\n",
        "        temp.append(True)\n",
        "      else:\n",
        "        temp.append(False)\n",
        "    label_array.append(temp)\n",
        "  return label_array"
      ],
      "execution_count": 67,
      "outputs": []
    },
    {
      "cell_type": "code",
      "metadata": {
        "id": "d3F1hlu-uGeA"
      },
      "source": [
        "label_array = createComparisonArray(data['labels'])\n",
        "cluster_array = createComparisonArray(data['cluster'])"
      ],
      "execution_count": 68,
      "outputs": []
    },
    {
      "cell_type": "code",
      "metadata": {
        "id": "MHnKnTyXqI0D"
      },
      "source": [
        "def array_comparison(first_array,second_array): #function to compare two array that return the average similarity\n",
        "  res=0\n",
        "  for i in range(0,len(first_array)):\n",
        "    for j in range(0,len(first_array[0])):\n",
        "      if first_array[i][j]== second_array[i][j]:\n",
        "        res+=1\n",
        "  final_res = res / (len(first_array)*len(first_array[0]))\n",
        "  \n",
        "  return final_res\n",
        "\n"
      ],
      "execution_count": 69,
      "outputs": []
    },
    {
      "cell_type": "code",
      "metadata": {
        "colab": {
          "base_uri": "https://localhost:8080/"
        },
        "id": "Q3FFypgipwhg",
        "outputId": "a492c8ce-02a8-47f5-d38c-77864bfdd050"
      },
      "source": [
        "print(array_comparison(label_array,cluster_array))"
      ],
      "execution_count": 70,
      "outputs": [
        {
          "output_type": "stream",
          "text": [
            "0.67485\n"
          ],
          "name": "stdout"
        }
      ]
    },
    {
      "cell_type": "markdown",
      "metadata": {
        "id": "MOoLQ5ez2r3B"
      },
      "source": [
        "Fonction pour automatiser le clustering et y appliquer différents paramètres"
      ]
    },
    {
      "cell_type": "code",
      "metadata": {
        "id": "nxCh6pdN2ruF"
      },
      "source": [
        "def clustering(nb_cluster,nb_word):\n",
        "  \n",
        "  model = KMeans(n_clusters=nb_cluster, init='k-means++', max_iter=100, n_init=1)\n",
        "  model.fit(X)\n",
        "\n",
        "  order_centroids = model.cluster_centers_.argsort()[:, ::-1]\n",
        "  terms = vectorizer.get_feature_names()\n",
        "\n",
        "  result =[]\n",
        "\n",
        "  for i in range(nb_cluster):\n",
        "    temp = []\n",
        "    for ind in order_centroids[i, :nb_word]:\n",
        "      temp.append(terms[ind])\n",
        "    \n",
        "      \n",
        "    result.append(temp)\n",
        "\n",
        "  labels_comparison = createComparisonArray(data['labels'])\n",
        "  cluster_array = createComparisonArray(model.labels_)\n",
        "  a=array_comparison(label_array,cluster_array)\n",
        "  return a\n"
      ],
      "execution_count": 71,
      "outputs": []
    },
    {
      "cell_type": "markdown",
      "metadata": {
        "id": "NVB60Vi6-2TD"
      },
      "source": [
        "Test pour de 1 à 29 cluster avec 1 à 29 mots par cluster"
      ]
    },
    {
      "cell_type": "code",
      "metadata": {
        "id": "fHebD4eG2rmq"
      },
      "source": [
        "res_array = []\n",
        "\n",
        "for i in range(1,30):\n",
        "  temp = []\n",
        "  for j in range(1,30):\n",
        "    x= clustering(i,j)\n",
        "    temp.append(x)\n",
        "  res_array.append(temp)"
      ],
      "execution_count": 72,
      "outputs": []
    },
    {
      "cell_type": "markdown",
      "metadata": {
        "id": "zfu1t8R3VvqH"
      },
      "source": [
        "Moyenne des résultat pour chaque nombre de cluster ( de 1 à 29)"
      ]
    },
    {
      "cell_type": "code",
      "metadata": {
        "colab": {
          "base_uri": "https://localhost:8080/",
          "height": 302
        },
        "id": "roionblDsVUm",
        "outputId": "9dd92161-47cf-4095-982c-2a10fe683647"
      },
      "source": [
        "avg_res= []\n",
        "for elem in res_array:\n",
        "  temp = 0\n",
        "  for itm in elem:\n",
        "    temp+=itm\n",
        "  avg_res.append(temp / 29)\n",
        "\n",
        "print(avg_res)\n",
        "\n",
        "plt.plot(avg_res)\n",
        "plt.ylabel('Resultat moyen par nombre de cluster')\n",
        "plt.show()"
      ],
      "execution_count": 73,
      "outputs": [
        {
          "output_type": "stream",
          "text": [
            "[0.12509999999999988, 0.3940034482758621, 0.5140982758620689, 0.5933362068965518, 0.6423413793103447, 0.6656706896551725, 0.6918465517241381, 0.7224224137931036, 0.7397137931034481, 0.7326258620689655, 0.7474000000000001, 0.7564206896551723, 0.7964465517241379, 0.7759344827586208, 0.768889655172414, 0.7982017241379311, 0.7981051724137933, 0.8082637931034483, 0.7972741379310344, 0.8201706896551725, 0.8085224137931032, 0.8126206896551725, 0.8231827586206897, 0.8234189655172414, 0.8232275862068964, 0.8286879310344829, 0.8280637931034484, 0.8319137931034482, 0.8334844827586205]\n"
          ],
          "name": "stdout"
        },
        {
          "output_type": "display_data",
          "data": {
            "image/png": "[encoded data removed]",
            "text/plain": [
              "<Figure size 432x288 with 1 Axes>"
            ]
          },
          "metadata": {
            "tags": [],
            "needs_background": "light"
          }
        }
      ]
    },
    {
      "cell_type": "code",
      "metadata": {
        "colab": {
          "base_uri": "https://localhost:8080/",
          "height": 280
        },
        "id": "z0Dyg7hN6Zxw",
        "outputId": "2960a924-80b1-4aa9-b714-606413cfae01"
      },
      "source": [
        "\n",
        "plt.xlabel(\"Word number\")\n",
        "plt.ylabel(\"Cluster number\")\n",
        "plt.imshow(res_array)\n",
        "plt.show()"
      ],
      "execution_count": 74,
      "outputs": [
        {
          "output_type": "display_data",
          "data": {
            "image/png": "[encoded data removed]",
            "text/plain": [
              "<Figure size 432x288 with 1 Axes>"
            ]
          },
          "metadata": {
            "tags": [],
            "needs_background": "light"
          }
        }
      ]
    },
    {
      "cell_type": "markdown",
      "metadata": {
        "id": "bi4EnUAAXSlI"
      },
      "source": [
        "## Interpretation du programme\n",
        "\n",
        "Afin de vérifier l’efficacité de notre algorithme, nous avons créé une fonction permettant de tester la précision de notre kmeans. Nous avons effectué différent test en faisant varier le nombre de cluster ainsi que le nombre de mots par cluser et comparé la précision du clustering. Notre meilleure précision est atteinte lorsque nous choisissons 24 cluster. Il est également important de souligner que le nombre de mots par cluster n’influence pas ce nombre de cluster et que cela dépend donc juste de la diversité des articles.\n",
        "\n",
        "On peut expliquer ces résultats de différentes manières. \n",
        "\n",
        "Tout d’abord, l’actualité est centrée autour d’un theme assez récurrent qui est celui de la Covid-19. C’est pourquoi des mêmes termes reviennent souvent ce qui provoque une disparité dans les clusters (certains cluster vont être composé de mots venant de 3 articles, d’autre de 15). \n",
        "\n",
        "De plus, nous avons scrap des articles venant de catégorie comme « Région » ou bien encore « Patrimoine », or dans ces catégories, des articles peuvent aussi bien traiter de sport, de gastronomie, de tourisme ou d’animaux, ce qui peut expliquer la présence de nombreux cluster différent. Cependant, augmenter de façon importante le nombre de cluster va ainsi pousser ces articles qui n’ont rien à voir l’un de l’autre à créer des cluster encore plus petits et ainsi faire perdre en précision. Par exemple, sur une base de 10 articles, si chacun est totalement différent et qu’il y a 8 cluster, il sera très dur pour le modèle de définir à quel cluster appartient un article donné.\n",
        "\n",
        "Cependant, tandis que l’augmentation du nombre de cluster brouille la précision, il permet également d’avoir une potentielle séparation dans le grand cluster de la Covid dépendant des articles du moment. Comme les articles peuvent traiter de l’impact de la Covid dans des milieux comme l’économie, la santé, le tourisme, on a pu voir l’apparition d’un deuxieme cluster Covid durant les test, un traitant plus du vaccins, et l’autre de son impact sur l’éducation."
      ]
    },
    {
      "cell_type": "markdown",
      "metadata": {
        "id": "iJaiM3v8XUV2"
      },
      "source": [
        "## Conclusion\n",
        "\n",
        "Ce projet nous a permis de développer nos compétences en python mais également nos connaissances du non supervisé et comment faire varier la précision des modèles."
      ]
    }
  ]
}